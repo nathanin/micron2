{
 "cells": [
  {
   "cell_type": "code",
   "execution_count": null,
   "metadata": {},
   "outputs": [],
   "source": [
    "%load_ext autoreload\n",
    "%autoreload 2\n",
    "\n",
    "import numpy as np\n",
    "import pandas as pd\n",
    "import micron2\n",
    "\n",
    "import h5py\n",
    "import anndata\n",
    "import tqdm.auto as tqdm\n",
    "\n",
    "%matplotlib inline\n",
    "from matplotlib import pyplot as plt"
   ]
  },
  {
   "cell_type": "code",
   "execution_count": null,
   "metadata": {},
   "outputs": [],
   "source": [
    "!ls -lha /home/ingn/tmp/micron2-data"
   ]
  },
  {
   "cell_type": "markdown",
   "metadata": {},
   "source": [
    "## Define neighborhoods from xy-coordinates"
   ]
  },
  {
   "cell_type": "code",
   "execution_count": null,
   "metadata": {},
   "outputs": [],
   "source": [
    "data = h5py.File(\"/home/ingn/tmp/micron2-data/dataset.hdf5\", \"r\")"
   ]
  },
  {
   "cell_type": "code",
   "execution_count": null,
   "metadata": {},
   "outputs": [],
   "source": [
    "channel_names = [s.decode('utf-8') for s in data['meta']['channel_names'][:]]\n",
    "print(channel_names)"
   ]
  },
  {
   "cell_type": "code",
   "execution_count": null,
   "metadata": {},
   "outputs": [],
   "source": [
    "size = data['cells/DAPI'].shape[1]"
   ]
  },
  {
   "cell_type": "code",
   "execution_count": null,
   "metadata": {},
   "outputs": [],
   "source": [
    "from sklearn.neighbors import NearestNeighbors\n",
    "coords = data['meta/coordinates'][:]\n",
    "print(coords.shape)\n",
    "\n",
    "NBR = NearestNeighbors(n_neighbors=5, metric='minkowski', p=2)\n",
    "NBR.fit(coords)\n",
    "nbr = NBR.kneighbors(return_distance=False)\n",
    "\n",
    "print(nbr.shape)"
   ]
  },
  {
   "cell_type": "code",
   "execution_count": null,
   "metadata": {},
   "outputs": [],
   "source": [
    "def stack_neighbors(query, neighbors, src_dataset):\n",
    "    \"\"\"\n",
    "    Args:\n",
    "        query (int): the query cell, always first\n",
    "        neighbors (list): list of indices for the neighbors\n",
    "        dataset (HDF5 dataset): an open dataset. \n",
    "            something where `dataset[1,...]` works\n",
    "    Returns:\n",
    "        stack (np.ndarray): (N, H, W) stacked images same dtype as the input\n",
    "    \"\"\"\n",
    "    stack = np.stack([src_dataset[query,...]] + [src_dataset[i] for i in neighbors], axis=0)\n",
    "    return stack"
   ]
  },
  {
   "cell_type": "code",
   "execution_count": null,
   "metadata": {},
   "outputs": [],
   "source": [
    "# %%timeit\n",
    "i = np.random.choice(nbr.shape[0])\n",
    "s = stack_neighbors(i, nbr[i], data['cells/C1q'])\n",
    "print(s.shape)"
   ]
  },
  {
   "cell_type": "code",
   "execution_count": null,
   "metadata": {},
   "outputs": [],
   "source": [
    "out_h5 = h5py.File(\"/home/ingn/tmp/micron2-data/setdataset.hdf5\", \"w\")"
   ]
  },
  {
   "cell_type": "code",
   "execution_count": null,
   "metadata": {},
   "outputs": [],
   "source": [
    "n_cells = nbr.shape[0]\n",
    "\n",
    "# sample_rate = 0.25\n",
    "# n_sample = int(n_cells * sample_rate)\n",
    "# indices = np.random.choice(n_cells, n_sample, replace=False)\n",
    "# print(n_sample, indices.shape)\n",
    "\n",
    "indices = np.arange(n_cells)\n",
    "n_sample = n_cells\n",
    "\n",
    "n_neighbors = 5\n",
    "datasets = {}\n",
    "for c in channel_names:\n",
    "    d = out_h5.create_dataset(f'cells/{c}', \n",
    "                              shape=(n_sample,n_neighbors+1,size,size), \n",
    "                              maxshape=(None,n_neighbors+1,size,size),\n",
    "                              dtype='uint8', \n",
    "                              chunks=(1,1,size,size), # ?\n",
    "                              compression='gzip')\n",
    "    datasets[c] = d\n",
    "\n",
    "for c in tqdm.tqdm(channel_names):\n",
    "    print(c)\n",
    "    d = datasets[c]\n",
    "    for nx, i in enumerate(indices):\n",
    "        s = stack_neighbors(i, nbr[i], data[f'cells/{c}'])\n",
    "        d[nx,...] = s\n",
    "        \n",
    "    out_h5.flush()"
   ]
  },
  {
   "cell_type": "code",
   "execution_count": null,
   "metadata": {},
   "outputs": [],
   "source": [
    "out_h5.close()"
   ]
  },
  {
   "cell_type": "markdown",
   "metadata": {},
   "source": [
    "## Test the dataset"
   ]
  },
  {
   "cell_type": "code",
   "execution_count": null,
   "metadata": {},
   "outputs": [],
   "source": [
    "from micron2 import stream_dataset\n",
    "dataset = stream_dataset('/home/ingn/tmp/micron2-data/setdataset.hdf5')\n",
    "\n",
    "for k in dataset:\n",
    "    print(k.shape)\n",
    "    break"
   ]
  },
  {
   "cell_type": "code",
   "execution_count": null,
   "metadata": {},
   "outputs": [],
   "source": []
  }
 ],
 "metadata": {
  "kernelspec": {
   "display_name": "Python 3",
   "language": "python",
   "name": "python3"
  },
  "language_info": {
   "codemirror_mode": {
    "name": "ipython",
    "version": 3
   },
   "file_extension": ".py",
   "mimetype": "text/x-python",
   "name": "python",
   "nbconvert_exporter": "python",
   "pygments_lexer": "ipython3",
   "version": "3.7.9"
  }
 },
 "nbformat": 4,
 "nbformat_minor": 4
}
