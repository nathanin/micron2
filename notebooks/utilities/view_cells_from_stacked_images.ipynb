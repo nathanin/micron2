{
 "cells": [
  {
   "cell_type": "code",
   "execution_count": null,
   "id": "gorgeous-motorcycle",
   "metadata": {},
   "outputs": [],
   "source": [
    "%matplotlib inline\n",
    "from matplotlib import pyplot as plt\n",
    "\n",
    "import numpy as np"
   ]
  },
  {
   "cell_type": "code",
   "execution_count": null,
   "id": "subject-remove",
   "metadata": {},
   "outputs": [],
   "source": [
    "images = np.load('/storage/codex/preprocessed_data/pembro_TLS_panel/210702_PembroRT_Cas19_TLSpanel_reg2/training_cells_images.npy')\n",
    "annots = np.load('/storage/codex/preprocessed_data/pembro_TLS_panel/210702_PembroRT_Cas19_TLSpanel_reg2/training_cells_annots.npy')\n",
    "channels = np.load('/storage/codex/preprocessed_data/pembro_TLS_panel/210702_PembroRT_Cas19_TLSpanel_reg2/training_cells_channels.npy')\n",
    "\n",
    "channels = {k:i for i,k in enumerate(channels)}\n",
    "\n",
    "print(images.shape, images.dtype)\n",
    "print(annots.shape)\n",
    "print(np.unique(annots, return_counts=True))\n",
    "\n",
    "print(channels)"
   ]
  },
  {
   "cell_type": "code",
   "execution_count": null,
   "id": "accredited-detail",
   "metadata": {},
   "outputs": [],
   "source": [
    "# chs = ['DAPI', 'CD8', 'CD4', 'PanCytoK', 'CD138', 'CD20', 'CD45', 'CD68', 'CD31', 'CXCL13']\n",
    "chs = list(channels.keys())\n",
    "\n",
    "fig = plt.figure(figsize=(20,12))\n",
    "# inds = np.random.choice(images.shape[0], 4, replace=False)\n",
    "\n",
    "u_cts = np.unique(annots)\n",
    "\n",
    "m = 1\n",
    "for i,ct in enumerate(u_cts):\n",
    "    inds = np.nonzero(annots==ct)[0] \n",
    "    ind = np.random.choice(inds)\n",
    "    \n",
    "    for j,ch in enumerate(chs):\n",
    "        ax = fig.add_subplot(len(u_cts),len(chs),m)\n",
    "        m += 1\n",
    "        \n",
    "        k = channels[ch]\n",
    "        img = images[ind, :, :, k] / 255.\n",
    "        \n",
    "        b = ax.matshow(img, vmin=0, vmax=1)\n",
    "        # plt.colorbar(b, ax=ax)\n",
    "        ax.axis('off')\n",
    "    \n",
    "        if i==0:\n",
    "            ax.set_title(ch)\n",
    "        \n",
    "        if j==0:\n",
    "            ax.annotate(ct, (0.05, 0.8), xycoords='axes fraction', color='w')\n"
   ]
  },
  {
   "cell_type": "code",
   "execution_count": null,
   "id": "happy-technician",
   "metadata": {},
   "outputs": [],
   "source": []
  },
  {
   "cell_type": "code",
   "execution_count": null,
   "id": "eleven-venice",
   "metadata": {},
   "outputs": [],
   "source": []
  },
  {
   "cell_type": "code",
   "execution_count": null,
   "id": "indirect-blanket",
   "metadata": {},
   "outputs": [],
   "source": []
  },
  {
   "cell_type": "code",
   "execution_count": null,
   "id": "preliminary-seattle",
   "metadata": {},
   "outputs": [],
   "source": []
  },
  {
   "cell_type": "code",
   "execution_count": null,
   "id": "corresponding-preparation",
   "metadata": {},
   "outputs": [],
   "source": []
  },
  {
   "cell_type": "code",
   "execution_count": null,
   "id": "fatty-settle",
   "metadata": {},
   "outputs": [],
   "source": []
  },
  {
   "cell_type": "code",
   "execution_count": null,
   "id": "administrative-medicaid",
   "metadata": {},
   "outputs": [],
   "source": []
  }
 ],
 "metadata": {
  "kernelspec": {
   "display_name": "Python (micron2-tf)",
   "language": "python",
   "name": "micron2-tf"
  },
  "language_info": {
   "codemirror_mode": {
    "name": "ipython",
    "version": 3
   },
   "file_extension": ".py",
   "mimetype": "text/x-python",
   "name": "python",
   "nbconvert_exporter": "python",
   "pygments_lexer": "ipython3",
   "version": "3.8.5"
  }
 },
 "nbformat": 4,
 "nbformat_minor": 5
}
