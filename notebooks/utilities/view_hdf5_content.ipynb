{
 "cells": [
  {
   "cell_type": "code",
   "execution_count": null,
   "id": "ambient-virgin",
   "metadata": {},
   "outputs": [],
   "source": [
    "import h5py\n",
    "import numpy as np\n",
    "import glob"
   ]
  },
  {
   "cell_type": "code",
   "execution_count": null,
   "id": "decent-illustration",
   "metadata": {},
   "outputs": [],
   "source": [
    "path = f'/storage/codex/preprocessed_data/*/*.hdf5'\n",
    "files = sorted(glob.glob(path))\n",
    "_ = [print(f) for f in files]"
   ]
  },
  {
   "cell_type": "code",
   "execution_count": null,
   "id": "opposed-eight",
   "metadata": {},
   "outputs": [],
   "source": [
    "f = '/storage/codex/preprocessed_data/210125_Breast_Cassette5_reg1/210125_Breast_Cassette5_reg1.hdf5'\n",
    "with h5py.File(f, 'r') as hf:\n",
    "    for k in hf.keys():\n",
    "        print(f'{k}')\n",
    "            \n",
    "        if k != 'meta':\n",
    "            k0 = list(hf[k].keys())[0]\n",
    "            d = hf[k][k0]\n",
    "            print(f'\\t{len(hf[k].keys())} channels @ {d.shape} {d.dtype}')\n",
    "            print(f'\\tattr:{list(d.attrs.keys())}')\n",
    "            continue\n",
    "            \n",
    "        for a in hf[k].attrs.keys():\n",
    "            print(f'\\tattr: {a}')\n",
    "            \n",
    "        if hasattr(hf[k], 'keys'):\n",
    "            for k2 in hf[k].keys():\n",
    "                print(f'\\t{k2}')\n"
   ]
  },
  {
   "cell_type": "code",
   "execution_count": null,
   "id": "seeing-carpet",
   "metadata": {},
   "outputs": [],
   "source": [
    "with h5py.File(f, 'r') as hf:\n",
    "#     print(hf['cell_membrane_stats']['CD45'].shape)\n",
    "    print(hf['meta/channel_names'][:])"
   ]
  },
  {
   "cell_type": "code",
   "execution_count": null,
   "id": "prospective-platinum",
   "metadata": {},
   "outputs": [],
   "source": []
  },
  {
   "cell_type": "code",
   "execution_count": null,
   "id": "relevant-circuit",
   "metadata": {},
   "outputs": [],
   "source": []
  }
 ],
 "metadata": {
  "kernelspec": {
   "display_name": "Python 3",
   "language": "python",
   "name": "python3"
  },
  "language_info": {
   "codemirror_mode": {
    "name": "ipython",
    "version": 3
   },
   "file_extension": ".py",
   "mimetype": "text/x-python",
   "name": "python",
   "nbconvert_exporter": "python",
   "pygments_lexer": "ipython3",
   "version": "3.8.5"
  }
 },
 "nbformat": 4,
 "nbformat_minor": 5
}
