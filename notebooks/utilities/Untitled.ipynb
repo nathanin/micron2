{
 "cells": [
  {
   "cell_type": "code",
   "execution_count": null,
   "id": "introductory-custom",
   "metadata": {},
   "outputs": [],
   "source": [
    "%load_ext autoreload\n",
    "%autoreload 2\n",
    "%matplotlib inline\n",
    "import scanpy as sc\n",
    "import numpy as np\n",
    "from matplotlib import pyplot as plt\n",
    "import seaborn as sns\n",
    "import scrna"
   ]
  },
  {
   "cell_type": "code",
   "execution_count": null,
   "id": "european-robert",
   "metadata": {},
   "outputs": [],
   "source": [
    "adata = sc.read_h5ad(\"/storage/codex/datasets_v1/merged_v3_nosubtract.h5ad\")\n",
    "adata"
   ]
  },
  {
   "cell_type": "code",
   "execution_count": null,
   "id": "biblical-colors",
   "metadata": {},
   "outputs": [],
   "source": [
    "scrna.plot_group_percents(adata, 'celltype_gating', 'biopsy', sort_by='CD8T')"
   ]
  },
  {
   "cell_type": "code",
   "execution_count": null,
   "id": "crazy-western",
   "metadata": {},
   "outputs": [],
   "source": [
    "scrna.plot_group_percents(adata, 'biopsy', 'celltype_gating')"
   ]
  },
  {
   "cell_type": "code",
   "execution_count": null,
   "id": "hybrid-survivor",
   "metadata": {},
   "outputs": [],
   "source": []
  },
  {
   "cell_type": "code",
   "execution_count": null,
   "id": "technical-senate",
   "metadata": {},
   "outputs": [],
   "source": []
  },
  {
   "cell_type": "code",
   "execution_count": null,
   "id": "demanding-briefing",
   "metadata": {},
   "outputs": [],
   "source": []
  }
 ],
 "metadata": {
  "kernelspec": {
   "display_name": "Python 3",
   "language": "python",
   "name": "python3"
  },
  "language_info": {
   "codemirror_mode": {
    "name": "ipython",
    "version": 3
   },
   "file_extension": ".py",
   "mimetype": "text/x-python",
   "name": "python",
   "nbconvert_exporter": "python",
   "pygments_lexer": "ipython3",
   "version": "3.8.5"
  }
 },
 "nbformat": 4,
 "nbformat_minor": 5
}
