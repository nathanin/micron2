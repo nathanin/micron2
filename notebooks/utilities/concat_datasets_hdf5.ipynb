{
 "cells": [
  {
   "cell_type": "code",
   "execution_count": null,
   "id": "obvious-financing",
   "metadata": {},
   "outputs": [],
   "source": [
    "%load_ext autoreload\n",
    "%autoreload 2\n",
    "%matplotlib inline\n",
    "\n",
    "from micron2.data import hdf5_concat\n",
    "import glob\n",
    "\n",
    "import os\n",
    "import numpy as np\n",
    "\n",
    "from matplotlib import pyplot as plt\n",
    "import h5py"
   ]
  },
  {
   "cell_type": "code",
   "execution_count": null,
   "id": "downtown-abortion",
   "metadata": {},
   "outputs": [],
   "source": [
    "datasets = sorted(glob.glob(\"/storage/codex/preprocessed_data/*/*.hdf5\"))\n",
    "print(datasets)"
   ]
  },
  {
   "cell_type": "code",
   "execution_count": null,
   "id": "absolute-passion",
   "metadata": {},
   "outputs": [],
   "source": [
    "dataset_names = [os.path.splitext(os.path.basename(x))[0] for x in datasets]\n",
    "sample_layout = np.array(dataset_names).reshape(2,-1)\n",
    "print(sample_layout)"
   ]
  },
  {
   "cell_type": "code",
   "execution_count": null,
   "id": "purple-patient",
   "metadata": {},
   "outputs": [],
   "source": [
    "hdf5_concat(datasets, \"/storage/codex/datasets_v1/merged_v2.hdf5\",  \n",
    "            channels=None,\n",
    "            sample_layout=sample_layout)"
   ]
  },
  {
   "cell_type": "code",
   "execution_count": null,
   "id": "african-adventure",
   "metadata": {},
   "outputs": [],
   "source": [
    "with h5py.File(\"/storage/codex/datasets_v1/merged_v2.hdf5\", \"r\") as f:\n",
    "    print(f['meta/cell_samples'][:5])\n",
    "    print(f['meta/image_samples'][:5])\n",
    "    labels = np.array([x.decode('utf-8') for x in f['meta/image_samples'][:]])\n",
    "    coords = f['meta/tile_coordinates_shift'][:]\n",
    "print(labels.shape, coords.shape)"
   ]
  },
  {
   "cell_type": "code",
   "execution_count": null,
   "id": "hindu-subcommittee",
   "metadata": {},
   "outputs": [],
   "source": [
    "plt.figure()\n",
    "for i in np.unique(labels):\n",
    "    lx = labels==i\n",
    "    plt.scatter(coords[lx,0], coords[lx,1])"
   ]
  },
  {
   "cell_type": "code",
   "execution_count": null,
   "id": "productive-formula",
   "metadata": {},
   "outputs": [],
   "source": []
  }
 ],
 "metadata": {
  "kernelspec": {
   "display_name": "Python 3",
   "language": "python",
   "name": "python3"
  },
  "language_info": {
   "codemirror_mode": {
    "name": "ipython",
    "version": 3
   },
   "file_extension": ".py",
   "mimetype": "text/x-python",
   "name": "python",
   "nbconvert_exporter": "python",
   "pygments_lexer": "ipython3",
   "version": "3.8.5"
  }
 },
 "nbformat": 4,
 "nbformat_minor": 5
}
