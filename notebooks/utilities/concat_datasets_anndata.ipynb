{
 "cells": [
  {
   "cell_type": "code",
   "execution_count": null,
   "id": "located-thread",
   "metadata": {},
   "outputs": [],
   "source": [
    "%load_ext autoreload\n",
    "%autoreload 2\n",
    "%matplotlib inline\n",
    "\n",
    "import numpy as np\n",
    "import pandas as pd\n",
    "import scanpy as sc\n",
    "\n",
    "import glob\n",
    "import os\n",
    "import scrna\n",
    "import h5py\n",
    "\n",
    "from micron2 import load_as_anndata\n",
    "from micron2 import cluster_leiden_cu\n",
    "from cuml import UMAP\n",
    "\n",
    "import tqdm.auto as tqdm\n",
    "\n",
    "from matplotlib import pyplot as plt\n",
    "from matplotlib import rcParams\n",
    "import time\n",
    "\n",
    "from micron2.data import staining_border_nonzero"
   ]
  },
  {
   "cell_type": "code",
   "execution_count": null,
   "id": "nominated-alert",
   "metadata": {},
   "outputs": [],
   "source": [
    "datasets = !ls -lha /storage/codex/preprocessed_data/*/*.hdf5 | awk '{print $9}'\n",
    "datasets"
   ]
  },
  {
   "cell_type": "code",
   "execution_count": null,
   "id": "vocational-logistics",
   "metadata": {},
   "outputs": [],
   "source": [
    "len(datasets)"
   ]
  },
  {
   "cell_type": "code",
   "execution_count": null,
   "id": "reserved-andorra",
   "metadata": {},
   "outputs": [],
   "source": [
    "ring_channels = ['CD45', 'CD20', 'CD3e', 'CD45RO', 'CD45RA', 'CD8', 'CD4']\n",
    "adatas = []\n",
    "sample_ids = []\n",
    "for path in datasets:\n",
    "    try:\n",
    "        ad = load_as_anndata(path, \n",
    "                             recover_tile_nuclei=False, \n",
    "                             as_sparse = True\n",
    "                            )\n",
    "    except:\n",
    "        print('failed to load', path)\n",
    "        continue\n",
    "    \n",
    "#     # Apply staining border function\n",
    "#     with h5py.File(ad.uns['source_data'], 'r') as h5f:\n",
    "#         ncells = ad.shape[0]\n",
    "#         h5_ncells = h5f['cell_intensity']['DAPI'][:].shape[0]\n",
    "#         print(ncells, h5_ncells)\n",
    "#         ring_positive_pct = pd.DataFrame(index=ad.obs_names,\n",
    "#                                          columns=[f'{ch}_ringpct' for ch in ring_channels],\n",
    "#                                          dtype=np.float32\n",
    "#                                         )\n",
    "#         tstart = time.time()\n",
    "#         for i in tqdm.trange(ncells):\n",
    "#             m = h5f['meta']['nuclear_masks'][i,...]\n",
    "#             vect = []\n",
    "#             for ch in ring_channels:\n",
    "#                 x = h5f['cells'][ch][i,...]\n",
    "#                 v = staining_border_nonzero(x,m)\n",
    "#                 vect.append(v)\n",
    "#             ring_positive_pct.loc[ad.obs_names[i],:] = vect\n",
    "#         tend = time.time()\n",
    "#         print(f'elapsed time: {tend-tstart:3.4f}s')\n",
    "#     ad.obs = pd.concat([ad.obs, ring_positive_pct], axis=1)\n",
    "\n",
    "    \n",
    "    adatas.append(ad.copy()) \n",
    "    s = os.path.splitext(os.path.basename(path))[0]\n",
    "    sample_ids.append(s)\n",
    "\n",
    "adata = adatas[0].concatenate(adatas[1:], batch_key='sample_id', batch_categories=sample_ids, \n",
    "                              index_unique = '-')\n",
    "print(sample_ids)\n",
    "adata.raw = adata\n"
   ]
  },
  {
   "cell_type": "code",
   "execution_count": null,
   "id": "national-gauge",
   "metadata": {},
   "outputs": [],
   "source": [
    "print(len(sample_ids))\n",
    "sample_ids"
   ]
  },
  {
   "cell_type": "code",
   "execution_count": null,
   "id": "cardiac-poison",
   "metadata": {},
   "outputs": [],
   "source": [
    "sample_ids_padded = sample_ids\n",
    "while len(sample_ids_padded) % 2 != 0:\n",
    "    sample_ids_padded.append('pass')\n",
    "sample_layout = np.expand_dims(np.array(sample_ids_padded), axis=0).reshape(2,-1)\n",
    "# sample_layout = np.expand_dims(np.array(sample_ids+['pass']), axis=0).reshape(2,-1)\n",
    "print(np.array(sample_ids).shape)\n",
    "print(sample_layout.shape)\n",
    "print(sample_layout)"
   ]
  },
  {
   "cell_type": "code",
   "execution_count": null,
   "id": "false-proportion",
   "metadata": {},
   "outputs": [],
   "source": [
    "# sample_layout = np.array(sample_ids).reshape(2,-1)\n",
    "def shift_coordinates(adata, sample_layout):\n",
    "    # rows and columns are flipped again\n",
    "    \n",
    "    nr,nc = sample_layout.shape\n",
    "    print('layout', nr,nc)\n",
    "    \n",
    "    coords = adata.obsm['coordinates'].copy()\n",
    "    # Flip dim1 (vertical dimension)\n",
    "    coords[:,1] = -coords[:,1]\n",
    "        \n",
    "    #nrange=nr+1 if nr==1 else nr\n",
    "    #crange=nc+1 if nc==1 else nc\n",
    "    print('ranges', nr, nc)\n",
    "    for r2 in range(nr):\n",
    "        print('row', r2)\n",
    "        if r2>0:\n",
    "            ref_row = r2-1 if r2>0 else r2\n",
    "            print('\\treference row:', ref_row)\n",
    "            #row_ref_slide = sample_layout[ref_row,c2] \n",
    "            row_shift = current_row_max\n",
    "            print('\\trow shift:', row_shift)\n",
    "        else: \n",
    "            row_shift = 0\n",
    "        \n",
    "        current_row_max = 0\n",
    "        for c2 in range(nc):\n",
    "            print('\\tcolumn', c2)\n",
    "            if r2==0 and c2==0: continue\n",
    "            \n",
    "            # curr_row=r2-1 if r2>=nr else r2\n",
    "            # curr_col=c2-1 if c2>=nc else c2\n",
    "            \n",
    "            print('\\t\\tlocation', r2, c2)\n",
    "            target_slide = sample_layout[r2,c2]\n",
    "            if target_slide == 'pass':\n",
    "                continue\n",
    "            if target_slide is None:\n",
    "                continue\n",
    "            print('\\t\\ttarget slide:', target_slide)\n",
    "            \n",
    "            ref_col = c2-1 if c2>0 else c2\n",
    "            print('\\t\\treference col:', ref_col)\n",
    "            col_ref_slide = sample_layout[r2,ref_col] \n",
    "            #print('row reference:', row_ref_slide)\n",
    "            print('\\t\\tcol reference:', col_ref_slide)\n",
    "            \n",
    "            target_idx = adata.obs.sample_id.values==target_slide\n",
    "            target_coords = coords[target_idx].copy()\n",
    "            print('\\t\\tstart:', max(target_coords[:,0]), max(target_coords[:,1]))\n",
    "                \n",
    "            print('\\t\\tshifting rows (dim1) by', row_shift)\n",
    "            target_coords[:,1] += row_shift\n",
    "            if max(target_coords[:,1]) > current_row_max:\n",
    "                print('\\t\\tfound new row max')\n",
    "                current_row_max = max(target_coords[:,1])\n",
    "            \n",
    "            if col_ref_slide != target_slide:\n",
    "                col_ref = coords[adata.obs.sample_id==col_ref_slide]\n",
    "                col_max = max(col_ref[:,0])\n",
    "                print('\\t\\tshifting cols (dim0) by', col_max)\n",
    "                target_coords[:,0] += col_max\n",
    "            \n",
    "            print('\\t\\tend:', max(target_coords[:,0]), max(target_coords[:,1]))\n",
    "            coords[target_idx] = target_coords\n",
    "            \n",
    "    # Flip dim1 (vertical dimension)\n",
    "    coords[:,1] = -coords[:,1]\n",
    "    return coords\n",
    "    \n",
    "print(sample_layout)\n",
    "shifted_coords = shift_coordinates(adata, sample_layout)\n",
    "adata.obsm['coordinates_shift'] = shifted_coords\n",
    "adata.uns['sample_layout'] = sample_layout\n",
    "\n"
   ]
  },
  {
   "cell_type": "code",
   "execution_count": null,
   "id": "mature-medicare",
   "metadata": {},
   "outputs": [],
   "source": [
    "sample_id_printing = [x.split('Breast_')[1].replace('_','\\n') for x in adata.obs.sample_id]\n",
    "adata.obs['sample_id_printing'] = sample_id_printing"
   ]
  },
  {
   "cell_type": "code",
   "execution_count": null,
   "id": "diagnostic-oregon",
   "metadata": {},
   "outputs": [],
   "source": [
    "rcParams['figure.dpi'] = 300\n",
    "rcParams['figure.facecolor'] = (1,1,1,1)\n",
    "r = np.max(np.abs(adata.obsm['coordinates_shift']), axis=0)\n",
    "r = r[0]/r[1]\n",
    "plt.figure(figsize=(r*5,5))\n",
    "sc.pl.embedding(adata, basis='coordinates_shift', color='sample_id_printing', ax=plt.gca(), \n",
    "                legend_loc='on data')"
   ]
  },
  {
   "cell_type": "code",
   "execution_count": null,
   "id": "supported-somalia",
   "metadata": {},
   "outputs": [],
   "source": []
  },
  {
   "cell_type": "code",
   "execution_count": null,
   "id": "posted-participant",
   "metadata": {},
   "outputs": [],
   "source": [
    "print(adata.shape)"
   ]
  },
  {
   "cell_type": "code",
   "execution_count": null,
   "id": "worth-morrison",
   "metadata": {},
   "outputs": [],
   "source": [
    "adata.uns['channels'] = ad.uns['channels']"
   ]
  },
  {
   "cell_type": "code",
   "execution_count": null,
   "id": "outdoor-dance",
   "metadata": {},
   "outputs": [],
   "source": [
    "adata"
   ]
  },
  {
   "cell_type": "code",
   "execution_count": null,
   "id": "rough-brazilian",
   "metadata": {},
   "outputs": [],
   "source": [
    "!ls -lha /storage/codex/datasets_v1/"
   ]
  },
  {
   "cell_type": "code",
   "execution_count": null,
   "id": "painted-tyler",
   "metadata": {},
   "outputs": [],
   "source": [
    "adata.write(\"/storage/codex/datasets_v1/merged_v3.h5ad\")"
   ]
  },
  {
   "cell_type": "code",
   "execution_count": null,
   "id": "according-professional",
   "metadata": {},
   "outputs": [],
   "source": []
  }
 ],
 "metadata": {
  "kernelspec": {
   "display_name": "Python 3",
   "language": "python",
   "name": "python3"
  },
  "language_info": {
   "codemirror_mode": {
    "name": "ipython",
    "version": 3
   },
   "file_extension": ".py",
   "mimetype": "text/x-python",
   "name": "python",
   "nbconvert_exporter": "python",
   "pygments_lexer": "ipython3",
   "version": "3.8.5"
  }
 },
 "nbformat": 4,
 "nbformat_minor": 5
}
