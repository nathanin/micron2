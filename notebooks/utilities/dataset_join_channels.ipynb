{
 "cells": [
  {
   "cell_type": "markdown",
   "id": "institutional-diabetes",
   "metadata": {},
   "source": [
    "This is an experiment to see if we can make training go faster\n",
    "withouth loading the whole dataset into RAM.\n",
    "\n",
    "The question is, if we pick the channels that we care about and store the nuclei as a single dataset like:\n",
    "\n",
    "```\n",
    "hdf5:\n",
    "    /cells/ # shape N x H x W x C\n",
    "```\n",
    "\n",
    "Does that fix the loading bottleneck?\n"
   ]
  },
  {
   "cell_type": "code",
   "execution_count": null,
   "id": "adapted-pittsburgh",
   "metadata": {},
   "outputs": [],
   "source": [
    "from IPython.core.display import display, HTML\n",
    "display(HTML(\"<style>.container { width:100% !important; }</style>\"))"
   ]
  },
  {
   "cell_type": "code",
   "execution_count": null,
   "id": "equal-monitoring",
   "metadata": {},
   "outputs": [],
   "source": [
    "%load_ext autoreload\n",
    "%autoreload 2\n",
    "import h5py\n",
    "import numpy as np\n",
    "from micron2 import hdf5_info\n",
    "\n",
    "import tqdm.auto as tqdm"
   ]
  },
  {
   "cell_type": "code",
   "execution_count": null,
   "id": "intensive-criterion",
   "metadata": {},
   "outputs": [],
   "source": [
    "h5in = '/storage/codex/datasets_v1/bladder_merged_v4.hdf5'\n",
    "hdf5_info(h5in)\n",
    "# with h5py.File(h5in, \"r\") as f:\n",
    "#     print(f.keys())\n",
    "#     print(f.keys())"
   ]
  },
  {
   "cell_type": "code",
   "execution_count": null,
   "id": "practical-forest",
   "metadata": {},
   "outputs": [],
   "source": [
    "with h5py.File(h5in, 'r') as f:\n",
    "    channels = [x.decode('utf-8') for x in f['meta/channel_names'][:]]\n",
    "    n_cells = f['meta/Cell_IDs'].shape[0]\n",
    "    shape = f[f'cells/DAPI'].shape[1]\n",
    "print(channels)\n",
    "print(n_cells)\n",
    "print(shape)"
   ]
  },
  {
   "cell_type": "code",
   "execution_count": null,
   "id": "useful-martial",
   "metadata": {},
   "outputs": [],
   "source": [
    "h5out = '/home/ingn/tmp/micron2-data/bladder_merged_v4.cells.hdf5'\n",
    "# h5out = '/home/ingn/tmp/micron2-data/210113_Breast_Cassette11_reg1_nosubtract.mergedCells.hdf5'\n",
    "# h5out = '/home/ingn/tmp/micron2-data/210122_Breast_Cassette7_reg2.hdf5.cells.hdf5'"
   ]
  },
  {
   "cell_type": "code",
   "execution_count": null,
   "id": "sealed-respondent",
   "metadata": {},
   "outputs": [],
   "source": [
    "with h5py.File(h5out, \"w\", rdcc_nbytes=shape*shape*len(channels)*200000) as fout, h5py.File(h5in, \"r\") as fin:\n",
    "    d = fout.create_dataset('/images/cells', shape=(n_cells, shape, shape, len(channels)),\n",
    "                            chunks=(1, shape, shape, 1),\n",
    "                            dtype='uint8',\n",
    "                            compression='gzip')\n",
    "    print('finished creating dataset')\n",
    "#     with h5py.File(h5in, \"r\") as fin:\n",
    "    with tqdm.trange(n_cells) as pbar:\n",
    "        # pbar.set_description(f'channel: {ch} ({i}/{len(channels)})')\n",
    "        for j in pbar:\n",
    "            img = np.zeros((1,shape,shape,len(channels)))\n",
    "            for i,ch in enumerate(channels):  \n",
    "                img[0,:,:,i:i+1] = np.expand_dims(fin[f'cells/{ch}'][j:j+1,...], axis=-1)\n",
    "                \n",
    "#                 d[j:j+1,:,:,i:i+i] = np.expand_dims(np.expand_dims(fin[f'cells/{ch}'][j,...], axis=0), axis=-1)\n",
    "            d[j:j+1,:,:,:] = img\n",
    "            #fout.flush()\n",
    "\n",
    "    for k in fin['meta'].keys():\n",
    "        _ = fout.create_dataset(f'meta/{k}', data=fin[f'meta/{k}'][:])\n"
   ]
  },
  {
   "cell_type": "code",
   "execution_count": null,
   "id": "welcome-joyce",
   "metadata": {},
   "outputs": [],
   "source": [
    "hdf5_info(h5out)"
   ]
  },
  {
   "cell_type": "code",
   "execution_count": null,
   "id": "olive-amsterdam",
   "metadata": {},
   "outputs": [],
   "source": []
  },
  {
   "cell_type": "code",
   "execution_count": null,
   "id": "environmental-picture",
   "metadata": {},
   "outputs": [],
   "source": []
  },
  {
   "cell_type": "code",
   "execution_count": null,
   "id": "administrative-traveler",
   "metadata": {},
   "outputs": [],
   "source": []
  },
  {
   "cell_type": "code",
   "execution_count": null,
   "id": "juvenile-sellers",
   "metadata": {},
   "outputs": [],
   "source": []
  },
  {
   "cell_type": "code",
   "execution_count": null,
   "id": "legendary-retreat",
   "metadata": {},
   "outputs": [],
   "source": []
  }
 ],
 "metadata": {
  "kernelspec": {
   "display_name": "Python 3",
   "language": "python",
   "name": "python3"
  },
  "language_info": {
   "codemirror_mode": {
    "name": "ipython",
    "version": 3
   },
   "file_extension": ".py",
   "mimetype": "text/x-python",
   "name": "python",
   "nbconvert_exporter": "python",
   "pygments_lexer": "ipython3",
   "version": "3.8.5"
  }
 },
 "nbformat": 4,
 "nbformat_minor": 5
}
