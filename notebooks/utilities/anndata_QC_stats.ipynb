{
 "cells": [
  {
   "cell_type": "code",
   "execution_count": null,
   "id": "skilled-functionality",
   "metadata": {},
   "outputs": [],
   "source": [
    "%load_ext autoreload\n",
    "%autoreload 2\n",
    "%matplotlib inline\n",
    "import scanpy as sc\n",
    "import pandas as pd\n",
    "import numpy as np\n",
    "\n",
    "from matplotlib import pyplot as plt\n",
    "from matplotlib import rcParams"
   ]
  },
  {
   "cell_type": "code",
   "execution_count": null,
   "id": "logical-footwear",
   "metadata": {},
   "outputs": [],
   "source": [
    "!ls /storage/codex/datasets_v1/*.h5ad"
   ]
  },
  {
   "cell_type": "code",
   "execution_count": null,
   "id": "dense-process",
   "metadata": {},
   "outputs": [],
   "source": [
    "ad = sc.read_h5ad('/storage/codex/datasets_v1/joined_dataset.h5ad')\n",
    "ad"
   ]
  },
  {
   "cell_type": "code",
   "execution_count": null,
   "id": "eleven-script",
   "metadata": {},
   "outputs": [],
   "source": [
    "v1 = np.log1p(ad[:,'CD4'].X)\n",
    "v2 = np.log1p(ad[:,'CD8'].X)\n",
    "plt.scatter(v1,v2,s=1)"
   ]
  }
 ],
 "metadata": {
  "kernelspec": {
   "display_name": "Python 3",
   "language": "python",
   "name": "python3"
  },
  "language_info": {
   "codemirror_mode": {
    "name": "ipython",
    "version": 3
   },
   "file_extension": ".py",
   "mimetype": "text/x-python",
   "name": "python",
   "nbconvert_exporter": "python",
   "pygments_lexer": "ipython3",
   "version": "3.8.5"
  }
 },
 "nbformat": 4,
 "nbformat_minor": 5
}
