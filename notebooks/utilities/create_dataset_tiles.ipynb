{
 "cells": [
  {
   "cell_type": "code",
   "execution_count": null,
   "metadata": {},
   "outputs": [],
   "source": [
    "import sys\n",
    "sys.executable"
   ]
  },
  {
   "cell_type": "code",
   "execution_count": null,
   "metadata": {},
   "outputs": [],
   "source": [
    "%load_ext autoreload\n",
    "%autoreload 2\n",
    "from micron2.data import pull_tiles\n",
    "from micron2.data import load_as_anndata\n",
    "\n",
    "import numpy as np\n",
    "import pandas as pd\n",
    "import pytiff\n",
    "import h5py\n",
    "import cv2\n",
    "import os\n",
    "\n",
    "datahome = '/home/ingn/tmp/micron2-data/rawdata'\n",
    "\n",
    "cells = pd.read_csv(f'{datahome}/201021_BreastFFPE_Final/201021_BreastFFPE_Final_3_cells.csv', \n",
    "                    index_col=0, header=0)\n",
    "nuclei_img = f'{datahome}/201021_BreastFFPE_Final/201021_BreastFFPE_Final_2_nuclei.tif'\n",
    "\n",
    "imagefs = !ls /home/ingn/tmp/micron2-data/rawdata/201021_BreastFFPE_Final/images/*.tif\n",
    "dapi_images = [f for f in imagefs if 'DAPI' in f]\n",
    "non_dapi_images = [f for f in imagefs if 'DAPI' not in f]\n",
    "non_dapi_images = [f for f in non_dapi_images if 'Blank' not in f]\n",
    "non_dapi_images = [f for f in non_dapi_images if 'Empty' not in f]\n",
    "\n",
    "channel_names = [os.path.basename(x) for x in non_dapi_images]\n",
    "channel_names = [x.replace(f'.tif','') for x in channel_names]\n",
    "channel_names = [x.split('_')[-2] for x in channel_names]\n",
    "channel_names = [\"DAPI\"] + channel_names\n",
    "print(len(channel_names))\n",
    "\n",
    "image_paths = [dapi_images[0]] + non_dapi_images\n",
    "print(len(image_paths))\n",
    "\n",
    "pull_tiles(image_paths, \n",
    "           out_file='/home/ingn/tmp/micron2-data/dataset_tiles.hdf5', \n",
    "           #nuclei_img=nuclei_img,\n",
    "           size=128,\n",
    "           scale_factor=1,\n",
    "           overlap=0.5,\n",
    "           channel_names=channel_names,\n",
    "           debug=False\n",
    "           )"
   ]
  },
  {
   "cell_type": "code",
   "execution_count": null,
   "metadata": {},
   "outputs": [],
   "source": [
    "!ls -lha *.hdf5"
   ]
  },
  {
   "cell_type": "code",
   "execution_count": null,
   "metadata": {},
   "outputs": [],
   "source": []
  },
  {
   "cell_type": "code",
   "execution_count": null,
   "metadata": {},
   "outputs": [],
   "source": [
    "adata = load_as_anndata('/home/ingn/tmp/micron2-data/dataset_tiles.hdf5', obs_names='meta/Tile_IDs',\n",
    "                        obsm='meta/bounding_boxes')\n",
    "adata"
   ]
  },
  {
   "cell_type": "code",
   "execution_count": null,
   "metadata": {},
   "outputs": [],
   "source": [
    "import scanpy as sc\n",
    "sc.pl.embedding(adata, basis='coordinates', s=100)"
   ]
  }
 ],
 "metadata": {
  "kernelspec": {
   "display_name": "Python 3",
   "language": "python",
   "name": "python3"
  },
  "language_info": {
   "codemirror_mode": {
    "name": "ipython",
    "version": 3
   },
   "file_extension": ".py",
   "mimetype": "text/x-python",
   "name": "python",
   "nbconvert_exporter": "python",
   "pygments_lexer": "ipython3",
   "version": "3.7.9"
  }
 },
 "nbformat": 4,
 "nbformat_minor": 4
}
