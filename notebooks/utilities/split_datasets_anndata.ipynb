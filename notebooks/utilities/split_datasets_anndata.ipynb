{
 "cells": [
  {
   "cell_type": "markdown",
   "id": "psychological-relation",
   "metadata": {},
   "source": [
    "Say we've done a bunch of analysis on a group of slides and now need to save individual datasets for use in our viewer, or for individual analysis. "
   ]
  },
  {
   "cell_type": "code",
   "execution_count": null,
   "id": "funky-calcium",
   "metadata": {},
   "outputs": [],
   "source": [
    "import scanpy as sc\n",
    "import numpy as np"
   ]
  },
  {
   "cell_type": "code",
   "execution_count": null,
   "id": "sweet-point",
   "metadata": {},
   "outputs": [],
   "source": [
    "!ls -lha /storage/codex/datasets_v1/*.h5ad"
   ]
  },
  {
   "cell_type": "code",
   "execution_count": null,
   "id": "cheap-albuquerque",
   "metadata": {},
   "outputs": [],
   "source": [
    "adata = sc.read_h5ad(\"/storage/codex/datasets_v1/bladder_merged_v6.h5ad\")\n",
    "adata\n",
    "\n",
    "adata.uns['subtype_rescued_colors'][4] = \"#800410\"\n",
    "adata.uns['subtype_rescued_colors'][8] = \"#6e597a\"\n",
    "adata.uns['subtype_rescued_colors'][10] = \"#91078f\"\n",
    "adata.uns['subtype_rescued_colors'][12] = \"#cc510a\"\n",
    "adata.uns['subtype_rescued_colors'][-1] = \"#1fd1ce\""
   ]
  },
  {
   "cell_type": "code",
   "execution_count": null,
   "id": "short-surrey",
   "metadata": {},
   "outputs": [],
   "source": [
    "adata.obs.subtype_gating.value_counts()"
   ]
  },
  {
   "cell_type": "code",
   "execution_count": null,
   "id": "intelligent-tunisia",
   "metadata": {},
   "outputs": [],
   "source": [
    "!ls /storage/codex/preprocessed_data"
   ]
  },
  {
   "cell_type": "code",
   "execution_count": null,
   "id": "empirical-float",
   "metadata": {},
   "outputs": [],
   "source": [
    "datahome = '/storage/codex/preprocessed_data'"
   ]
  },
  {
   "cell_type": "code",
   "execution_count": null,
   "id": "refined-crash",
   "metadata": {},
   "outputs": [],
   "source": [
    "samples = np.array(adata.obs.sample_id.unique())\n",
    "samples"
   ]
  },
  {
   "cell_type": "code",
   "execution_count": null,
   "id": "premium-baking",
   "metadata": {},
   "outputs": [],
   "source": [
    "import os\n",
    "for s in samples:\n",
    "    ad = adata[adata.obs.sample_id == s,:]\n",
    "    s = s.replace(\"_v5\",\"\")\n",
    "    outf = f'{datahome}/{s}/{s}.h5ad'\n",
    "    print(ad.shape, '-->', outf)\n",
    "    if os.path.exists(outf):\n",
    "        oldf = sc.read_h5ad(outf)\n",
    "        if oldf.shape[0] == ad.shape[0]:\n",
    "            ad.write(outf)\n",
    "    else:\n",
    "        ad.write(outf)"
   ]
  },
  {
   "cell_type": "code",
   "execution_count": null,
   "id": "based-turkey",
   "metadata": {},
   "outputs": [],
   "source": []
  },
  {
   "cell_type": "code",
   "execution_count": null,
   "id": "selected-plumbing",
   "metadata": {},
   "outputs": [],
   "source": []
  },
  {
   "cell_type": "code",
   "execution_count": null,
   "id": "surrounded-roots",
   "metadata": {},
   "outputs": [],
   "source": []
  },
  {
   "cell_type": "code",
   "execution_count": null,
   "id": "european-difference",
   "metadata": {},
   "outputs": [],
   "source": []
  }
 ],
 "metadata": {
  "kernelspec": {
   "display_name": "Python 3",
   "language": "python",
   "name": "python3"
  },
  "language_info": {
   "codemirror_mode": {
    "name": "ipython",
    "version": 3
   },
   "file_extension": ".py",
   "mimetype": "text/x-python",
   "name": "python",
   "nbconvert_exporter": "python",
   "pygments_lexer": "ipython3",
   "version": "3.8.5"
  }
 },
 "nbformat": 4,
 "nbformat_minor": 5
}
