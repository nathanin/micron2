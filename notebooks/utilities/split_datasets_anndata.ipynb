{
 "cells": [
  {
   "cell_type": "markdown",
   "id": "psychological-relation",
   "metadata": {},
   "source": [
    "Say we've done a bunch of analysis on a group of slides and now need to save individual datasets for use in our viewer, or for individual analysis. "
   ]
  },
  {
   "cell_type": "code",
   "execution_count": null,
   "id": "funky-calcium",
   "metadata": {},
   "outputs": [],
   "source": [
    "import scanpy as sc\n",
    "import numpy as np"
   ]
  },
  {
   "cell_type": "code",
   "execution_count": null,
   "id": "sweet-point",
   "metadata": {},
   "outputs": [],
   "source": [
    "!ls -lha /storage/codex/datasets_v1/*.h5ad"
   ]
  },
  {
   "cell_type": "code",
   "execution_count": null,
   "id": "cheap-albuquerque",
   "metadata": {},
   "outputs": [],
   "source": [
    "adata = sc.read_h5ad(\"/storage/codex/datasets_v1/merged_v2.h5ad\")\n",
    "adata"
   ]
  },
  {
   "cell_type": "code",
   "execution_count": null,
   "id": "intelligent-tunisia",
   "metadata": {},
   "outputs": [],
   "source": [
    "!ls /storage/codex/preprocessed_data"
   ]
  },
  {
   "cell_type": "code",
   "execution_count": null,
   "id": "empirical-float",
   "metadata": {},
   "outputs": [],
   "source": [
    "datahome = '/storage/codex/preprocessed_data'"
   ]
  },
  {
   "cell_type": "code",
   "execution_count": null,
   "id": "refined-crash",
   "metadata": {},
   "outputs": [],
   "source": [
    "samples = np.array(adata.obs.sample_id.unique())\n",
    "samples"
   ]
  },
  {
   "cell_type": "code",
   "execution_count": null,
   "id": "premium-baking",
   "metadata": {},
   "outputs": [],
   "source": [
    "import os\n",
    "for s in samples:\n",
    "    ad = adata[adata.obs.sample_id == s,:]\n",
    "    outf = f'{datahome}/{s}/{s}.h5ad'\n",
    "    print(ad.shape, '-->', outf)\n",
    "    if os.path.exists(outf):\n",
    "        oldf = sc.read_h5ad(outf)\n",
    "        if oldf.shape[0] == ad.shape[0]:\n",
    "            ad.write(outf)\n",
    "    else:\n",
    "        ad.write(outf)"
   ]
  },
  {
   "cell_type": "code",
   "execution_count": null,
   "id": "european-difference",
   "metadata": {},
   "outputs": [],
   "source": []
  }
 ],
 "metadata": {
  "kernelspec": {
   "display_name": "Python 3",
   "language": "python",
   "name": "python3"
  },
  "language_info": {
   "codemirror_mode": {
    "name": "ipython",
    "version": 3
   },
   "file_extension": ".py",
   "mimetype": "text/x-python",
   "name": "python",
   "nbconvert_exporter": "python",
   "pygments_lexer": "ipython3",
   "version": "3.8.5"
  }
 },
 "nbformat": 4,
 "nbformat_minor": 5
}
