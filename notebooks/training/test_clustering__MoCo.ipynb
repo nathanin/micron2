{
 "cells": [
  {
   "cell_type": "code",
   "execution_count": null,
   "metadata": {},
   "outputs": [],
   "source": [
    "%load_ext autoreload\n",
    "%autoreload 2\n",
    "import os\n",
    "import numpy as np\n",
    "import pandas as pd\n",
    "\n",
    "import tensorflow as tf\n",
    "\n",
    "physical_devices = tf.config.list_physical_devices('GPU')\n",
    "tf.config.experimental.set_memory_growth(physical_devices[0], True)\n",
    "\n",
    "from micron2.clustering import Encoder, train_moco\n",
    "from micron2.data import stream_dataset\n",
    "\n",
    "import h5py\n",
    "import tqdm.auto as tqdm"
   ]
  },
  {
   "cell_type": "code",
   "execution_count": null,
   "metadata": {},
   "outputs": [],
   "source": [
    "!ls /home/ingn/tmp/micron2-data"
   ]
  },
  {
   "cell_type": "code",
   "execution_count": null,
   "metadata": {},
   "outputs": [],
   "source": [
    "input_size = 128\n",
    "crop_size = 96\n",
    "# use_channels = ['DAPI', 'CD45', 'PanCytoK', 'CD3e', 'CD4', 'CD8', 'PDGFRb', 'CD20', 'CD68', 'IgG', 'C1q']\n",
    "\n",
    "with h5py.File('/home/ingn/tmp/micron2-data/pembroRT-set1-set2/merged.hdf5', 'r') as f:\n",
    "    all_channels = [b.decode('UTF-8') for b in f['meta/channel_names'][:]]\n",
    "    print(all_channels)\n",
    "    \n",
    "    # just use all the channels\n",
    "    use_channels = all_channels\n",
    "\n",
    "#     means = tf.constant([f[f'cell_intensity/{c}'].attrs['mean'] for c in use_channels], dtype=tf.float32)\n",
    "#     stds =  tf.constant([f[f'cell_intensity/{c}'].attrs['std'] for c in use_channels], dtype=tf.float32)\n",
    "#     print(means)\n",
    "#     print(stds)\n"
   ]
  },
  {
   "cell_type": "code",
   "execution_count": null,
   "metadata": {},
   "outputs": [],
   "source": [
    "outdir = '/home/ingn/tmp/micron2-data/pembroRT-set1-set2/moco-tiles'\n",
    "if not os.path.isdir(outdir):\n",
    "    os.makedirs(outdir)\n",
    "    \n",
    "with open(f'{outdir}/use_channels.txt', 'w+') as f:\n",
    "    for c in use_channels:\n",
    "        f.write(f'{c}\\n')\n",
    "        \n",
    "# import os\n",
    "# if os.path.exists(f'{outdir}/weights.h5'):\n",
    "#     model.load_weights(f'{outdir}/weights.h5')"
   ]
  },
  {
   "cell_type": "code",
   "execution_count": null,
   "metadata": {},
   "outputs": [],
   "source": [
    "print(use_channels)\n",
    "\n",
    "def process(x):\n",
    "    \"\"\"\n",
    "    x is [N, h, w, c]\n",
    "    \"\"\"\n",
    "#     x = tf.cast(x, tf.float32)\n",
    "#     x = (x - means) / stds\n",
    "    \n",
    "    x = tf.cast(x, tf.float32)/255.\n",
    "    x = tf.transpose(tf.image.per_image_standardization(tf.transpose(x)))\n",
    "    return x\n",
    "    \n",
    "# Create a dataset with infinite repeating \n",
    "dataset = stream_dataset('/home/ingn/tmp/micron2-data/pembroRT-set1-set2/merged.hdf5', \n",
    "                         use_channels=use_channels,\n",
    "                         group_name='images' )\n",
    "dataset = (dataset.repeat(None)\n",
    "           .shuffle(1024 * 4)\n",
    "           .map(process, num_parallel_calls=4)\n",
    "           .batch(32)\n",
    "           .prefetch(64)\n",
    "           #.apply(tf.data.experimental.prefetch_to_device(\"/gpu:0\"))\n",
    "          )\n"
   ]
  },
  {
   "cell_type": "code",
   "execution_count": null,
   "metadata": {},
   "outputs": [],
   "source": [
    "sample_x = tf.zeros([1, input_size, input_size, len(use_channels)],dtype=tf.float32)\n",
    "model = Encoder(input_shape=[crop_size, crop_size, len(use_channels)])\n",
    "y, z_g = model(sample_x, return_g=True)\n",
    "print(y.shape)\n",
    "print(z_g.shape)\n",
    "z = model.encode(sample_x)\n",
    "print(z.shape)\n",
    "\n",
    "model.summary()"
   ]
  },
  {
   "cell_type": "code",
   "execution_count": null,
   "metadata": {},
   "outputs": [],
   "source": [
    "# # Placing the key encoder on CPU helps training speed, maybe\n",
    "with tf.device('/CPU:0'):\n",
    "# kmodel = Encoder(input_shape=sample_x.shape[1:])\n",
    "    kmodel = Encoder(input_shape=[crop_size, crop_size, len(use_channels)])\n",
    "    y, z_g = kmodel(sample_x, return_g=True)\n",
    "    print(y.shape)\n",
    "    print(z_g.shape)\n",
    "    z = kmodel.encode(sample_x)\n",
    "    print(z.shape)\n",
    "\n",
    "kmodel.summary()"
   ]
  },
  {
   "cell_type": "code",
   "execution_count": null,
   "metadata": {},
   "outputs": [],
   "source": [
    "loss_history = train_moco(dataset, model, kmodel, \n",
    "                          lr=1e-4,\n",
    "                          max_queue_len=128, \n",
    "                          crop_size=crop_size,\n",
    "                          max_steps=7500*3, temp=0.1,\n",
    "                          perturb=False\n",
    "                         )"
   ]
  },
  {
   "cell_type": "code",
   "execution_count": null,
   "metadata": {},
   "outputs": [],
   "source": [
    "from matplotlib import pyplot as plt\n",
    "lh = len(loss_history)\n",
    "plt.figure(figsize=(8,2))\n",
    "plt.plot(np.arange(lh), np.log10(loss_history), lw=0.1)"
   ]
  },
  {
   "cell_type": "code",
   "execution_count": null,
   "metadata": {},
   "outputs": [],
   "source": [
    "model.save_weights(f'{outdir}/weights.h5')\n",
    "np.save(f'{outdir}/loss_history.npy', np.array(loss_history),)"
   ]
  },
  {
   "cell_type": "code",
   "execution_count": null,
   "metadata": {},
   "outputs": [],
   "source": []
  },
  {
   "cell_type": "markdown",
   "metadata": {},
   "source": [
    "# Process a whole dataset"
   ]
  },
  {
   "cell_type": "code",
   "execution_count": null,
   "metadata": {},
   "outputs": [],
   "source": [
    "crop_frac = crop_size / input_size\n",
    "print(crop_frac)\n",
    "def process_crop(x):\n",
    "    \"\"\"\n",
    "    x is [N, h, w, c]\n",
    "    \"\"\"\n",
    "#     x = tf.cast(x, tf.float32)\n",
    "#     x = (x - means) / stds\n",
    "    \n",
    "    x = tf.cast(x, tf.float32)/255.\n",
    "    x = tf.transpose(tf.image.per_image_standardization(tf.transpose(x)))\n",
    "    x = tf.image.central_crop(x, crop_frac)\n",
    "    return x\n",
    "\n",
    "dataset = stream_dataset('/home/ingn/tmp/micron2-data/pembroRT-set1-set2/merged.hdf5', \n",
    "                         use_channels=use_channels,\n",
    "                         group_name='images'\n",
    "                        )\n",
    "dataset = (dataset.map(process_crop, num_parallel_calls=2)\n",
    "           .batch(32)\n",
    "           .prefetch(8)\n",
    "          )\n",
    "\n",
    "z = []\n",
    "for batch in tqdm.tqdm(dataset):\n",
    "    z.append(model.encode(batch, training=False).numpy())\n",
    "    \n",
    "z = np.concatenate(z, axis=0)\n",
    "print(z.shape)"
   ]
  },
  {
   "cell_type": "code",
   "execution_count": null,
   "metadata": {},
   "outputs": [],
   "source": [
    "np.save(f'{outdir}/z.npy', z)"
   ]
  },
  {
   "cell_type": "code",
   "execution_count": null,
   "metadata": {},
   "outputs": [],
   "source": []
  }
 ],
 "metadata": {
  "kernelspec": {
   "display_name": "Python 3",
   "language": "python",
   "name": "python3"
  },
  "language_info": {
   "codemirror_mode": {
    "name": "ipython",
    "version": 3
   },
   "file_extension": ".py",
   "mimetype": "text/x-python",
   "name": "python",
   "nbconvert_exporter": "python",
   "pygments_lexer": "ipython3",
   "version": "3.8.5"
  }
 },
 "nbformat": 4,
 "nbformat_minor": 4
}
