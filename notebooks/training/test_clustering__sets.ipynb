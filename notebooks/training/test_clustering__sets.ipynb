{
 "cells": [
  {
   "cell_type": "code",
   "execution_count": null,
   "metadata": {},
   "outputs": [],
   "source": [
    "%load_ext autoreload\n",
    "%autoreload 2\n",
    "%matplotlib inline\n",
    "\n",
    "import h5py\n",
    "import numpy as np\n",
    "import tqdm.auto as tqdm\n",
    "\n",
    "# Needs for RTX 3000 series cards running CUDA 11.0, cudnn 8.0.4, tensorflow 2.4 (2021-Jan-17)\n",
    "import tensorflow as tf\n",
    "physical_devices = tf.config.list_physical_devices('GPU')\n",
    "tf.config.experimental.set_memory_growth(physical_devices[0], True)\n",
    "\n",
    "from micron2.embed_sets import SetEncoding, train_sets_SimCLR, stream_sets\n",
    "from micron2.clustering import train_moco\n",
    "from micron2 import stream_dataset\n",
    "\n",
    "from matplotlib import pyplot as plt\n",
    "import seaborn as sns\n",
    "\n",
    "from MulticoreTSNE import MulticoreTSNE"
   ]
  },
  {
   "cell_type": "code",
   "execution_count": null,
   "metadata": {},
   "outputs": [],
   "source": [
    "def process(x):\n",
    "    x = tf.cast(x, tf.float32) \n",
    "    m = tf.math.reduce_mean(x, axis=[0,1,2,3])\n",
    "    s = tf.math.reduce_std(x, axis=[0,1,2,3])\n",
    "    x = (x - m) / s\n",
    "#     x = tf.cast(x, tf.float32)/255.\n",
    "#     x = tf.transpose(tf.image.per_image_standardization(tf.transpose(x)))\n",
    "    return x"
   ]
  },
  {
   "cell_type": "code",
   "execution_count": null,
   "metadata": {},
   "outputs": [],
   "source": [
    "with h5py.File(\"/home/ingn/tmp/micron2-data/dataset.hdf5\", \"r\") as h5f:\n",
    "    all_channels = [b.decode('utf-8') for b in h5f['meta/channel_names'][:]]"
   ]
  },
  {
   "cell_type": "code",
   "execution_count": null,
   "metadata": {},
   "outputs": [],
   "source": [
    "USE_CHANNELS = ['DAPI', 'CD45', 'PanCytoK', 'CD3e', 'CD20', 'C1q', 'CD4', 'CD8', 'CD40', 'HLA-DR']\n",
    "dataset = stream_dataset('/home/ingn/tmp/micron2-data/setdataset.hdf5', \n",
    "                         use_channels=all_channels)\n",
    "dataset = (dataset.repeat(None)\n",
    "          .shuffle(2048)\n",
    "          .map(process, num_parallel_calls=8)\n",
    "          .batch(16)\n",
    "          .prefetch(32))"
   ]
  },
  {
   "cell_type": "code",
   "execution_count": null,
   "metadata": {},
   "outputs": [],
   "source": [
    "model = SetEncoding(inner_dim=256, outer_dim=128, g_dim=32, \n",
    "                    crop_size=48, # crop_size is for model set up only\n",
    "                    encoder_type='keras_resnet',\n",
    "                    n_channels=len(all_channels)\n",
    "                   )\n",
    "kmodel = SetEncoding(inner_dim=256, outer_dim=128, g_dim=32, \n",
    "                    crop_size=48, \n",
    "                    encoder_type='keras_resnet',\n",
    "                    n_channels=len(all_channels)\n",
    "                   )\n",
    "\n",
    "# Call it with correctly sized dummy batch to initialize variables\n",
    "x = np.zeros((2, 6, 64, 64, len(all_channels)))\n",
    "y = model(x)\n",
    "yk = kmodel(x)\n",
    "print(y.shape)"
   ]
  },
  {
   "cell_type": "code",
   "execution_count": null,
   "metadata": {},
   "outputs": [],
   "source": [
    "loss_history = train_moco(dataset, model, kmodel, max_queue_len=512, \n",
    "                          crop_size=48, max_steps=1e5, temp=0.1, \n",
    "                          lr = 1e-4,\n",
    "                          perturb=False)"
   ]
  },
  {
   "cell_type": "code",
   "execution_count": null,
   "metadata": {},
   "outputs": [],
   "source": [
    "plt.figure(figsize=(10,1), dpi=180)\n",
    "plt.plot(np.arange(len(loss_history)), loss_history, lw=0.1)"
   ]
  },
  {
   "cell_type": "code",
   "execution_count": null,
   "metadata": {},
   "outputs": [],
   "source": [
    "smth = [np.mean(loss_history[i:i+50]) for i in np.arange(0, len(loss_history)-51, 10)]\n",
    "plt.figure(figsize=(10,1), dpi=180)\n",
    "_ = plt.plot(np.arange(len(smth)), smth, lw=1)"
   ]
  },
  {
   "cell_type": "code",
   "execution_count": null,
   "metadata": {},
   "outputs": [],
   "source": []
  },
  {
   "cell_type": "code",
   "execution_count": null,
   "metadata": {},
   "outputs": [],
   "source": [
    "z = []\n",
    "\n",
    "dataset = stream_dataset('/home/ingn/tmp/micron2-data/setdataset.hdf5', \n",
    "                         use_channels=all_channels)\n",
    "\n",
    "dataset = (dataset.map(process)\n",
    "           .batch(16)\n",
    "           .prefetch(128))\n",
    "\n",
    "for i,batch in enumerate(tqdm.tqdm(dataset)):\n",
    "    zb = model(batch, training=False).numpy()\n",
    "    z.append(zb)\n",
    "    if i > 2000:\n",
    "        break\n",
    "\n",
    "z = np.concatenate(z, axis=0)\n",
    "print(z.shape)"
   ]
  },
  {
   "cell_type": "code",
   "execution_count": null,
   "metadata": {},
   "outputs": [],
   "source": [
    "emb = MulticoreTSNE(n_jobs=24).fit_transform(z)\n",
    "print(emb.shape)"
   ]
  },
  {
   "cell_type": "code",
   "execution_count": null,
   "metadata": {},
   "outputs": [],
   "source": [
    "plt.figure(figsize=(4,4), dpi=180)\n",
    "plt.scatter(emb[:,0], emb[:,1], s=0.1, color='k')"
   ]
  },
  {
   "cell_type": "code",
   "execution_count": null,
   "metadata": {},
   "outputs": [],
   "source": [
    "z = []\n",
    "\n",
    "dataset = stream_dataset('/home/ingn/tmp/micron2-data/setdataset.hdf5', \n",
    "                         use_channels=all_channels)\n",
    "\n",
    "dataset = (dataset.map(process)\n",
    "           .batch(32)\n",
    "           .prefetch(128))\n",
    "\n",
    "for i,batch in enumerate(tqdm.tqdm(dataset)):\n",
    "    zb = model(batch, training=False).numpy()\n",
    "    z.append(zb)\n",
    "\n",
    "z = np.concatenate(z, axis=0)\n",
    "print(z.shape)"
   ]
  },
  {
   "cell_type": "code",
   "execution_count": null,
   "metadata": {},
   "outputs": [],
   "source": [
    "import os\n",
    "save_dir = '/home/ingn/tmp/micron2-data/sets_moco'\n",
    "os.makedirs(save_dir, exist_ok=True)\n",
    "\n",
    "model.save_weights(f'{save_dir}/weights.h5')\n",
    "np.save(f'{save_dir}/embedding.npy', z)"
   ]
  }
 ],
 "metadata": {
  "kernelspec": {
   "display_name": "Python 3",
   "language": "python",
   "name": "python3"
  },
  "language_info": {
   "codemirror_mode": {
    "name": "ipython",
    "version": 3
   },
   "file_extension": ".py",
   "mimetype": "text/x-python",
   "name": "python",
   "nbconvert_exporter": "python",
   "pygments_lexer": "ipython3",
   "version": "3.7.9"
  }
 },
 "nbformat": 4,
 "nbformat_minor": 4
}
