{
 "cells": [
  {
   "cell_type": "code",
   "execution_count": null,
   "metadata": {},
   "outputs": [],
   "source": [
    "%load_ext autoreload\n",
    "%autoreload 2\n",
    "import os\n",
    "import numpy as np\n",
    "import pandas as pd\n",
    "\n",
    "import tensorflow as tf\n",
    "import tensorflow_io as tfio\n",
    "\n",
    "physical_devices = tf.config.list_physical_devices('GPU')\n",
    "tf.config.experimental.set_memory_growth(physical_devices[0], True)\n",
    "\n",
    "from micron2.clustering import MoCo, UpdateQueue\n",
    "from micron2.data import stream_dataset, stream_dataset_parallel\n",
    "\n",
    "import h5py\n",
    "import tqdm.auto as tqdm\n",
    "from tqdm.keras import TqdmCallback\n",
    "\n",
    "AUTO = tf.data.experimental.AUTOTUNE"
   ]
  },
  {
   "cell_type": "code",
   "execution_count": null,
   "metadata": {},
   "outputs": [],
   "source": [
    "input_size = 64\n",
    "crop_size = 56\n",
    "batch_size = 32\n",
    "max_queue_len = 4096\n",
    "\n",
    "# # use_channels = ['DAPI', 'CD45', 'PanCytoK', 'CD3e', 'CD4', 'CD8', 'PDGFRb', 'CD20', 'CD68']\n",
    "with h5py.File('/home/ingn/tmp/micron2-data/bladder/bladder_merged_v4.hdf5', 'r') as f:\n",
    "    all_channels = [b.decode('UTF-8') for b in f['meta/channel_names'][:]]\n",
    "    use_channels = all_channels\n",
    " \n",
    "#     means =  tf.constant([f[f'cells/{c}'].attrs['mean'] for c in use_channels], dtype=tf.float32)\n",
    "#     maxes =  tf.constant([f[f'cells/{c}'].attrs['max'] for c in use_channels], dtype=tf.float32)\n",
    "#     print(means)\n",
    "#     print(maxes)\n",
    "    \n",
    "print(use_channels)\n"
   ]
  },
  {
   "cell_type": "code",
   "execution_count": null,
   "metadata": {},
   "outputs": [],
   "source": [
    "outdir = '/home/ingn/tmp/micron2-data/bladder/moco-cells-v2'\n",
    "if not os.path.isdir(outdir):\n",
    "    os.makedirs(outdir)\n",
    "    \n",
    "with open(f'{outdir}/use_channels.txt', 'w+') as f:\n",
    "    for c in use_channels:\n",
    "        f.write(f'{c}\\n')\n",
    "        \n",
    "# import os\n",
    "# if os.path.exists(f'{outdir}/weights.h5'):\n",
    "#     model.load_weights(f'{outdir}/weights.h5')"
   ]
  },
  {
   "cell_type": "code",
   "execution_count": null,
   "metadata": {},
   "outputs": [],
   "source": [
    "fname = '/home/ingn/tmp/micron2-data/bladder/bladder_merged_v4.hdf5'\n",
    "dataset = (stream_dataset(fname, all_channels)\n",
    "           .shuffle(1024 * 2, reshuffle_each_iteration=True)\n",
    "           .batch(batch_size, drop_remainder=True)\n",
    "           .prefetch(16)\n",
    "          )\n",
    "\n",
    "mean_tensor = []\n",
    "for i,batch in enumerate(dataset):\n",
    "    if i == 200:\n",
    "        break\n",
    "    mean_tensor.append(batch.numpy())\n",
    "    \n",
    "    \n",
    "mean_tensor = np.concatenate(mean_tensor, axis=0)\n",
    "mean_tensor = tf.reduce_mean(mean_tensor, axis=0)\n",
    "print(mean_tensor.shape)"
   ]
  },
  {
   "cell_type": "code",
   "execution_count": null,
   "metadata": {},
   "outputs": [],
   "source": [
    "def process(x):\n",
    "    \"\"\"\n",
    "    x is [N, h, w, c]\n",
    "    \"\"\"\n",
    "    x = x - mean_tensor\n",
    "    x = tf.cast(x, tf.float32)/255.\n",
    "    #x = x / maxes\n",
    "    \n",
    "    #x = tf.image.random_brightness(x, 0.2)\n",
    "    x = tf.image.random_crop(x, [56, 56, 36])\n",
    "    x = tf.image.random_flip_left_right(x)\n",
    "    x = tf.image.random_flip_up_down(x)\n",
    "    return x\n",
    "    \n",
    "# Create a dataset with infinite repeating \n",
    "fname = '/home/ingn/tmp/micron2-data/bladder/bladder_merged_v4.hdf5'\n",
    "\n",
    "dataset = (stream_dataset(fname, all_channels)\n",
    "           .shuffle(1024 * 2, reshuffle_each_iteration=True)\n",
    "           .map(process, num_parallel_calls=6)\n",
    "           .batch(batch_size, drop_remainder=True)\n",
    "           .prefetch(16)\n",
    "           #.apply(tf.data.experimental.prefetch_to_device(\"/gpu:0\"))\n",
    "          )\n"
   ]
  },
  {
   "cell_type": "code",
   "execution_count": null,
   "metadata": {},
   "outputs": [],
   "source": [
    "sample_x = tf.zeros([1, crop_size, crop_size, len(use_channels)],dtype=tf.float32)\n",
    "model = MoCo(data_shape=[crop_size, crop_size, len(use_channels)],\n",
    "             z_dim=128, max_queue_len=max_queue_len, \n",
    "             batch_size=batch_size,\n",
    "             temp=0.1, crop_size=crop_size,\n",
    "             encoder_type='EfficientNetB1')\n",
    "\n",
    "model.compile(optimizer=tf.keras.optimizers.Adam(lr=1e-4), \n",
    "              loss=tf.keras.losses.sparse_categorical_crossentropy,)\n",
    "z = model(sample_x)\n",
    "_ = model.encode_g(sample_x)\n",
    "_ = model.encode_k(sample_x)\n",
    "print(z.shape)\n",
    "\n",
    "model.summary()"
   ]
  },
  {
   "cell_type": "code",
   "execution_count": null,
   "metadata": {},
   "outputs": [],
   "source": [
    "model.fit(dataset, epochs=20, verbose=0,\n",
    "          callbacks = [UpdateQueue(0.999, max_queue_len), \n",
    "                       TqdmCallback(verbose=2)]\n",
    "         )"
   ]
  },
  {
   "cell_type": "code",
   "execution_count": null,
   "metadata": {},
   "outputs": [],
   "source": []
  },
  {
   "cell_type": "code",
   "execution_count": null,
   "metadata": {},
   "outputs": [],
   "source": []
  },
  {
   "cell_type": "code",
   "execution_count": null,
   "metadata": {},
   "outputs": [],
   "source": [
    "model.save_weights(f'{outdir}/weights.h5')\n",
    "model.encode_g.save_weights(f'{outdir}/weights_g.h5')\n",
    "model.encode_k.save_weights(f'{outdir}/weights_k.h5')"
   ]
  },
  {
   "cell_type": "code",
   "execution_count": null,
   "metadata": {},
   "outputs": [],
   "source": []
  },
  {
   "cell_type": "code",
   "execution_count": null,
   "metadata": {},
   "outputs": [],
   "source": [
    "crop_pct = 56 / 64\n",
    "def process(x):\n",
    "    \"\"\"\n",
    "    x is [N, h, w, c]\n",
    "    \"\"\"\n",
    "    x = tf.cast(x, tf.float32)/255.\n",
    "#     x = x / maxes\n",
    "    \n",
    "#     x = tf.image.random_brightness(x, 0.2)\n",
    "#     x = tf.image.random_crop(x, [48, 48, 40])\n",
    "#     x = tf.image.random_flip_left_right(x)\n",
    "#     x = tf.image.random_flip_up_down(x)\n",
    "    x = tf.image.central_crop(x, crop_pct)\n",
    "    return x\n",
    "    \n",
    "dataset = stream_dataset(fname, all_channels)\n",
    "\n",
    "# dataset = (tfio.IOdataset.from_hdf5(fname, '/images/cells')\n",
    "dataset = (dataset\n",
    "           .map(process, num_parallel_calls=6)\n",
    "           .batch(batch_size)\n",
    "           .prefetch(128)\n",
    "           #.apply(tf.data.experimental.prefetch_to_device(\"/gpu:0\"))\n",
    "          )\n"
   ]
  },
  {
   "cell_type": "code",
   "execution_count": null,
   "metadata": {},
   "outputs": [],
   "source": [
    "z = []\n",
    "for batch in tqdm.tqdm(dataset):\n",
    "    z_ = model.encode_g(batch, training=False)\n",
    "    z.append(z_.numpy())\n",
    "    \n",
    "z = np.concatenate(z, axis=0)\n",
    "print(z.shape)"
   ]
  },
  {
   "cell_type": "code",
   "execution_count": null,
   "metadata": {},
   "outputs": [],
   "source": [
    "outdir"
   ]
  },
  {
   "cell_type": "code",
   "execution_count": null,
   "metadata": {},
   "outputs": [],
   "source": [
    "np.save(f'{outdir}/embedding.npy', z)"
   ]
  },
  {
   "cell_type": "code",
   "execution_count": null,
   "metadata": {},
   "outputs": [],
   "source": []
  },
  {
   "cell_type": "code",
   "execution_count": null,
   "metadata": {},
   "outputs": [],
   "source": []
  },
  {
   "cell_type": "code",
   "execution_count": null,
   "metadata": {},
   "outputs": [],
   "source": []
  }
 ],
 "metadata": {
  "kernelspec": {
   "display_name": "Python 3",
   "language": "python",
   "name": "python3"
  },
  "language_info": {
   "codemirror_mode": {
    "name": "ipython",
    "version": 3
   },
   "file_extension": ".py",
   "mimetype": "text/x-python",
   "name": "python",
   "nbconvert_exporter": "python",
   "pygments_lexer": "ipython3",
   "version": "3.8.5"
  }
 },
 "nbformat": 4,
 "nbformat_minor": 4
}
