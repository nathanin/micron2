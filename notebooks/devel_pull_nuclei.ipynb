{
 "cells": [
  {
   "cell_type": "code",
   "execution_count": 1,
   "metadata": {},
   "outputs": [],
   "source": [
    "import numpy as np\n",
    "import pandas as pd\n",
    "import pytiff\n",
    "import h5py\n",
    "import time\n",
    "import os\n",
    "\n",
    "from tqdm.auto import tqdm\n",
    "\n",
    "%matplotlib inline\n",
    "from matplotlib import pyplot as plt"
   ]
  },
  {
   "cell_type": "code",
   "execution_count": 2,
   "metadata": {},
   "outputs": [
    {
     "name": "stdout",
     "output_type": "stream",
     "text": [
      "201021_BreastFFPE_Final_1_tissue.tif\t201021_BreastFFPE_Final_3_cells.csv\r\n",
      "201021_BreastFFPE_Final_2_nuclei.tif\tCODEXobj_201021_BreastFFPE_Final.mat\r\n",
      "201021_BreastFFPE_Final_2_stardist.tif\timages\r\n"
     ]
    }
   ],
   "source": [
    "!ls /mnt/linux-data/codex/preprocessed_data/201021_BreastFFPE_Final/"
   ]
  },
  {
   "cell_type": "code",
   "execution_count": 3,
   "metadata": {},
   "outputs": [
    {
     "data": {
      "text/html": [
       "<div>\n",
       "<style scoped>\n",
       "    .dataframe tbody tr th:only-of-type {\n",
       "        vertical-align: middle;\n",
       "    }\n",
       "\n",
       "    .dataframe tbody tr th {\n",
       "        vertical-align: top;\n",
       "    }\n",
       "\n",
       "    .dataframe thead th {\n",
       "        text-align: right;\n",
       "    }\n",
       "</style>\n",
       "<table border=\"1\" class=\"dataframe\">\n",
       "  <thead>\n",
       "    <tr style=\"text-align: right;\">\n",
       "      <th></th>\n",
       "      <th>X</th>\n",
       "      <th>Y</th>\n",
       "      <th>Size</th>\n",
       "    </tr>\n",
       "    <tr>\n",
       "      <th>cell_ID</th>\n",
       "      <th></th>\n",
       "      <th></th>\n",
       "      <th></th>\n",
       "    </tr>\n",
       "  </thead>\n",
       "  <tbody>\n",
       "    <tr>\n",
       "      <th>cell_1</th>\n",
       "      <td>14</td>\n",
       "      <td>1779</td>\n",
       "      <td>410</td>\n",
       "    </tr>\n",
       "    <tr>\n",
       "      <th>cell_2</th>\n",
       "      <td>11</td>\n",
       "      <td>1799</td>\n",
       "      <td>329</td>\n",
       "    </tr>\n",
       "    <tr>\n",
       "      <th>cell_3</th>\n",
       "      <td>5</td>\n",
       "      <td>1827</td>\n",
       "      <td>138</td>\n",
       "    </tr>\n",
       "    <tr>\n",
       "      <th>cell_4</th>\n",
       "      <td>4</td>\n",
       "      <td>1918</td>\n",
       "      <td>86</td>\n",
       "    </tr>\n",
       "    <tr>\n",
       "      <th>cell_5</th>\n",
       "      <td>5</td>\n",
       "      <td>1960</td>\n",
       "      <td>122</td>\n",
       "    </tr>\n",
       "    <tr>\n",
       "      <th>cell_6</th>\n",
       "      <td>8</td>\n",
       "      <td>2655</td>\n",
       "      <td>229</td>\n",
       "    </tr>\n",
       "    <tr>\n",
       "      <th>cell_7</th>\n",
       "      <td>13</td>\n",
       "      <td>2671</td>\n",
       "      <td>473</td>\n",
       "    </tr>\n",
       "    <tr>\n",
       "      <th>cell_8</th>\n",
       "      <td>6</td>\n",
       "      <td>2729</td>\n",
       "      <td>162</td>\n",
       "    </tr>\n",
       "    <tr>\n",
       "      <th>cell_9</th>\n",
       "      <td>8</td>\n",
       "      <td>2806</td>\n",
       "      <td>233</td>\n",
       "    </tr>\n",
       "    <tr>\n",
       "      <th>cell_10</th>\n",
       "      <td>3</td>\n",
       "      <td>2864</td>\n",
       "      <td>75</td>\n",
       "    </tr>\n",
       "  </tbody>\n",
       "</table>\n",
       "</div>"
      ],
      "text/plain": [
       "          X     Y  Size\n",
       "cell_ID                \n",
       "cell_1   14  1779   410\n",
       "cell_2   11  1799   329\n",
       "cell_3    5  1827   138\n",
       "cell_4    4  1918    86\n",
       "cell_5    5  1960   122\n",
       "cell_6    8  2655   229\n",
       "cell_7   13  2671   473\n",
       "cell_8    6  2729   162\n",
       "cell_9    8  2806   233\n",
       "cell_10   3  2864    75"
      ]
     },
     "execution_count": 3,
     "metadata": {},
     "output_type": "execute_result"
    }
   ],
   "source": [
    "cells = pd.read_csv('/mnt/linux-data/codex/preprocessed_data/201021_BreastFFPE_Final/201021_BreastFFPE_Final_3_cells.csv', \n",
    "                    index_col=0, header=0)\n",
    "cells.head(10)"
   ]
  },
  {
   "cell_type": "code",
   "execution_count": 4,
   "metadata": {
    "scrolled": true
   },
   "outputs": [
    {
     "name": "stdout",
     "output_type": "stream",
     "text": [
      "201021_BreastFFPE_Final_10_OX40L_10.tif\n",
      "201021_BreastFFPE_Final_11_CD45_11.tif\n",
      "201021_BreastFFPE_Final_12_CD20_12.tif\n",
      "201021_BreastFFPE_Final_14_CD134_14.tif\n",
      "201021_BreastFFPE_Final_15_CD68_15.tif\n",
      "201021_BreastFFPE_Final_16_CD31_16.tif\n",
      "201021_BreastFFPE_Final_18_CD103_18.tif\n",
      "201021_BreastFFPE_Final_19_HLA-DR_19.tif\n",
      "201021_BreastFFPE_Final_20_CXCR5_20.tif\n",
      "201021_BreastFFPE_Final_22_IgG_22.tif\n",
      "201021_BreastFFPE_Final_23_CD3e_23.tif\n",
      "201021_BreastFFPE_Final_24_Ki-67_24.tif\n",
      "201021_BreastFFPE_Final_26_LAG3_26.tif\n",
      "201021_BreastFFPE_Final_27_CXCL13_27.tif\n",
      "201021_BreastFFPE_Final_28_IgA_28.tif\n",
      "201021_BreastFFPE_Final_30_CD89_30.tif\n",
      "201021_BreastFFPE_Final_31_PNaD_31.tif\n",
      "201021_BreastFFPE_Final_32_PD-L1_32.tif\n",
      "201021_BreastFFPE_Final_34_PD-1_34.tif\n",
      "201021_BreastFFPE_Final_35_CD11c_35.tif\n",
      "201021_BreastFFPE_Final_36_CD80_36.tif\n",
      "201021_BreastFFPE_Final_38_CD69_38.tif\n",
      "201021_BreastFFPE_Final_39_TIM3_39.tif\n",
      "201021_BreastFFPE_Final_40_CD45RO_40.tif\n",
      "201021_BreastFFPE_Final_42_CD40LG_42.tif\n",
      "201021_BreastFFPE_Final_43_FOXP3_43.tif\n",
      "201021_BreastFFPE_Final_44_CD64_44.tif\n",
      "201021_BreastFFPE_Final_46_GZMB_46.tif\n",
      "201021_BreastFFPE_Final_47_C1q_47.tif\n",
      "201021_BreastFFPE_Final_48_CD40_48.tif\n",
      "201021_BreastFFPE_Final_50_CD45RA_50.tif\n",
      "201021_BreastFFPE_Final_52_CD138_52.tif\n",
      "201021_BreastFFPE_Final_56_IL7R_56.tif\n",
      "201021_BreastFFPE_Final_60_IgM_60.tif\n",
      "201021_BreastFFPE_Final_64_PDGFRb_64.tif\n",
      "201021_BreastFFPE_Final_68_aSMA_68.tif\n",
      "201021_BreastFFPE_Final_6_CD8_6.tif\n",
      "201021_BreastFFPE_Final_7_CD4_7.tif\n",
      "201021_BreastFFPE_Final_8_PanCytoK_8.tif\n"
     ]
    }
   ],
   "source": [
    "imagefs = !ls /mnt/linux-data/codex/preprocessed_data/201021_BreastFFPE_Final/images/*.tif\n",
    "dapi_images = [f for f in imagefs if 'DAPI' in f]\n",
    "non_dapi_images = [f for f in imagefs if 'DAPI' not in f]\n",
    "non_dapi_images = [f for f in non_dapi_images if 'Blank' not in f]\n",
    "non_dapi_images = [f for f in non_dapi_images if 'Empty' not in f]\n",
    "for f in non_dapi_images:\n",
    "    print(os.path.basename(f))"
   ]
  },
  {
   "cell_type": "code",
   "execution_count": 5,
   "metadata": {},
   "outputs": [
    {
     "name": "stdout",
     "output_type": "stream",
     "text": [
      "['DAPI', 'OX40L', 'CD45', 'CD20', 'CD134', 'CD68', 'CD31', 'CD103', 'HLA-DR', 'CXCR5', 'IgG', 'CD3e', 'Ki-67', 'LAG3', 'CXCL13', 'IgA', 'CD89', 'PNaD', 'PD-L1', 'PD-1', 'CD11c', 'CD80', 'CD69', 'TIM3', 'CD45RO', 'CD40LG', 'FOXP3', 'CD64', 'GZMB', 'C1q', 'CD40', 'CD45RA', 'CD138', 'IL7R', 'IgM', 'PDGFRb', 'aSMA', 'CD8', 'CD4', 'PanCytoK']\n"
     ]
    }
   ],
   "source": [
    "EXPT_NAME = '201021_BreastFFPE_Final'\n",
    "channel_names = [os.path.basename(x) for x in non_dapi_images]\n",
    "# channel_names = [x.replace(f'{EXPT_NAME}_','') for x in channel_names]\n",
    "channel_names = [x.replace(f'.tif','') for x in channel_names]\n",
    "channel_names = [x.split('_')[-2] for x in channel_names]\n",
    "# channel_names = [x.replace('-', '_') for x in channel_names]\n",
    "channel_names = [\"DAPI\"] + channel_names\n",
    "print( channel_names )"
   ]
  },
  {
   "cell_type": "code",
   "execution_count": 6,
   "metadata": {},
   "outputs": [
    {
     "name": "stdout",
     "output_type": "stream",
     "text": [
      "40\n"
     ]
    }
   ],
   "source": [
    "image_paths = [dapi_images[0]] + non_dapi_images\n",
    "print(len(image_paths))\n",
    "# image_handles = [pytiff.Tiff(dapi_images[0])] + [pytiff.Tiff(f) for f in non_dapi_images]"
   ]
  },
  {
   "cell_type": "code",
   "execution_count": 7,
   "metadata": {},
   "outputs": [
    {
     "data": {
      "text/plain": [
       "array([  69.,  156.,  697., 1168.])"
      ]
     },
     "execution_count": 7,
     "metadata": {},
     "output_type": "execute_result"
    },
    {
     "data": {
      "image/png": "[encoded data removed]",
      "text/plain": [
       "<Figure size 432x288 with 1 Axes>"
      ]
     },
     "metadata": {
      "needs_background": "light"
     },
     "output_type": "display_data"
    }
   ],
   "source": [
    "_ = plt.hist(cells.Size, bins=100)\n",
    "np.quantile(cells.Size, [0.01, 0.1, 0.9, 0.99])"
   ]
  },
  {
   "cell_type": "code",
   "execution_count": 8,
   "metadata": {
    "scrolled": true
   },
   "outputs": [
    {
     "name": "stdout",
     "output_type": "stream",
     "text": [
      "7602 16830\n",
      "Pulling 146791 cells\n",
      "Pulling from channel DAPI\n"
     ]
    },
    {
     "data": {
      "application/vnd.jupyter.widget-view+json": {
       "model_id": "b7080d4b05254925b88b4e5db56bb2c0",
       "version_major": 2,
       "version_minor": 0
      },
      "text/plain": [
       "HBox(children=(HTML(value=''), FloatProgress(value=1.0, bar_style='info', layout=Layout(width='20px'), max=1.0…"
      ]
     },
     "metadata": {},
     "output_type": "display_data"
    },
    {
     "name": "stdout",
     "output_type": "stream",
     "text": [
      "\n",
      "Pulling from channel OX40L\n"
     ]
    },
    {
     "data": {
      "application/vnd.jupyter.widget-view+json": {
       "model_id": "11f3529e16354ab0886533df46ca039d",
       "version_major": 2,
       "version_minor": 0
      },
      "text/plain": [
       "HBox(children=(HTML(value=''), FloatProgress(value=1.0, bar_style='info', layout=Layout(width='20px'), max=1.0…"
      ]
     },
     "metadata": {},
     "output_type": "display_data"
    },
    {
     "name": "stdout",
     "output_type": "stream",
     "text": [
      "\n",
      "Pulling from channel CD45\n"
     ]
    },
    {
     "data": {
      "application/vnd.jupyter.widget-view+json": {
       "model_id": "c0c450dca43c4de9939715b8196531c0",
       "version_major": 2,
       "version_minor": 0
      },
      "text/plain": [
       "HBox(children=(HTML(value=''), FloatProgress(value=1.0, bar_style='info', layout=Layout(width='20px'), max=1.0…"
      ]
     },
     "metadata": {},
     "output_type": "display_data"
    },
    {
     "name": "stdout",
     "output_type": "stream",
     "text": [
      "\n",
      "Pulling from channel CD20\n"
     ]
    },
    {
     "data": {
      "application/vnd.jupyter.widget-view+json": {
       "model_id": "2023f062f564425c914eee0b609f3fa0",
       "version_major": 2,
       "version_minor": 0
      },
      "text/plain": [
       "HBox(children=(HTML(value=''), FloatProgress(value=1.0, bar_style='info', layout=Layout(width='20px'), max=1.0…"
      ]
     },
     "metadata": {},
     "output_type": "display_data"
    },
    {
     "name": "stdout",
     "output_type": "stream",
     "text": [
      "\n",
      "Pulling from channel CD134\n"
     ]
    },
    {
     "data": {
      "application/vnd.jupyter.widget-view+json": {
       "model_id": "af067311b4b44bada042e994e5b173c6",
       "version_major": 2,
       "version_minor": 0
      },
      "text/plain": [
       "HBox(children=(HTML(value=''), FloatProgress(value=1.0, bar_style='info', layout=Layout(width='20px'), max=1.0…"
      ]
     },
     "metadata": {},
     "output_type": "display_data"
    },
    {
     "name": "stdout",
     "output_type": "stream",
     "text": [
      "\n",
      "Pulling from channel CD68\n"
     ]
    },
    {
     "data": {
      "application/vnd.jupyter.widget-view+json": {
       "model_id": "bf80ba8ad14d4ceea17124d17b308267",
       "version_major": 2,
       "version_minor": 0
      },
      "text/plain": [
       "HBox(children=(HTML(value=''), FloatProgress(value=1.0, bar_style='info', layout=Layout(width='20px'), max=1.0…"
      ]
     },
     "metadata": {},
     "output_type": "display_data"
    },
    {
     "name": "stdout",
     "output_type": "stream",
     "text": [
      "\n",
      "Pulling from channel CD31\n"
     ]
    },
    {
     "data": {
      "application/vnd.jupyter.widget-view+json": {
       "model_id": "6c664b68b1c84da2b62f33daac436d8a",
       "version_major": 2,
       "version_minor": 0
      },
      "text/plain": [
       "HBox(children=(HTML(value=''), FloatProgress(value=1.0, bar_style='info', layout=Layout(width='20px'), max=1.0…"
      ]
     },
     "metadata": {},
     "output_type": "display_data"
    },
    {
     "name": "stdout",
     "output_type": "stream",
     "text": [
      "\n",
      "Pulling from channel CD103\n"
     ]
    },
    {
     "data": {
      "application/vnd.jupyter.widget-view+json": {
       "model_id": "13e3a6e3036f489c8dbb9825af8bc1ac",
       "version_major": 2,
       "version_minor": 0
      },
      "text/plain": [
       "HBox(children=(HTML(value=''), FloatProgress(value=1.0, bar_style='info', layout=Layout(width='20px'), max=1.0…"
      ]
     },
     "metadata": {},
     "output_type": "display_data"
    },
    {
     "name": "stdout",
     "output_type": "stream",
     "text": [
      "\n",
      "Pulling from channel HLA-DR\n"
     ]
    },
    {
     "data": {
      "application/vnd.jupyter.widget-view+json": {
       "model_id": "8f49b058f0ba434db2f32f88ed7f2022",
       "version_major": 2,
       "version_minor": 0
      },
      "text/plain": [
       "HBox(children=(HTML(value=''), FloatProgress(value=1.0, bar_style='info', layout=Layout(width='20px'), max=1.0…"
      ]
     },
     "metadata": {},
     "output_type": "display_data"
    },
    {
     "name": "stdout",
     "output_type": "stream",
     "text": [
      "\n",
      "Pulling from channel CXCR5\n"
     ]
    },
    {
     "data": {
      "application/vnd.jupyter.widget-view+json": {
       "model_id": "8907acfd54194cfaae3562387f862393",
       "version_major": 2,
       "version_minor": 0
      },
      "text/plain": [
       "HBox(children=(HTML(value=''), FloatProgress(value=1.0, bar_style='info', layout=Layout(width='20px'), max=1.0…"
      ]
     },
     "metadata": {},
     "output_type": "display_data"
    },
    {
     "name": "stdout",
     "output_type": "stream",
     "text": [
      "\n",
      "Pulling from channel IgG\n"
     ]
    },
    {
     "data": {
      "application/vnd.jupyter.widget-view+json": {
       "model_id": "570fb30aeb914b85aa524b0d0ec7691b",
       "version_major": 2,
       "version_minor": 0
      },
      "text/plain": [
       "HBox(children=(HTML(value=''), FloatProgress(value=1.0, bar_style='info', layout=Layout(width='20px'), max=1.0…"
      ]
     },
     "metadata": {},
     "output_type": "display_data"
    },
    {
     "name": "stdout",
     "output_type": "stream",
     "text": [
      "\n"
     ]
    },
    {
     "ename": "KeyboardInterrupt",
     "evalue": "",
     "output_type": "error",
     "traceback": [
      "\u001b[0;31m---------------------------------------------------------------------------\u001b[0m",
      "\u001b[0;31mKeyboardInterrupt\u001b[0m                         Traceback (most recent call last)",
      "\u001b[0;32m<ipython-input-8-ee0b4f511afd>\u001b[0m in \u001b[0;36m<module>\u001b[0;34m\u001b[0m\n\u001b[1;32m     51\u001b[0m     \u001b[0mh5f\u001b[0m\u001b[0;34m.\u001b[0m\u001b[0mclose\u001b[0m\u001b[0;34m(\u001b[0m\u001b[0;34m)\u001b[0m\u001b[0;34m\u001b[0m\u001b[0;34m\u001b[0m\u001b[0m\n\u001b[1;32m     52\u001b[0m \u001b[0;34m\u001b[0m\u001b[0m\n\u001b[0;32m---> 53\u001b[0;31m \u001b[0mpull_nuclei\u001b[0m\u001b[0;34m(\u001b[0m\u001b[0mcells\u001b[0m\u001b[0;34m,\u001b[0m \u001b[0mimage_paths\u001b[0m\u001b[0;34m,\u001b[0m \u001b[0mout_file\u001b[0m\u001b[0;34m=\u001b[0m\u001b[0;34m'dataset.hdf5'\u001b[0m\u001b[0;34m,\u001b[0m \u001b[0mmin_area\u001b[0m\u001b[0;34m=\u001b[0m\u001b[0;36m100\u001b[0m\u001b[0;34m,\u001b[0m \u001b[0mchannel_names\u001b[0m\u001b[0;34m=\u001b[0m\u001b[0mchannel_names\u001b[0m\u001b[0;34m)\u001b[0m\u001b[0;34m\u001b[0m\u001b[0;34m\u001b[0m\u001b[0m\n\u001b[0m",
      "\u001b[0;32m<ipython-input-8-ee0b4f511afd>\u001b[0m in \u001b[0;36mpull_nuclei\u001b[0;34m(coords, image_paths, out_file, size, min_area, channel_names)\u001b[0m\n\u001b[1;32m     42\u001b[0m             \u001b[0;31m# print(np.mean(img))\u001b[0m\u001b[0;34m\u001b[0m\u001b[0;34m\u001b[0m\u001b[0;34m\u001b[0m\u001b[0m\n\u001b[1;32m     43\u001b[0m             \u001b[0;31m# xout[i, :, :, :] = np.dstack(img)\u001b[0m\u001b[0;34m\u001b[0m\u001b[0;34m\u001b[0m\u001b[0;34m\u001b[0m\u001b[0m\n\u001b[0;32m---> 44\u001b[0;31m             \u001b[0md\u001b[0m\u001b[0;34m[\u001b[0m\u001b[0mi\u001b[0m\u001b[0;34m,\u001b[0m\u001b[0;34m...\u001b[0m\u001b[0;34m]\u001b[0m \u001b[0;34m=\u001b[0m \u001b[0mimg\u001b[0m\u001b[0;34m\u001b[0m\u001b[0;34m\u001b[0m\u001b[0m\n\u001b[0m\u001b[1;32m     45\u001b[0m \u001b[0;34m\u001b[0m\u001b[0m\n\u001b[1;32m     46\u001b[0m             \u001b[0mi\u001b[0m \u001b[0;34m+=\u001b[0m \u001b[0;36m1\u001b[0m\u001b[0;34m\u001b[0m\u001b[0;34m\u001b[0m\u001b[0m\n",
      "\u001b[0;32mh5py/_objects.pyx\u001b[0m in \u001b[0;36mh5py._objects.with_phil.wrapper\u001b[0;34m()\u001b[0m\n",
      "\u001b[0;32mh5py/_objects.pyx\u001b[0m in \u001b[0;36mh5py._objects.with_phil.wrapper\u001b[0;34m()\u001b[0m\n",
      "\u001b[0;32m~/miniconda3/envs/micron2/lib/python3.8/site-packages/h5py/_hl/dataset.py\u001b[0m in \u001b[0;36m__setitem__\u001b[0;34m(self, args, val)\u001b[0m\n\u001b[1;32m    706\u001b[0m         \u001b[0mmspace\u001b[0m \u001b[0;34m=\u001b[0m \u001b[0mh5s\u001b[0m\u001b[0;34m.\u001b[0m\u001b[0mcreate_simple\u001b[0m\u001b[0;34m(\u001b[0m\u001b[0mmshape_pad\u001b[0m\u001b[0;34m,\u001b[0m \u001b[0;34m(\u001b[0m\u001b[0mh5s\u001b[0m\u001b[0;34m.\u001b[0m\u001b[0mUNLIMITED\u001b[0m\u001b[0;34m,\u001b[0m\u001b[0;34m)\u001b[0m\u001b[0;34m*\u001b[0m\u001b[0mlen\u001b[0m\u001b[0;34m(\u001b[0m\u001b[0mmshape_pad\u001b[0m\u001b[0;34m)\u001b[0m\u001b[0;34m)\u001b[0m\u001b[0;34m\u001b[0m\u001b[0;34m\u001b[0m\u001b[0m\n\u001b[1;32m    707\u001b[0m         \u001b[0;32mfor\u001b[0m \u001b[0mfspace\u001b[0m \u001b[0;32min\u001b[0m \u001b[0mselection\u001b[0m\u001b[0;34m.\u001b[0m\u001b[0mbroadcast\u001b[0m\u001b[0;34m(\u001b[0m\u001b[0mmshape\u001b[0m\u001b[0;34m)\u001b[0m\u001b[0;34m:\u001b[0m\u001b[0;34m\u001b[0m\u001b[0;34m\u001b[0m\u001b[0m\n\u001b[0;32m--> 708\u001b[0;31m             \u001b[0mself\u001b[0m\u001b[0;34m.\u001b[0m\u001b[0mid\u001b[0m\u001b[0;34m.\u001b[0m\u001b[0mwrite\u001b[0m\u001b[0;34m(\u001b[0m\u001b[0mmspace\u001b[0m\u001b[0;34m,\u001b[0m \u001b[0mfspace\u001b[0m\u001b[0;34m,\u001b[0m \u001b[0mval\u001b[0m\u001b[0;34m,\u001b[0m \u001b[0mmtype\u001b[0m\u001b[0;34m,\u001b[0m \u001b[0mdxpl\u001b[0m\u001b[0;34m=\u001b[0m\u001b[0mself\u001b[0m\u001b[0;34m.\u001b[0m\u001b[0m_dxpl\u001b[0m\u001b[0;34m)\u001b[0m\u001b[0;34m\u001b[0m\u001b[0;34m\u001b[0m\u001b[0m\n\u001b[0m\u001b[1;32m    709\u001b[0m \u001b[0;34m\u001b[0m\u001b[0m\n\u001b[1;32m    710\u001b[0m     \u001b[0;32mdef\u001b[0m \u001b[0mread_direct\u001b[0m\u001b[0;34m(\u001b[0m\u001b[0mself\u001b[0m\u001b[0;34m,\u001b[0m \u001b[0mdest\u001b[0m\u001b[0;34m,\u001b[0m \u001b[0msource_sel\u001b[0m\u001b[0;34m=\u001b[0m\u001b[0;32mNone\u001b[0m\u001b[0;34m,\u001b[0m \u001b[0mdest_sel\u001b[0m\u001b[0;34m=\u001b[0m\u001b[0;32mNone\u001b[0m\u001b[0;34m)\u001b[0m\u001b[0;34m:\u001b[0m\u001b[0;34m\u001b[0m\u001b[0;34m\u001b[0m\u001b[0m\n",
      "\u001b[0;31mKeyboardInterrupt\u001b[0m: "
     ]
    }
   ],
   "source": [
    "size = 64\n",
    "\n",
    "def pull_nuclei(coords, image_paths, out_file='dataset.hdf5', size=64, min_area=100, channel_names=None):\n",
    "    h0 = pytiff.Tiff(image_paths[0])\n",
    "    sizeh = int(size/2)\n",
    "    h, w = h0.shape\n",
    "    print(h, w)\n",
    "    maxh = h - sizeh\n",
    "    maxw = w - sizeh\n",
    "    h0.close()\n",
    "    \n",
    "    if channel_names is None:\n",
    "        channel_names = [f'ch{i:02d}' for i in range(len(image_paths))]\n",
    "    assert len(channel_names) == len(image_paths)\n",
    "    \n",
    "    h5f = h5py.File(out_file, \"w\")\n",
    "    \n",
    "    datasets = []\n",
    "    for c in channel_names:\n",
    "        d = h5f.create_dataset(f'cells/{c}', shape=(coords.shape[0],size,size), maxshape=(None,size,size),\n",
    "                               dtype='i', chunks=(1,size,size), compression='gzip')\n",
    "        datasets.append(d)\n",
    "        \n",
    "    # remove coords too near the edges:\n",
    "    # remember, x = \"width\" = size[1]; y = \"height\" = size[0]\n",
    "    coords = coords.query(\"X > @sizeh & X < @maxw & Y > @sizeh & Y < @maxh\")\n",
    "    if min_area is not None:\n",
    "        coords = coords.query(\"Size > @min_area\")\n",
    "    \n",
    "    print(f'Pulling {coords.shape[0]} cells')\n",
    "    for pth, d, c in zip(image_paths, datasets, channel_names):\n",
    "        print(f'Pulling from channel {c}')\n",
    "        h = pytiff.Tiff(pth)\n",
    "        page = h.pages[0][:]\n",
    "        \n",
    "        i = 0\n",
    "        for x, y in tqdm(zip(coords.X, coords.Y)):\n",
    "            # print(x, y, a)\n",
    "            bbox = [y-sizeh, y+sizeh, x-sizeh, x+sizeh]\n",
    "            img = (255 * (page[bbox[0]:bbox[1], bbox[2]:bbox[3]] / 2**16)).astype(np.uint8)\n",
    "            # img = [255 * (h.pages[0][bbox[0]:bbox[1], bbox[2]:bbox[3]] / 2**16).astype(np.uint8) for h in image_handles]\n",
    "            # print(np.mean(img))\n",
    "            # xout[i, :, :, :] = np.dstack(img)\n",
    "            d[i,...] = img\n",
    "\n",
    "            i += 1\n",
    "            # if i > 5000: \n",
    "            #     break\n",
    "        h.close()\n",
    "        h5f.flush()\n",
    "    h5f.close()\n",
    "\n",
    "pull_nuclei(cells, image_paths, out_file='dataset.hdf5', min_area=100, channel_names=channel_names)"
   ]
  },
  {
   "cell_type": "code",
   "execution_count": null,
   "metadata": {},
   "outputs": [],
   "source": []
  }
 ],
 "metadata": {
  "kernelspec": {
   "display_name": "Python 3",
   "language": "python",
   "name": "python3"
  },
  "language_info": {
   "codemirror_mode": {
    "name": "ipython",
    "version": 3
   },
   "file_extension": ".py",
   "mimetype": "text/x-python",
   "name": "python",
   "nbconvert_exporter": "python",
   "pygments_lexer": "ipython3",
   "version": "3.8.5"
  }
 },
 "nbformat": 4,
 "nbformat_minor": 2
}
