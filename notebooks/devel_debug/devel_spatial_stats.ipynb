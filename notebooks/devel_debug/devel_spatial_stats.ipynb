{
 "cells": [
  {
   "cell_type": "code",
   "execution_count": null,
   "id": "generic-portuguese",
   "metadata": {},
   "outputs": [],
   "source": [
    "%load_ext autoreload\n",
    "%autoreload 2\n",
    "%matplotlib inline\n",
    "\n",
    "from matplotlib import pyplot as plt\n",
    "import seaborn as sns\n",
    "\n",
    "import numpy as np\n",
    "import pandas as pd\n",
    "import scanpy as sc"
   ]
  },
  {
   "cell_type": "code",
   "execution_count": null,
   "id": "seasonal-abraham",
   "metadata": {},
   "outputs": [],
   "source": [
    "from micron2.spatial import celltype_distances\n",
    "\n",
    "from statannot import add_stat_annotation\n",
    "from itertools import combinations\n",
    "\n",
    "from matplotlib import rcParams"
   ]
  },
  {
   "cell_type": "code",
   "execution_count": null,
   "id": "academic-confirmation",
   "metadata": {},
   "outputs": [],
   "source": []
  },
  {
   "cell_type": "code",
   "execution_count": null,
   "id": "usual-array",
   "metadata": {},
   "outputs": [],
   "source": [
    "# toss_regions_1 = ['TMA1_'+r for r in ['reg3', 'reg35', 'reg21', 'reg22', 'reg23', 'reg24', 'reg25', 'reg11']]\n",
    "toss_regions_1 = [f'TMA1_reg{r}' for r in [1, 11, 21, 22, 23, 24, 35]]\n",
    "toss_regions_2 = [f'TMA2_reg{r}' for r in [2, 20, 26, 34,      21, 22]]\n",
    "toss_regions_3 = [f'TMA3_reg{r}' for r in [1, 2, 7, 21, 23, 25, 33,      22, 16]]\n",
    "toss_regions = toss_regions_1 + toss_regions_2 + toss_regions_3\n",
    "def maybe_keep(p):\n",
    "    for r in toss_regions:\n",
    "        if r+'.h5ad' in p:\n",
    "            return False\n",
    "    return True\n",
    "\n",
    "adata_paths = !ls /storage/codex/preprocessed_data/*Bladder*/*.h5ad\n",
    "adata_paths = [p for p in adata_paths if maybe_keep(p)]\n",
    "adata_paths"
   ]
  },
  {
   "cell_type": "code",
   "execution_count": null,
   "id": "looking-gasoline",
   "metadata": {},
   "outputs": [],
   "source": [
    "u_cells = [\n",
    "    'Bcell',\n",
    "    'CD4T',\n",
    "    'CD4T_Treg',\n",
    "    'CD8T',\n",
    "    'CD8T_Trm',\n",
    "    'CD8T_activated',\n",
    "    'CD8T_exhausted',\n",
    "    'Endothelial',\n",
    "    'Epithelial',\n",
    "    'Epithelial_CDH',\n",
    "    'Epithelial_KRT',\n",
    "    'Mac',\n",
    "    'Stromal',\n",
    "]"
   ]
  },
  {
   "cell_type": "code",
   "execution_count": null,
   "id": "advised-title",
   "metadata": {},
   "outputs": [],
   "source": [
    "help(celltype_distances)"
   ]
  },
  {
   "cell_type": "code",
   "execution_count": null,
   "id": "proved-coating",
   "metadata": {},
   "outputs": [],
   "source": [
    "import os\n",
    "from itertools import product as it_prod\n",
    "import pandas as pd\n",
    "import tqdm.auto as tqdm\n",
    "\n",
    "cellular_distances = {}\n",
    "min_cells = 50\n",
    "\n",
    "with tqdm.tqdm(adata_paths) as pbar:\n",
    "    for pth in pbar:\n",
    "        sample = os.path.basename(pth).replace('.h5ad','')\n",
    "        ad = sc.read_h5ad(pth)\n",
    "        pbar.set_description(f'{sample}: {ad.shape}')\n",
    "        coords = ad.obsm['coordinates'].astype(np.float32)\n",
    "        celltypes = np.array(ad.obs.subtype_rescued)\n",
    "        \n",
    "        dists = pd.DataFrame(index=u_cells, columns=u_cells, dtype=np.float32)\n",
    "        for c1,c2 in it_prod(u_cells,u_cells):\n",
    "            if c1==c2: \n",
    "                continue\n",
    "            if (np.sum(celltypes==c1)<min_cells) or (np.sum(celltypes==c2)<min_cells):\n",
    "                continue\n",
    "            d = celltype_distances(coords, celltypes, c1, c2, k=10, mode='nearest', \n",
    "                                   summary_fn=np.median)\n",
    "            dists.loc[c1,c2] = np.median(d)\n",
    "            \n",
    "        cellular_distances[sample] = dists.copy()"
   ]
  },
  {
   "cell_type": "code",
   "execution_count": null,
   "id": "incorrect-outdoors",
   "metadata": {},
   "outputs": [],
   "source": [
    "\n",
    "ds = []\n",
    "samples = []\n",
    "queries = []\n",
    "targets = []\n",
    "\n",
    "t = 'CD8T_Trm'\n",
    "qs = ['Epithelial_KRT', 'Epithelial', 'Epithelial_CDH']\n",
    "for q in qs:\n",
    "\n",
    "    vals = []\n",
    "    for k,v in cellular_distances.items():\n",
    "        z = v.loc[q,t]\n",
    "        if np.isnan(z):\n",
    "            continue\n",
    "        ds.append(np.log10(z))\n",
    "        samples.append(k)\n",
    "        queries.append(q)\n",
    "        targets.append(t)\n",
    "\n",
    "        \n",
    "data = {'Distances': ds,\n",
    "        'Samples': samples,\n",
    "        'Query_cell': queries,\n",
    "        'Target_cell': targets,}\n",
    "distances = pd.DataFrame( data )\n",
    "\n",
    "rcParams['figure.facecolor'] = (1,1,1,1)\n",
    "plt.figure(figsize=(3,3), dpi=90)\n",
    "ax = plt.gca()\n",
    "sns.boxplot(data=distances, x='Query_cell', y='Distances', ax=ax, color='w')\n",
    "sns.stripplot(data=distances, x='Query_cell', y='Distances', color='k', ax=ax)\n",
    "\n",
    "_ = add_stat_annotation(data=distances, x='Query_cell', y='Distances', ax=ax,\n",
    "                        box_pairs=[(c1,c2) for c1,c2 in combinations(qs,2) if c1!=c2],\n",
    "                        text_format='simple',\n",
    "                        test='Mann-Whitney',\n",
    "                        comparisons_correction=None\n",
    "                       )\n",
    "\n",
    "ax.set_xticklabels(ax.get_xticklabels(), rotation=30)\n",
    "plt.title(f'Median distance to nearest {t} per biopsy')\n",
    "# plt.title(f'Mean distance to nearby {t} per biopsy')\n"
   ]
  },
  {
   "cell_type": "code",
   "execution_count": null,
   "id": "cordless-channels",
   "metadata": {},
   "outputs": [],
   "source": []
  },
  {
   "cell_type": "code",
   "execution_count": null,
   "id": "alien-cleanup",
   "metadata": {},
   "outputs": [],
   "source": []
  },
  {
   "cell_type": "code",
   "execution_count": null,
   "id": "thirty-blocking",
   "metadata": {},
   "outputs": [],
   "source": []
  },
  {
   "cell_type": "code",
   "execution_count": null,
   "id": "lovely-addiction",
   "metadata": {},
   "outputs": [],
   "source": []
  }
 ],
 "metadata": {
  "kernelspec": {
   "display_name": "Python 3",
   "language": "python",
   "name": "python3"
  },
  "language_info": {
   "codemirror_mode": {
    "name": "ipython",
    "version": 3
   },
   "file_extension": ".py",
   "mimetype": "text/x-python",
   "name": "python",
   "nbconvert_exporter": "python",
   "pygments_lexer": "ipython3",
   "version": "3.8.5"
  }
 },
 "nbformat": 4,
 "nbformat_minor": 5
}
