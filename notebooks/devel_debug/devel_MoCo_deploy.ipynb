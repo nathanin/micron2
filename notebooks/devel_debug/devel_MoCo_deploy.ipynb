{
 "cells": [
  {
   "cell_type": "code",
   "execution_count": 1,
   "id": "happy-nirvana",
   "metadata": {},
   "outputs": [
    {
     "name": "stderr",
     "output_type": "stream",
     "text": [
      "/home/ingn/devel/micron2/micron2/data/pull_nuclei.py:13: UserWarning: Failed to import pytiff\n",
      "  warnings.warn('Failed to import pytiff')\n",
      "/home/ingn/devel/micron2/micron2/data/load_nuclei.py:11: UserWarning: Failed to import pytiff.\n",
      "  warnings.warn('Failed to import pytiff.')\n",
      "2021-07-20 11:19:19.760796: I tensorflow/stream_executor/platform/default/dso_loader.cc:53] Successfully opened dynamic library libcudart.so.11.0\n",
      "/home/ingn/devel/micron2/micron2/clustering/utils.py:18: UserWarning: Failed to import GPU tools. Accelerated neighbors/leiden/t-SNE/UMAP will not be unavailable\n",
      "  warnings.warn('Failed to import GPU tools. Accelerated neighbors/leiden/t-SNE/UMAP will not be unavailable')\n",
      "/home/ingn/devel/micron2/micron2/spatial/spatial_tools.py:17: UserWarning: Failed to load RAPIDS cuda-enabled tools. Falling back to sklearn\n",
      "  warnings.warn(\"Failed to load RAPIDS cuda-enabled tools. Falling back to sklearn\")\n",
      "2021-07-20 11:19:21.108774: I tensorflow/stream_executor/platform/default/dso_loader.cc:53] Successfully opened dynamic library libcuda.so.1\n",
      "2021-07-20 11:19:21.154632: I tensorflow/core/common_runtime/gpu/gpu_device.cc:1733] Found device 0 with properties: \n",
      "pciBusID: 0000:01:00.0 name: GeForce RTX 3090 computeCapability: 8.6\n",
      "coreClock: 1.695GHz coreCount: 82 deviceMemorySize: 23.70GiB deviceMemoryBandwidth: 871.81GiB/s\n",
      "2021-07-20 11:19:21.154709: I tensorflow/stream_executor/cuda/cuda_gpu_executor.cc:937] successful NUMA node read from SysFS had negative value (-1), but there must be at least one NUMA node, so returning NUMA node zero\n",
      "2021-07-20 11:19:21.155431: I tensorflow/core/common_runtime/gpu/gpu_device.cc:1733] Found device 1 with properties: \n",
      "pciBusID: 0000:21:00.0 name: GeForce RTX 3090 computeCapability: 8.6\n",
      "coreClock: 1.695GHz coreCount: 82 deviceMemorySize: 23.70GiB deviceMemoryBandwidth: 871.81GiB/s\n",
      "2021-07-20 11:19:21.155458: I tensorflow/stream_executor/platform/default/dso_loader.cc:53] Successfully opened dynamic library libcudart.so.11.0\n",
      "2021-07-20 11:19:21.157093: I tensorflow/stream_executor/platform/default/dso_loader.cc:53] Successfully opened dynamic library libcublas.so.11\n",
      "2021-07-20 11:19:21.157137: I tensorflow/stream_executor/platform/default/dso_loader.cc:53] Successfully opened dynamic library libcublasLt.so.11\n",
      "2021-07-20 11:19:21.157707: I tensorflow/stream_executor/platform/default/dso_loader.cc:53] Successfully opened dynamic library libcufft.so.10\n",
      "2021-07-20 11:19:21.157858: I tensorflow/stream_executor/platform/default/dso_loader.cc:53] Successfully opened dynamic library libcurand.so.10\n",
      "2021-07-20 11:19:21.159512: I tensorflow/stream_executor/platform/default/dso_loader.cc:53] Successfully opened dynamic library libcusolver.so.11\n",
      "2021-07-20 11:19:21.159961: I tensorflow/stream_executor/platform/default/dso_loader.cc:53] Successfully opened dynamic library libcusparse.so.11\n",
      "2021-07-20 11:19:21.160059: I tensorflow/stream_executor/platform/default/dso_loader.cc:53] Successfully opened dynamic library libcudnn.so.8\n",
      "2021-07-20 11:19:21.160973: I tensorflow/stream_executor/cuda/cuda_gpu_executor.cc:937] successful NUMA node read from SysFS had negative value (-1), but there must be at least one NUMA node, so returning NUMA node zero\n",
      "2021-07-20 11:19:21.162523: I tensorflow/stream_executor/cuda/cuda_gpu_executor.cc:937] successful NUMA node read from SysFS had negative value (-1), but there must be at least one NUMA node, so returning NUMA node zero\n",
      "2021-07-20 11:19:21.163244: I tensorflow/core/common_runtime/gpu/gpu_device.cc:1871] Adding visible gpu devices: 0, 1\n"
     ]
    }
   ],
   "source": [
    "%load_ext autoreload\n",
    "%autoreload 2\n",
    "\n",
    "%matplotlib inline\n",
    "from matplotlib import pyplot as plt\n",
    "import seaborn as sns\n",
    "import pandas as pd\n",
    "import numpy as np\n",
    "\n",
    "import os\n",
    "import sys\n",
    "\n",
    "from micron2.clustering import Encoder, Classifier\n",
    "\n",
    "import tensorflow as tf\n",
    "import umap\n",
    "import tqdm.auto as tqdm\n",
    "\n",
    "physical_devices = tf.config.list_physical_devices('GPU')\n",
    "for pdev in physical_devices:\n",
    "    tf.config.experimental.set_memory_growth(pdev, True)"
   ]
  },
  {
   "cell_type": "code",
   "execution_count": 2,
   "id": "d2196848-0558-4c8c-b3b6-5d1cff6ef277",
   "metadata": {},
   "outputs": [],
   "source": [
    "use_channels = ['CD8', 'CD4', 'PanCytoK', 'PD-1', 'CD45', \n",
    "                'CD20', 'CD138', 'CD68', 'CD31', 'CD11c', \n",
    "                'FOXP3', 'CXCR5', 'CXCL13', 'CD3e', \n",
    "                'Ki-67', 'LAG3', 'HLA-DR', 'aSMA']"
   ]
  },
  {
   "cell_type": "code",
   "execution_count": 3,
   "id": "maritime-restoration",
   "metadata": {},
   "outputs": [
    {
     "name": "stdout",
     "output_type": "stream",
     "text": [
      "/common/ingn/CODEX_PROCESSED_DATA/pembroRT_immune/phase2/210701_PembroRT_Cas18_TLSpanel_reg1/collection-21-Jul-18-19-33-17/training_cells_images.npy\n",
      "/common/ingn/CODEX_PROCESSED_DATA/pembroRT_immune/phase2/210701_PembroRT_Cas18_TLSpanel_reg2/collection-21-Jul-18-15-08-49/training_cells_images.npy\n",
      "/common/ingn/CODEX_PROCESSED_DATA/pembroRT_immune/phase2/210701_PembroRT_Cas18_TLSpanel_reg2/collection-21-Jul-18-17-33-48/training_cells_images.npy\n",
      "/common/ingn/CODEX_PROCESSED_DATA/pembroRT_immune/phase2/210701_PembroRT_Cas18_TLSpanel_reg2/collection-21-Jul-18-21-36-20/training_cells_images.npy\n",
      "/common/ingn/CODEX_PROCESSED_DATA/pembroRT_immune/phase2/210701_PembroRT_Cas18_TLSpanel_reg3/collection-21-Jul-18-16-02-55/training_cells_images.npy\n",
      "/common/ingn/CODEX_PROCESSED_DATA/pembroRT_immune/phase2/210701_PembroRT_Cas18_TLSpanel_reg3/collection-21-Jul-18-18-08-54/training_cells_images.npy\n",
      "/common/ingn/CODEX_PROCESSED_DATA/pembroRT_immune/phase2/210702_PembroRT_Cas19_TLSpanel_reg2/collection-21-Jul-17-21-17-16/training_cells_images.npy\n",
      "/common/ingn/CODEX_PROCESSED_DATA/pembroRT_immune/phase2/210702_PembroRT_Cas19_TLSpanel_reg2/collection-21-Jul-17-22-03-29/training_cells_images.npy\n",
      "/common/ingn/CODEX_PROCESSED_DATA/pembroRT_immune/phase2/210702_PembroRT_Cas19_TLSpanel_reg2/collection-21-Jul-18-13-13-05/training_cells_images.npy\n",
      "/common/ingn/CODEX_PROCESSED_DATA/pembroRT_immune/phase2/210702_PembroRT_Cas19_TLSpanel_reg2/collection-21-Jul-19-10-11-51/training_cells_images.npy\n",
      "/common/ingn/CODEX_PROCESSED_DATA/pembroRT_immune/phase2/210702_PembroRT_Cas19_TLSpanel_reg2/collection-21-Jul-19-11-22-41/training_cells_images.npy\n",
      "(122092, 64, 64, 19) uint8\n",
      "(122092,)\n",
      "(array(['', 'Bcell', 'CD4T', 'CD8T', 'DC', 'Endothelial', 'Epithelial',\n",
      "       'Mac', 'Plasma', 'Stromal'], dtype='<U11'), array([121229,    161,    133,    171,     14,     77,    162,     62,\n",
      "           65,     18]))\n",
      "{'DAPI': 0, 'CD8': 1, 'CD4': 2, 'PanCytoK': 3, 'PD-1': 4, 'CD45': 5, 'CD20': 6, 'CD138': 7, 'CD68': 8, 'CD31': 9, 'CD11c': 10, 'FOXP3': 11, 'CXCR5': 12, 'CXCL13': 13, 'CD3e': 14, 'Ki-67': 15, 'LAG3': 16, 'HLA-DR': 17, 'aSMA': 18}\n",
      "(122092, 64, 64, 18)\n",
      "(122092, 9)\n",
      "labelled cells: 863\n"
     ]
    }
   ],
   "source": [
    "# Change this cell to load from multiple samples, and concatenate. \n",
    "# make sure to place channels correctly, in case they're permuted for some reason between collections.\n",
    "import glob\n",
    "srch = '/common/ingn/CODEX_PROCESSED_DATA/pembroRT_immune/phase2/*/collection*'\n",
    "\n",
    "image_files = sorted(glob.glob(f'{srch}/training_cells_images.npy'))\n",
    "annot_files = sorted(glob.glob(f'{srch}/training_cells_annots.npy'))\n",
    "channel_files = sorted(glob.glob(f'{srch}/training_cells_channels.npy'))\n",
    "\n",
    "for f,af in zip(image_files, annot_files):\n",
    "    x = np.load(f)\n",
    "    y = np.load(af)\n",
    "    \n",
    "    if x.shape[0] != y.shape[0]:\n",
    "        print(f)\n",
    "\n",
    "for f in image_files:\n",
    "    print(f)\n",
    "\n",
    "images = np.concatenate([np.load(f) for f in image_files], axis=0)\n",
    "annots = np.concatenate([np.load(f) for f in annot_files], axis=0)\n",
    "channels = np.load(channel_files[0])\n",
    "channels = {k:i for i,k in enumerate(channels)}\n",
    "\n",
    "print(images.shape, images.dtype)\n",
    "print(annots.shape)\n",
    "print(np.unique(annots, return_counts=True))\n",
    "print(channels)\n",
    "\n",
    "# perm = np.random.choice(images.shape[0], images.shape[0], replace=False)\n",
    "# images = images[perm]\n",
    "# annots = annots[perm]\n",
    "\n",
    "## subset channels\n",
    "# ch_indices = [channels[ch] for ch in use_channels]\n",
    "# images = images[:,:,:,ch_indices]\n",
    "# print(images.shape)\n",
    "# channels = {k:v for k,v in channels.items() if k in use_channels}\n",
    "\n",
    "u_annots, annots_int = np.unique(annots, return_inverse=True)\n",
    "labels = np.eye(len(u_annots))[annots_int]\n",
    "labels = labels[:,1:]\n",
    "\n",
    "print(labels.shape)\n",
    "print('labelled cells:', np.sum(np.sum(labels, axis=1)>0))"
   ]
  },
  {
   "cell_type": "code",
   "execution_count": 4,
   "id": "fff5283c-fb74-4426-93ff-4e4439092e64",
   "metadata": {},
   "outputs": [],
   "source": [
    "# # subtract the average of each channel\n",
    "# channel_means = {}\n",
    "# for ch,i in channels.items():\n",
    "#     stack = images[:,:,:,i]\n",
    "#     mn = np.mean(stack, axis=0, keepdims=True)\n",
    "#     print(ch, i, stack.shape, mn.shape)\n",
    "#     channel_means[ch] = mn.copy().astype(np.float32)\n",
    "    \n",
    "# images_pp = images.copy().astype(np.float32)\n",
    "# for ch, mn in channel_means.items():\n",
    "#     if ch=='DAPI': continue\n",
    "#     k = channels[ch]\n",
    "#     print(ch,k,mn.shape,mn.dtype)\n",
    "#     images_pp[:,:,:,k] -= mn"
   ]
  },
  {
   "cell_type": "code",
   "execution_count": 5,
   "id": "foreign-sharp",
   "metadata": {},
   "outputs": [],
   "source": [
    "weights_path = '/home/ingn/devel/micron2/notebooks/devel_debug/moco-models/weights_cls.h5'"
   ]
  },
  {
   "cell_type": "code",
   "execution_count": 6,
   "id": "stone-decimal",
   "metadata": {},
   "outputs": [
    {
     "name": "stdout",
     "output_type": "stream",
     "text": [
      "[48, 48, 18]\n"
     ]
    },
    {
     "name": "stderr",
     "output_type": "stream",
     "text": [
      "2021-07-20 11:19:34.626815: I tensorflow/core/platform/cpu_feature_guard.cc:142] This TensorFlow binary is optimized with oneAPI Deep Neural Network Library (oneDNN) to use the following CPU instructions in performance-critical operations:  AVX2 FMA\n",
      "To enable them in other operations, rebuild TensorFlow with the appropriate compiler flags.\n",
      "2021-07-20 11:19:34.809588: I tensorflow/core/common_runtime/gpu/gpu_device.cc:1733] Found device 0 with properties: \n",
      "pciBusID: 0000:01:00.0 name: GeForce RTX 3090 computeCapability: 8.6\n",
      "coreClock: 1.695GHz coreCount: 82 deviceMemorySize: 23.70GiB deviceMemoryBandwidth: 871.81GiB/s\n",
      "2021-07-20 11:19:34.809667: I tensorflow/stream_executor/cuda/cuda_gpu_executor.cc:937] successful NUMA node read from SysFS had negative value (-1), but there must be at least one NUMA node, so returning NUMA node zero\n",
      "2021-07-20 11:19:34.810384: I tensorflow/core/common_runtime/gpu/gpu_device.cc:1733] Found device 1 with properties: \n",
      "pciBusID: 0000:21:00.0 name: GeForce RTX 3090 computeCapability: 8.6\n",
      "coreClock: 1.695GHz coreCount: 82 deviceMemorySize: 23.70GiB deviceMemoryBandwidth: 871.81GiB/s\n",
      "2021-07-20 11:19:34.811202: I tensorflow/stream_executor/cuda/cuda_gpu_executor.cc:937] successful NUMA node read from SysFS had negative value (-1), but there must be at least one NUMA node, so returning NUMA node zero\n",
      "2021-07-20 11:19:34.812705: I tensorflow/stream_executor/cuda/cuda_gpu_executor.cc:937] successful NUMA node read from SysFS had negative value (-1), but there must be at least one NUMA node, so returning NUMA node zero\n",
      "2021-07-20 11:19:34.813407: I tensorflow/core/common_runtime/gpu/gpu_device.cc:1871] Adding visible gpu devices: 0, 1\n",
      "2021-07-20 11:19:34.813484: I tensorflow/stream_executor/platform/default/dso_loader.cc:53] Successfully opened dynamic library libcudart.so.11.0\n",
      "2021-07-20 11:19:35.337773: I tensorflow/core/common_runtime/gpu/gpu_device.cc:1258] Device interconnect StreamExecutor with strength 1 edge matrix:\n",
      "2021-07-20 11:19:35.337806: I tensorflow/core/common_runtime/gpu/gpu_device.cc:1264]      0 1 \n",
      "2021-07-20 11:19:35.337811: I tensorflow/core/common_runtime/gpu/gpu_device.cc:1277] 0:   N N \n",
      "2021-07-20 11:19:35.337814: I tensorflow/core/common_runtime/gpu/gpu_device.cc:1277] 1:   N N \n",
      "2021-07-20 11:19:35.338930: I tensorflow/stream_executor/cuda/cuda_gpu_executor.cc:937] successful NUMA node read from SysFS had negative value (-1), but there must be at least one NUMA node, so returning NUMA node zero\n",
      "2021-07-20 11:19:35.340439: I tensorflow/stream_executor/cuda/cuda_gpu_executor.cc:937] successful NUMA node read from SysFS had negative value (-1), but there must be at least one NUMA node, so returning NUMA node zero\n",
      "2021-07-20 11:19:35.341898: I tensorflow/core/common_runtime/gpu/gpu_device.cc:1418] Created TensorFlow device (/job:localhost/replica:0/task:0/device:GPU:0 with 22179 MB memory) -> physical GPU (device: 0, name: GeForce RTX 3090, pci bus id: 0000:01:00.0, compute capability: 8.6)\n",
      "2021-07-20 11:19:35.342271: I tensorflow/stream_executor/cuda/cuda_gpu_executor.cc:937] successful NUMA node read from SysFS had negative value (-1), but there must be at least one NUMA node, so returning NUMA node zero\n",
      "2021-07-20 11:19:35.342985: I tensorflow/core/common_runtime/gpu/gpu_device.cc:1418] Created TensorFlow device (/job:localhost/replica:0/task:0/device:GPU:1 with 22310 MB memory) -> physical GPU (device: 1, name: GeForce RTX 3090, pci bus id: 0000:21:00.0, compute capability: 8.6)\n",
      "/home/ingn/miniconda3/envs/micron2-tf/lib/python3.9/site-packages/tensorflow/python/keras/applications/imagenet_utils.py:331: UserWarning: This model usually expects 1 or 3 input channels. However, it was passed an input_shape with 18 input channels.\n",
      "  warnings.warn('This model usually expects 1 or 3 input channels. '\n"
     ]
    },
    {
     "name": "stdout",
     "output_type": "stream",
     "text": [
      "(1, 48, 48, 18)\n"
     ]
    },
    {
     "name": "stderr",
     "output_type": "stream",
     "text": [
      "2021-07-20 11:19:35.800836: I tensorflow/stream_executor/platform/default/dso_loader.cc:53] Successfully opened dynamic library libcudnn.so.8\n",
      "2021-07-20 11:19:36.228510: I tensorflow/stream_executor/cuda/cuda_dnn.cc:359] Loaded cuDNN version 8200\n",
      "2021-07-20 11:19:36.907360: I tensorflow/stream_executor/platform/default/dso_loader.cc:53] Successfully opened dynamic library libcublas.so.11\n",
      "2021-07-20 11:19:37.299730: I tensorflow/stream_executor/platform/default/dso_loader.cc:53] Successfully opened dynamic library libcublasLt.so.11\n",
      "2021-07-20 11:19:37.339235: I tensorflow/stream_executor/cuda/cuda_blas.cc:1838] TensorFloat-32 will be used for the matrix multiplication. This will only be logged once.\n"
     ]
    },
    {
     "name": "stdout",
     "output_type": "stream",
     "text": [
      "(1, 256)\n",
      "(1, 9)\n"
     ]
    }
   ],
   "source": [
    "data_shape = [48, 48, len(channels)]\n",
    "print(data_shape)\n",
    "\n",
    "x_dummy = tf.zeros([1] + data_shape, dtype=tf.float32)\n",
    "print(x_dummy.shape)\n",
    "\n",
    "encoder = Encoder(data_shape=data_shape, z_dim=256, encoder_type='ResNet50V2')\n",
    "z = encoder(x_dummy)\n",
    "\n",
    "classifier = Classifier(encoder=encoder, n_classes=labels.shape[1], mlp_dim=128) \n",
    "y = classifier(x_dummy)\n",
    "\n",
    "print(z.shape)\n",
    "print(y.shape)\n",
    "\n",
    "classifier.load_weights(weights_path)"
   ]
  },
  {
   "cell_type": "code",
   "execution_count": 7,
   "id": "damaged-documentation",
   "metadata": {},
   "outputs": [
    {
     "name": "stdout",
     "output_type": "stream",
     "text": [
      "(256, 48, 48, 18)\n"
     ]
    },
    {
     "name": "stderr",
     "output_type": "stream",
     "text": [
      "2021-07-20 11:19:54.988987: I tensorflow/compiler/mlir/mlir_graph_optimization_pass.cc:176] None of the MLIR Optimization Passes are enabled (registered 2)\n",
      "2021-07-20 11:19:55.010052: I tensorflow/core/platform/profile_utils/cpu_utils.cc:114] CPU Frequency: 2900065000 Hz\n"
     ]
    }
   ],
   "source": [
    "def process(x):\n",
    "    \"\"\"\n",
    "    x is [N, h, w, c]\n",
    "    \"\"\"\n",
    "    x = tf.cast(x, tf.float32)/255.\n",
    "    x = tf.image.central_crop(x, 0.75)\n",
    "    \n",
    "    return x\n",
    "    \n",
    "# Create a dataset with infinite repeating \n",
    "batch_size = 256\n",
    "dataset = (tf.data.Dataset.from_tensor_slices(images)\n",
    "           .map(process, num_parallel_calls=4)\n",
    "           .batch(batch_size, drop_remainder=False)\n",
    "           .prefetch(1)\n",
    "          )\n",
    "\n",
    "for batch in dataset:\n",
    "    print(batch.shape)\n",
    "    break"
   ]
  },
  {
   "cell_type": "code",
   "execution_count": 8,
   "id": "entitled-minneapolis",
   "metadata": {},
   "outputs": [
    {
     "data": {
      "application/vnd.jupyter.widget-view+json": {
       "model_id": "9b4dd650081e42f0ad598b2354daf928",
       "version_major": 2,
       "version_minor": 0
      },
      "text/plain": [
       "  0%|          | 0/477 [00:01<?, ?it/s]"
      ]
     },
     "metadata": {},
     "output_type": "display_data"
    },
    {
     "name": "stdout",
     "output_type": "stream",
     "text": [
      "(122092, 9) (122092, 256)\n"
     ]
    }
   ],
   "source": [
    "preds = []\n",
    "zs = []\n",
    "for b in tqdm.tqdm(dataset):\n",
    "    y = classifier(b, training=False)\n",
    "    z = classifier.encoder(b, training=False)\n",
    "    preds.append(y.numpy())\n",
    "    zs.append(z.numpy())\n",
    "    \n",
    "preds = np.concatenate(preds, axis=0)\n",
    "zs = np.concatenate(zs, axis=0)\n",
    "print(preds.shape, zs.shape)"
   ]
  },
  {
   "cell_type": "code",
   "execution_count": 9,
   "id": "d62cc7df-1337-44ac-b769-3f01671acef0",
   "metadata": {},
   "outputs": [
    {
     "name": "stdout",
     "output_type": "stream",
     "text": [
      "(122092, 2)\n"
     ]
    }
   ],
   "source": [
    "# help(umap.UMAP)\n",
    "emb = umap.UMAP().fit_transform(zs)\n",
    "print(emb.shape)"
   ]
  },
  {
   "cell_type": "code",
   "execution_count": 10,
   "id": "37b124a1-a0c9-45db-a682-8e38d7fa8237",
   "metadata": {},
   "outputs": [
    {
     "data": {
      "text/plain": [
       "<matplotlib.collections.PathCollection at 0x7f6278cb7610>"
      ]
     },
     "execution_count": 10,
     "metadata": {},
     "output_type": "execute_result"
    },
    {
     "data": {
      "image/png": "[encoded data removed]",
      "text/plain": [
       "<Figure size 432x288 with 1 Axes>"
      ]
     },
     "metadata": {
      "needs_background": "light"
     },
     "output_type": "display_data"
    }
   ],
   "source": [
    "fig = plt.figure()\n",
    "ax = fig.add_subplot(1,1,1)\n",
    "ax.set_aspect('equal')\n",
    "ax.scatter(emb[:,0], emb[:,1], s=3, lw=0)"
   ]
  },
  {
   "cell_type": "code",
   "execution_count": 11,
   "id": "federal-precipitation",
   "metadata": {},
   "outputs": [],
   "source": [
    "y = np.argmax(preds, axis=1)\n",
    "label_map = {v:i-1 for i,v in enumerate(u_annots) if i>0}"
   ]
  },
  {
   "cell_type": "code",
   "execution_count": 12,
   "id": "ordinary-vegetarian",
   "metadata": {},
   "outputs": [
    {
     "data": {
      "text/plain": [
       "(array([0, 2]), array([122091,      1]))"
      ]
     },
     "execution_count": 12,
     "metadata": {},
     "output_type": "execute_result"
    }
   ],
   "source": [
    "np.unique(y, return_counts=True)"
   ]
  },
  {
   "cell_type": "code",
   "execution_count": 13,
   "id": "logical-village",
   "metadata": {},
   "outputs": [
    {
     "data": {
      "text/plain": [
       "0.186558516801854"
      ]
     },
     "execution_count": 13,
     "metadata": {},
     "output_type": "execute_result"
    }
   ],
   "source": [
    "has_labels = labels.sum(axis=1) > 0\n",
    "np.mean(y[has_labels] == np.argmax(labels, axis=1)[has_labels])"
   ]
  },
  {
   "cell_type": "code",
   "execution_count": 14,
   "id": "clinical-tokyo",
   "metadata": {},
   "outputs": [
    {
     "data": {
      "text/plain": [
       "(array([0, 1, 2, 3, 4, 5, 6, 7, 8]),\n",
       " array([161, 133, 171,  14,  77, 162,  62,  65,  18]))"
      ]
     },
     "execution_count": 14,
     "metadata": {},
     "output_type": "execute_result"
    }
   ],
   "source": [
    "np.unique(np.argmax(labels, axis=1)[has_labels], return_counts=True)"
   ]
  },
  {
   "cell_type": "code",
   "execution_count": 15,
   "id": "employed-palace",
   "metadata": {},
   "outputs": [
    {
     "ename": "IndexError",
     "evalue": "index 18 is out of bounds for axis 3 with size 18",
     "output_type": "error",
     "traceback": [
      "\u001b[0;31m---------------------------------------------------------------------------\u001b[0m",
      "\u001b[0;31mIndexError\u001b[0m                                Traceback (most recent call last)",
      "\u001b[0;32m/tmp/ipykernel_3942542/1154831771.py\u001b[0m in \u001b[0;36m<module>\u001b[0;34m\u001b[0m\n\u001b[1;32m     18\u001b[0m \u001b[0;34m\u001b[0m\u001b[0m\n\u001b[1;32m     19\u001b[0m         \u001b[0mk\u001b[0m \u001b[0;34m=\u001b[0m \u001b[0mchannels\u001b[0m\u001b[0;34m[\u001b[0m\u001b[0mch\u001b[0m\u001b[0;34m]\u001b[0m\u001b[0;34m\u001b[0m\u001b[0;34m\u001b[0m\u001b[0m\n\u001b[0;32m---> 20\u001b[0;31m         \u001b[0mimg\u001b[0m \u001b[0;34m=\u001b[0m \u001b[0mimages\u001b[0m\u001b[0;34m[\u001b[0m\u001b[0mind\u001b[0m\u001b[0;34m,\u001b[0m \u001b[0;34m:\u001b[0m\u001b[0;34m,\u001b[0m \u001b[0;34m:\u001b[0m\u001b[0;34m,\u001b[0m \u001b[0mk\u001b[0m\u001b[0;34m]\u001b[0m \u001b[0;34m/\u001b[0m \u001b[0;36m255.\u001b[0m\u001b[0;34m\u001b[0m\u001b[0;34m\u001b[0m\u001b[0m\n\u001b[0m\u001b[1;32m     21\u001b[0m \u001b[0;34m\u001b[0m\u001b[0m\n\u001b[1;32m     22\u001b[0m         \u001b[0mb\u001b[0m \u001b[0;34m=\u001b[0m \u001b[0max\u001b[0m\u001b[0;34m.\u001b[0m\u001b[0mmatshow\u001b[0m\u001b[0;34m(\u001b[0m\u001b[0mimg\u001b[0m\u001b[0;34m,\u001b[0m \u001b[0mcmap\u001b[0m\u001b[0;34m=\u001b[0m\u001b[0;34m'Reds'\u001b[0m\u001b[0;34m,\u001b[0m \u001b[0mvmin\u001b[0m\u001b[0;34m=\u001b[0m\u001b[0;36m0\u001b[0m\u001b[0;34m,\u001b[0m \u001b[0mvmax\u001b[0m\u001b[0;34m=\u001b[0m\u001b[0;36m1\u001b[0m\u001b[0;34m)\u001b[0m\u001b[0;34m\u001b[0m\u001b[0;34m\u001b[0m\u001b[0m\n",
      "\u001b[0;31mIndexError\u001b[0m: index 18 is out of bounds for axis 3 with size 18"
     ]
    },
    {
     "data": {
      "image/png": "[encoded data removed]",
      "text/plain": [
       "<Figure size 1440x864 with 18 Axes>"
      ]
     },
     "metadata": {
      "needs_background": "light"
     },
     "output_type": "display_data"
    }
   ],
   "source": [
    "chs = list(channels.keys())\n",
    "\n",
    "fig = plt.figure(figsize=(20,12))\n",
    "# inds = np.random.choice(images.shape[0], 4, replace=False)\n",
    "\n",
    "u_cts = np.unique(annots)\n",
    "\n",
    "m = 1\n",
    "for i,ct in enumerate(label_map.keys()):\n",
    "    inds = np.nonzero(y==label_map[ct])[0] \n",
    "    if len(inds)==0:\n",
    "        continue\n",
    "    ind = np.random.choice(inds)\n",
    "    \n",
    "    for j,ch in enumerate(chs):\n",
    "        ax = fig.add_subplot(len(u_cts),len(chs),m)\n",
    "        m += 1\n",
    "        \n",
    "        k = channels[ch]\n",
    "        img = images[ind, :, :, k] / 255.\n",
    "        \n",
    "        b = ax.matshow(img, cmap='Reds', vmin=0, vmax=1)\n",
    "        # plt.colorbar(b, ax=ax)\n",
    "        ax.axis('off')\n",
    "    \n",
    "        if i==0:\n",
    "            ax.set_title(ch)\n",
    "        \n",
    "        if j==0:\n",
    "            ax.annotate(ct, (0.05, 0.8), xycoords='axes fraction', color='k')"
   ]
  },
  {
   "cell_type": "code",
   "execution_count": null,
   "id": "silver-relief",
   "metadata": {},
   "outputs": [],
   "source": []
  },
  {
   "cell_type": "code",
   "execution_count": null,
   "id": "alleged-crest",
   "metadata": {},
   "outputs": [],
   "source": []
  }
 ],
 "metadata": {
  "kernelspec": {
   "display_name": "Python (micron2-tf)",
   "language": "python",
   "name": "micron2-tf"
  },
  "language_info": {
   "codemirror_mode": {
    "name": "ipython",
    "version": 3
   },
   "file_extension": ".py",
   "mimetype": "text/x-python",
   "name": "python",
   "nbconvert_exporter": "python",
   "pygments_lexer": "ipython3",
   "version": "3.9.5"
  }
 },
 "nbformat": 4,
 "nbformat_minor": 5
}
