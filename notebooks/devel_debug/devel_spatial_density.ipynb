{
 "cells": [
  {
   "cell_type": "code",
   "execution_count": null,
   "id": "structured-southwest",
   "metadata": {},
   "outputs": [],
   "source": [
    "%load_ext autoreload\n",
    "%autoreload 2\n",
    "%matplotlib inline\n",
    "\n",
    "import scanpy as sc\n",
    "import numpy as np\n",
    "import pandas as pd\n",
    "\n",
    "from matplotlib import pyplot as plt\n",
    "from matplotlib import rcParams\n",
    "import seaborn as sns"
   ]
  },
  {
   "cell_type": "code",
   "execution_count": null,
   "id": "going-nursery",
   "metadata": {},
   "outputs": [],
   "source": [
    "# adata = sc.read_h5ad(\"/storage/codex/datasets_v1/bladder_merged_v5.h5ad\")\n",
    "# adata\n",
    "\n",
    "ad = sc.read_h5ad(\"/storage/codex/preprocessed_data/210309_Final_BoneMarrow_reg0/210309_Final_BoneMarrow_reg0.h5ad\")\n",
    "ad"
   ]
  },
  {
   "cell_type": "code",
   "execution_count": null,
   "id": "mechanical-layout",
   "metadata": {},
   "outputs": [],
   "source": [
    "# ad = adata[adata.obs.sample_id=='210226_Bladder_TMA1_reg10_v4']\n",
    "# ad"
   ]
  },
  {
   "cell_type": "code",
   "execution_count": null,
   "id": "broke-conservation",
   "metadata": {},
   "outputs": [],
   "source": []
  },
  {
   "cell_type": "code",
   "execution_count": null,
   "id": "animated-tucson",
   "metadata": {},
   "outputs": [],
   "source": [
    "# https://docs.bokeh.org/en/latest/docs/gallery/color_sliders.html\n",
    "def hex_to_dec(hex):\n",
    "    red = ''.join(hex.strip('#')[0:2])\n",
    "    green = ''.join(hex.strip('#')[2:4])\n",
    "    blue = ''.join(hex.strip('#')[4:6])\n",
    "    return np.array([int(red, 16), int(green, 16), int(blue,16)])/255\n",
    "\n",
    "\n",
    "def make_spatial_distributions(coords, celltypes, N=100, overlap=0.1, mode='distribution'):\n",
    "    \"\"\"\n",
    "    modes\n",
    "    distribution: distribution of cell types at postion X\n",
    "    relative-abundance: relative abundance of cell type at position X compared\n",
    "        to the rest of the spatial axis. `stackplot` parameter `baseline` can be\n",
    "        be `sym` or `wiggle`\n",
    "    total: raw counts\n",
    "    \"\"\"\n",
    "    #colors = [hex_to_dec(d) for d in ad.uns['celltype_gating_colors']]\n",
    "    spatial_coord = coords[:,0].copy()\n",
    "\n",
    "    u_cells = np.unique(celltypes)\n",
    "    x = np.linspace(np.min(coords[:,0]), np.max(coords[:,0]), N+1)\n",
    "    y = np.zeros((len(u_cells), N))\n",
    "    start = np.min(coords[:,0])\n",
    "    step = x[1]-x[0]\n",
    "    ovl = step * overlap\n",
    "    for i in range(N):\n",
    "        s = x[i]-ovl\n",
    "        e = x[i+1]+ovl\n",
    "        ix = (spatial_coord>s) & (spatial_coord<e)\n",
    "        u, cnt = np.unique(celltypes[ix], return_counts=True)\n",
    "        p = np.zeros(len(u_cells))\n",
    "        for k,c in enumerate(cnt):\n",
    "            p[u_cells==u[k]] = c\n",
    "        y[:,i] = p.copy()\n",
    "        \n",
    "    if mode=='distribution': \n",
    "        y = y / np.sum(y,axis=0)\n",
    "    elif mode=='relative-abundance':\n",
    "        y = (y.T / np.max(y,axis=1)).T\n",
    "    elif mode=='total':\n",
    "        pass\n",
    "\n",
    "    return np.arange(N), y"
   ]
  },
  {
   "cell_type": "code",
   "execution_count": null,
   "id": "recovered-charles",
   "metadata": {},
   "outputs": [],
   "source": [
    "from matplotlib.transforms import Affine2D\n",
    "import mpl_toolkits.axisartist.floating_axes as floating_axes\n",
    "\n",
    "# s = np.unique(adata.obs.sample_id)\n",
    "# s_ = np.random.choice(s)\n",
    "# ad = adata[adata.obs.sample_id==s_]\n",
    "\n",
    "# theta = np.random.choice(180)\n",
    "# rot = np.array([[np.cos(theta), -np.sin(theta)],\n",
    "#                 [np.sin(theta), np.cos(theta)]])\n",
    "\n",
    "coords = ad.obsm['coordinates_t'].copy()\n",
    "celltypes = np.array(ad.obs.celltype_gating)\n",
    "u_cells = np.unique(celltypes)\n",
    "\n",
    "colors = sns.color_palette('tab20', len(np.unique(celltypes)))\n",
    "\n",
    "rcParams['figure.dpi'] = 300\n",
    "r = np.max(np.abs(coords), axis=0)\n",
    "r = r[0]/r[1]\n",
    "fig, axs = plt.subplots(2,1, figsize=(3*r,4), \n",
    "                        gridspec_kw=dict(\n",
    "                            height_ratios=(5,1), \n",
    "                            hspace=0.1, )\n",
    "                       )\n",
    "ax = axs[0]\n",
    "_ , celltypes_numeric = np.unique(celltypes, return_inverse=True)\n",
    "color_list = [colors[i] for i in celltypes_numeric]\n",
    "ax.scatter(coords[:,0], coords[:,1], s=1, color=color_list)\n",
    "\n",
    "# for i,j in enumerate(u_cells):\n",
    "#     ix = celltypes==j\n",
    "#     c = coords[ix]\n",
    "#     ax.scatter(c[:,0], c[:,1], label=j, s=1, color=colors[i])\n",
    "    \n",
    "ax.legend(bbox_to_anchor=(1,1),markerscale=7, frameon=False)\n",
    "_ = ax.set_xticks([])\n",
    "_ = ax.set_yticks([])\n",
    "\n",
    "ax = axs[1]\n",
    "x, y = make_spatial_distributions(coords, celltypes, N=50, mode='distribution')\n",
    "_ = ax.stackplot(x, y, baseline='zero', colors=colors)\n",
    "_ = ax.set_xticks([])\n",
    "\n"
   ]
  },
  {
   "cell_type": "code",
   "execution_count": null,
   "id": "unauthorized-distinction",
   "metadata": {},
   "outputs": [],
   "source": [
    "i"
   ]
  },
  {
   "cell_type": "code",
   "execution_count": null,
   "id": "coordinated-robin",
   "metadata": {},
   "outputs": [],
   "source": []
  },
  {
   "cell_type": "code",
   "execution_count": null,
   "id": "conceptual-bobby",
   "metadata": {},
   "outputs": [],
   "source": []
  }
 ],
 "metadata": {
  "kernelspec": {
   "display_name": "Python 3",
   "language": "python",
   "name": "python3"
  },
  "language_info": {
   "codemirror_mode": {
    "name": "ipython",
    "version": 3
   },
   "file_extension": ".py",
   "mimetype": "text/x-python",
   "name": "python",
   "nbconvert_exporter": "python",
   "pygments_lexer": "ipython3",
   "version": "3.8.5"
  }
 },
 "nbformat": 4,
 "nbformat_minor": 5
}
