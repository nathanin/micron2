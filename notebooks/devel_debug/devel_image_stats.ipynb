{
 "cells": [
  {
   "cell_type": "code",
   "execution_count": null,
   "metadata": {},
   "outputs": [],
   "source": [
    "# Develop pulling stats from each channel imge from a nucleus dataset"
   ]
  },
  {
   "cell_type": "code",
   "execution_count": null,
   "metadata": {},
   "outputs": [],
   "source": [
    "import pandas as pd\n",
    "import numpy as np\n",
    "import h5py\n",
    "\n",
    "from tqdm.auto import tqdm\n",
    "\n",
    "%matplotlib inline\n",
    "from matplotlib import pyplot as plt\n",
    "import seaborn as sns"
   ]
  },
  {
   "cell_type": "code",
   "execution_count": null,
   "metadata": {},
   "outputs": [],
   "source": [
    "h5f = h5py.File(\"/dev/shm/dataset.hdf5\", \"r+\")"
   ]
  },
  {
   "cell_type": "code",
   "execution_count": null,
   "metadata": {},
   "outputs": [],
   "source": [
    "print(h5f.keys())\n",
    "print(h5f['cells'].keys())\n",
    "print(h5f['meta'].keys())"
   ]
  },
  {
   "cell_type": "code",
   "execution_count": null,
   "metadata": {},
   "outputs": [],
   "source": [
    "def post_process_channel_stats(h5f, group_name='intensity', return_values=True):\n",
    "    \"\"\"\n",
    "    Use data stored in hdf5 cell image dataset to get channel means per cell\n",
    "\n",
    "    - if 'meta/nuclear_masks' is a dataset in h5f, use it to restrict the means\n",
    "    to the area of the focused cell.\n",
    "    - otherwise, take the overall area in each area.\n",
    "\n",
    "    Args:\n",
    "        h5f (h5py.File object)\n",
    "        group_name (str): Group to place the means (default: intensity)\n",
    "        return_values (bool): If true, return np.arrays, if false, write to the h5f dataset (h5f must be in w or r+ mode).\n",
    "    Returns:\n",
    "        vals (dict): keys: channel names\n",
    "    \"\"\"\n",
    "    n_cells = len(h5f['meta/Cell_IDs'])\n",
    "    channel_names = [b.decode('UTF-8') for b in h5f['meta/channel_names'][:]]\n",
    "    vals = {k: np.zeros(n_cells, dtype=np.float32) for k in channel_names}\n",
    "\n",
    "    masks = h5f['meta/nuclear_masks'][:]\n",
    "    for channel in channel_names:\n",
    "        data_stack = h5f[f'cells/{channel}'][:]\n",
    "        pbar = tqdm(range(n_cells))\n",
    "        pbar.set_description(f'Channel {channel}')\n",
    "        for i in pbar:\n",
    "            mask = masks[i]\n",
    "            data = data_stack[i]\n",
    "            data = data[mask]\n",
    "            vals[channel][i] = np.mean(data)\n",
    "            if i % 50000 == 0:\n",
    "                pbar.set_description(f'Channel {channel} running mean: {np.mean(vals[channel]):3.4e}')\n",
    "    for channel in channel_names:\n",
    "        d = h5f.create_dataset(f'{group_name}/{channel}', data=vals[channel])\n",
    "        d.attrs['description'] = f'mean intensity of {channel} channel'\n",
    "    h5f.flush()\n",
    "    \n",
    "    if return_values:\n",
    "        return vals \n",
    "\n",
    "# vals = post_process_channel_stats(h5f)"
   ]
  },
  {
   "cell_type": "code",
   "execution_count": null,
   "metadata": {},
   "outputs": [],
   "source": [
    "post_process_channel_stats(h5f, return_values=False)"
   ]
  },
  {
   "cell_type": "code",
   "execution_count": null,
   "metadata": {},
   "outputs": [],
   "source": [
    "print(h5f.keys())\n",
    "print(h5f['cells'].keys())\n",
    "print(h5f['meta'].keys())\n",
    "print(h5f['intensity'].keys())"
   ]
  },
  {
   "cell_type": "code",
   "execution_count": null,
   "metadata": {},
   "outputs": [],
   "source": [
    "h5f.close()"
   ]
  }
 ],
 "metadata": {
  "kernelspec": {
   "display_name": "Python 3",
   "language": "python",
   "name": "python3"
  },
  "language_info": {
   "codemirror_mode": {
    "name": "ipython",
    "version": 3
   },
   "file_extension": ".py",
   "mimetype": "text/x-python",
   "name": "python",
   "nbconvert_exporter": "python",
   "pygments_lexer": "ipython3",
   "version": "3.8.5"
  }
 },
 "nbformat": 4,
 "nbformat_minor": 4
}
