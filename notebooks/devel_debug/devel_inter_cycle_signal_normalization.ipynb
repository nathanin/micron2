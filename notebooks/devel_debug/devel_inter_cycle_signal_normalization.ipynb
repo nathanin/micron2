{
 "cells": [
  {
   "cell_type": "code",
   "execution_count": null,
   "id": "reverse-scope",
   "metadata": {},
   "outputs": [],
   "source": [
    "from IPython.core.display import display, HTML\n",
    "display(HTML(\"<style>.container { width:100% !important; }</style>\"))"
   ]
  },
  {
   "cell_type": "markdown",
   "id": "worthy-plenty",
   "metadata": {},
   "source": [
    "We start with a stack of channels across all cycles\n",
    "\n",
    "The goal is to find consistent common signal and remove it from all images\n",
    "\n",
    "Ideally, the signal unique to each channel will remain\n",
    "\n",
    "Strong assumption is that the channels won't perfectly overlap anywhere"
   ]
  },
  {
   "cell_type": "code",
   "execution_count": null,
   "id": "played-wages",
   "metadata": {},
   "outputs": [],
   "source": [
    "%load_ext autoreload\n",
    "%matplotlib inline\n",
    "\n",
    "from matplotlib import pyplot as plt\n",
    "from matplotlib import rcParams\n",
    "import seaborn as sns\n",
    "import numpy as np\n",
    "import pandas as pd\n",
    "\n",
    "import cv2\n",
    "import pytiff"
   ]
  },
  {
   "cell_type": "code",
   "execution_count": null,
   "id": "varying-monaco",
   "metadata": {},
   "outputs": [],
   "source": [
    "!ls /storage/codex/preprocessed_data/210127_Breast_Cassette9_reg2"
   ]
  },
  {
   "cell_type": "code",
   "execution_count": null,
   "id": "respiratory-yield",
   "metadata": {},
   "outputs": [],
   "source": [
    "stain_info = pd.read_csv('/home/ingn/tmp/micron2-data/pembroRT/pembroRT_cycle_channels.csv',\n",
    "                         index_col=None,header=0)\n",
    "stain_info"
   ]
  },
  {
   "cell_type": "code",
   "execution_count": null,
   "id": "official-linux",
   "metadata": {},
   "outputs": [],
   "source": [
    "rcParams['figure.facecolor'] = (1,1,1,1)"
   ]
  },
  {
   "cell_type": "code",
   "execution_count": null,
   "id": "transsexual-cooling",
   "metadata": {},
   "outputs": [],
   "source": [
    "import glob\n",
    "bbox = [7758, 8525, 15626, 16461]\n",
    "\n",
    "sample = '210127_Breast_Cassette9_reg2'\n",
    "nuclei_f = glob.glob(f'/storage/codex/preprocessed_data/{sample}/{sample}_*nuclei.tif')\n",
    "print(nuclei_f)\n",
    "\n",
    "channels = [x for x in stain_info['TTO_550'].values if ('Blank' not in x)&('Empty' not in x)]\n",
    "\n",
    "image_home = f'/storage/codex/preprocessed_data/{sample}/images'\n",
    "all_images = sorted(glob.glob(f'{image_home}/*.tif'))\n",
    "\n",
    "def find_source(ch):\n",
    "    for i in all_images:\n",
    "        if f'_{ch}_' in i:\n",
    "            return i\n",
    "        \n",
    "sources = [find_source(ch) for ch in channels]\n",
    "print(sources)\n",
    "\n",
    "images = []\n",
    "for i in sources:\n",
    "    with pytiff.Tiff(i, \"r\") as f:\n",
    "        img = f.pages[0][bbox[0]:bbox[1], bbox[2]:bbox[3]]\n",
    "        print(i, f.pages[0].shape, img.shape)\n",
    "        images.append(img.copy())"
   ]
  },
  {
   "cell_type": "code",
   "execution_count": null,
   "id": "alone-concord",
   "metadata": {},
   "outputs": [],
   "source": [
    "from skimage.filters import difference_of_gaussians, gaussian\n"
   ]
  },
  {
   "cell_type": "code",
   "execution_count": null,
   "id": "detailed-colorado",
   "metadata": {},
   "outputs": [],
   "source": [
    "ncol=4\n",
    "nrow=int(np.ceil(len(channels)/ncol))\n",
    "\n",
    "ch_saturation = []\n",
    "fig, axs = plt.subplots(nrow,ncol,figsize=(3.25*ncol,3*nrow),dpi=300)\n",
    "axs = axs.ravel()\n",
    "for i,ch in enumerate(channels):\n",
    "    ax = axs[i]\n",
    "    img = images[i].copy()\n",
    "    top = np.quantile(img, 0.999)\n",
    "    img[img>top] = top\n",
    "    ch_saturation.append(top)\n",
    "    img[img<0] = 0\n",
    "    m = ax.matshow(img)\n",
    "    ax.set_title(ch)\n",
    "    plt.colorbar(m, ax=ax, shrink=0.7)\n",
    "    ax.set_xticks([])\n",
    "    ax.set_yticks([])"
   ]
  },
  {
   "cell_type": "code",
   "execution_count": null,
   "id": "finnish-harassment",
   "metadata": {},
   "outputs": [],
   "source": []
  },
  {
   "cell_type": "code",
   "execution_count": null,
   "id": "flexible-semiconductor",
   "metadata": {},
   "outputs": [],
   "source": [
    "ncol=4\n",
    "nrow=int(np.ceil((len(channels)+1)/ncol)) \n",
    "\n",
    "gauss_images = [gaussian(i,3,preserve_range=True) for i in images]\n",
    "correction = np.min(gauss_images, axis=0)\n",
    "\n",
    "fig, axs = plt.subplots(nrow,ncol,figsize=(5.25*ncol,5*nrow),dpi=300)\n",
    "axs = axs.ravel()\n",
    "for i,ch in enumerate(channels+['correction']):\n",
    "    ax = axs[i]\n",
    "    if ch == 'correction':\n",
    "        img = correction\n",
    "        real_min = np.min(img)\n",
    "        real_max = np.max(img)\n",
    "        top = np.quantile(img, 0.999)\n",
    "        img[img>top] = top\n",
    "    else:\n",
    "        img = gauss_images[i].copy().astype(correction.dtype)\n",
    "        real_min = np.min(img)\n",
    "        real_max = np.max(img)\n",
    "        img = img - correction\n",
    "        top = np.quantile(img, 0.999)\n",
    "#         top = ch_saturation[i]\n",
    "        img[img>top] = top\n",
    "        img[img<0] = 0\n",
    "    \n",
    "    m = ax.matshow(img, vmax=top)\n",
    "    ax.set_title(f'{i}. {ch} ({real_min:3.3f}-{real_max:3.3f})')\n",
    "    plt.colorbar(m, ax=ax, shrink=0.7)\n",
    "    \n",
    "for ax in axs:\n",
    "    ax.set_xticks([])\n",
    "    ax.set_yticks([])"
   ]
  },
  {
   "cell_type": "code",
   "execution_count": null,
   "id": "usual-hundred",
   "metadata": {},
   "outputs": [],
   "source": []
  },
  {
   "cell_type": "code",
   "execution_count": null,
   "id": "identified-insight",
   "metadata": {},
   "outputs": [],
   "source": []
  }
 ],
 "metadata": {
  "kernelspec": {
   "display_name": "Python 3",
   "language": "python",
   "name": "python3"
  },
  "language_info": {
   "codemirror_mode": {
    "name": "ipython",
    "version": 3
   },
   "file_extension": ".py",
   "mimetype": "text/x-python",
   "name": "python",
   "nbconvert_exporter": "python",
   "pygments_lexer": "ipython3",
   "version": "3.8.5"
  }
 },
 "nbformat": 4,
 "nbformat_minor": 5
}
