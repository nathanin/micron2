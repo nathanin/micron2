{
 "cells": [
  {
   "cell_type": "code",
   "execution_count": null,
   "id": "still-credits",
   "metadata": {},
   "outputs": [],
   "source": [
    "%load_ext autoreload\n",
    "%autoreload 2\n",
    "import os\n",
    "import numpy as np\n",
    "import pandas as pd\n",
    "\n",
    "import tensorflow as tf\n",
    "import tensorflow_io as tfio\n",
    "\n",
    "physical_devices = tf.config.list_physical_devices('GPU')\n",
    "tf.config.experimental.set_memory_growth(physical_devices[0], True)\n",
    "\n",
    "from micron2.clustering import Encoder, train_moco\n",
    "from micron2.data import stream_dataset, stream_dataset_parallel\n",
    "\n",
    "import tqdm.auto as tqdm\n",
    "import h5py\n",
    "\n",
    "AUTO = tf.data.experimental.AUTOTUNE"
   ]
  },
  {
   "cell_type": "code",
   "execution_count": null,
   "id": "mature-destruction",
   "metadata": {},
   "outputs": [],
   "source": [
    "use_channels = ['C1q', 'CD103', 'CD11c', 'CD134', 'CD138', 'CD20', 'CD31', \n",
    "                'CD3e', 'CD4', 'CD40', 'CD40LG', 'CD45', 'CD45RA', 'CD45RO', \n",
    "                'CD64', 'CD68', 'CD69', 'CD8', 'CD80', 'CD89', 'CXCL13', \n",
    "                'CXCR5', 'DAPI', 'FOXP3', 'GZMB', 'HLA-DR', 'IL7R', 'IgA', \n",
    "                'IgG', 'IgM', 'Ki-67', 'LAG3', 'OX40L', 'PD-1', 'PD-L1', 'PDGFRb', \n",
    "                'PNaD', 'PanCytoK', 'TIM3', 'aSMA']"
   ]
  },
  {
   "cell_type": "code",
   "execution_count": null,
   "id": "timely-mambo",
   "metadata": {},
   "outputs": [],
   "source": [
    "input_size = 64\n",
    "crop_size = 48\n",
    "batch_size = 64\n",
    "max_queue_len = 8192\n",
    "\n",
    "# use_channels = ['DAPI', 'CD45', 'PanCytoK', 'CD3e', 'CD4', 'CD8', 'PDGFRb', 'CD20', 'CD68']\n",
    "with h5py.File('/home/ingn/tmp/micron2-data/pembroRT-set1-set2/merged_v2.hdf5', 'r') as f:\n",
    "    all_channels = [b.decode('UTF-8') for b in f['meta/channel_names'][:]]\n",
    "    print(all_channels)\n",
    "    \n",
    "    # just use all the channels\n",
    "#     use_channels = all_channels\n",
    " \n",
    "    means =  tf.constant([f[f'cells/{c}'].attrs['mean'] for c in use_channels], dtype=tf.float32)\n",
    "    maxes =  tf.constant([f[f'cells/{c}'].attrs['max'] for c in use_channels], dtype=tf.float32)\n",
    "    print(means)\n",
    "    print(maxes)\n",
    "    \n",
    "print(use_channels)\n"
   ]
  },
  {
   "cell_type": "code",
   "execution_count": null,
   "id": "atomic-association",
   "metadata": {},
   "outputs": [],
   "source": [
    "def process(x):\n",
    "    \"\"\"\n",
    "    x is [N, h, w, c]\n",
    "    \"\"\"\n",
    "    x = tf.cast(x, tf.float32)#/255.\n",
    "    x = x / maxes\n",
    "    \n",
    "    x = tf.image.random_brightness(x, 0.2)\n",
    "    x = tf.image.random_crop(x, [crop_size, crop_size, len(all_channels)])\n",
    "    x = tf.image.random_flip_left_right(x)\n",
    "    x = tf.image.random_flip_up_down(x)\n",
    "    return x\n",
    "    \n",
    "# Create a dataset with infinite repeating \n",
    "\n",
    "# fname = '/home/ingn/tmp/micron2-data/210122_Breast_Cassette7_reg2.hdf5.cells.hdf5'\n",
    "# dataset = (tfio.IODataset.from_hdf5(fname, '/images/cells',)\n",
    "fname = '/home/ingn/tmp/micron2-data/pembroRT-set1-set2/merged_v2.hdf5'\n",
    "dataset = (stream_dataset(fname, all_channels)\n",
    "           .repeat(None)\n",
    "           .shuffle(1024 * 1)\n",
    "           .map(process, num_parallel_calls=12)\n",
    "           .batch(batch_size)\n",
    "           .prefetch(256)\n",
    "           #.apply(tf.data.experimental.prefetch_to_device(\"/gpu:0\"))\n",
    "          )\n"
   ]
  },
  {
   "cell_type": "code",
   "execution_count": null,
   "id": "inappropriate-designer",
   "metadata": {},
   "outputs": [],
   "source": [
    "for batch in tqdm.tqdm(dataset):\n",
    "    try:\n",
    "        pass\n",
    "    except KeyboardInterrupt:\n",
    "        break"
   ]
  },
  {
   "cell_type": "code",
   "execution_count": null,
   "id": "combined-speaking",
   "metadata": {},
   "outputs": [],
   "source": [
    "print(batch.shape)"
   ]
  }
 ],
 "metadata": {
  "kernelspec": {
   "display_name": "Python 3",
   "language": "python",
   "name": "python3"
  },
  "language_info": {
   "codemirror_mode": {
    "name": "ipython",
    "version": 3
   },
   "file_extension": ".py",
   "mimetype": "text/x-python",
   "name": "python",
   "nbconvert_exporter": "python",
   "pygments_lexer": "ipython3",
   "version": "3.8.5"
  }
 },
 "nbformat": 4,
 "nbformat_minor": 5
}
