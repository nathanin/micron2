{
 "cells": [
  {
   "cell_type": "code",
   "execution_count": null,
   "metadata": {},
   "outputs": [],
   "source": [
    "%load_ext autoreload\n",
    "%autoreload 2\n",
    "%matplotlib inline\n",
    "\n",
    "import numpy as np\n",
    "\n",
    "import tensorflow as tf\n",
    "\n",
    "from tensorflow.keras.layers import Dense\n",
    "\n",
    "from micron2.clustering.embedding_moco import update_key_model, train_moco\n",
    "\n",
    "tf.config.set_visible_devices([], 'GPU')\n",
    "# tf.debugging.set_log_device_placement(True)"
   ]
  },
  {
   "cell_type": "code",
   "execution_count": null,
   "metadata": {},
   "outputs": [],
   "source": [
    "help(Dense)"
   ]
  },
  {
   "cell_type": "code",
   "execution_count": null,
   "metadata": {},
   "outputs": [],
   "source": [
    "from tensorflow.keras.initializers import (HeNormal, Zeros)\n",
    "class Net(tf.keras.Model):\n",
    "    def __init__(self, initializer=HeNormal):\n",
    "        super(Net, self).__init__()\n",
    "        self.d1 = Dense(4, \n",
    "                        kernel_initializer=initializer,\n",
    "                        bias_initializer=initializer\n",
    "                       )\n",
    "        self.d2 = Dense(2,\n",
    "                        kernel_initializer=initializer,\n",
    "                        bias_initializer=initializer\n",
    "                       )\n",
    "    \n",
    "    def __call__(self, x):\n",
    "        x = self.d1(x)\n",
    "        x = self.d2(x)\n",
    "        return x\n",
    "    \n",
    "    \n",
    "model = Net(initializer=HeNormal)\n",
    "kmodel = Net(initializer=Zeros)"
   ]
  },
  {
   "cell_type": "code",
   "execution_count": null,
   "metadata": {},
   "outputs": [],
   "source": [
    "x = np.random.randn(5,8).astype(np.float32)\n",
    "_ = model(x)\n",
    "_ = kmodel(x)"
   ]
  },
  {
   "cell_type": "code",
   "execution_count": null,
   "metadata": {},
   "outputs": [],
   "source": [
    "model.trainable_variables"
   ]
  },
  {
   "cell_type": "code",
   "execution_count": null,
   "metadata": {},
   "outputs": [],
   "source": [
    "# These should be zero\n",
    "kmodel.trainable_variables"
   ]
  },
  {
   "cell_type": "code",
   "execution_count": null,
   "metadata": {},
   "outputs": [],
   "source": [
    "# Apply momentum update\n",
    "update_key_model(model, kmodel)"
   ]
  },
  {
   "cell_type": "code",
   "execution_count": null,
   "metadata": {},
   "outputs": [],
   "source": [
    "# These should be model.variable * (1 - 0.999)\n",
    "kmodel.trainable_variables"
   ]
  },
  {
   "cell_type": "code",
   "execution_count": null,
   "metadata": {},
   "outputs": [],
   "source": [
    "class MoCoQueue:\n",
    "    def __init__(self, max_len=8):\n",
    "        self.Q = []\n",
    "        self.max_len = max_len\n",
    "    \n",
    "    def __len__(self):\n",
    "        return len(self.Q)\n",
    "        \n",
    "    def enqueue(self, z):\n",
    "        self.Q.append(z)\n",
    "        if len(self) > self.max_len:\n",
    "            self.dequeue()\n",
    "    \n",
    "    def dequeue(self):\n",
    "        \"\"\" Remove the oldest item in queue \"\"\"\n",
    "        _ = self.Q.pop(0)\n",
    "    \n",
    "    def getqueue(self):\n",
    "        return tf.concat(self.Q, axis=0)\n",
    "    \n",
    "    \n",
    "    \n",
    "def fake_encoder(batch_size=16):\n",
    "    return tf.constant(np.random.randn(batch_size,5))\n",
    "\n",
    "\n",
    "\n",
    "def moco_loss(q_feat, key_feat, queue, batch_size=1, temp=1.):\n",
    "    ## https://github.com/ppwwyyxx/moco.tensorflow/blob/master/main_moco.py\n",
    "    # loss\n",
    "    l_pos = tf.reshape(tf.einsum('nc,nc->n', q_feat, key_feat), (-1, 1))  # nx1\n",
    "    l_neg = tf.einsum('nc,kc->nk', q_feat, queue)  # nxK\n",
    "    logits = tf.concat([l_pos, l_neg], axis=1)  # nx(1+k)\n",
    "    logits = logits * (1 / temp)\n",
    "    labels = tf.zeros(batch_size, dtype=tf.int64)  # n\n",
    "    loss = tf.nn.sparse_softmax_cross_entropy_with_logits(logits=logits, labels=labels)\n",
    "    loss = tf.reduce_mean(loss, name='xentropy-loss')\n",
    "    return loss"
   ]
  },
  {
   "cell_type": "code",
   "execution_count": null,
   "metadata": {},
   "outputs": [],
   "source": [
    "k_history = MoCoQueue(max_len=8)\n",
    "\n",
    "n_queue_batches = 4\n",
    "for n in range(n_queue_batches):\n",
    "    k = fake_encoder()\n",
    "    k_history.enqueue(k)\n",
    "    \n",
    "print(len(k_history))"
   ]
  },
  {
   "cell_type": "code",
   "execution_count": null,
   "metadata": {},
   "outputs": [],
   "source": [
    "batch_size = 16\n",
    "\n",
    "for _ in range(20):\n",
    "    q = fake_encoder(batch_size)\n",
    "    k = fake_encoder(batch_size)\n",
    "\n",
    "    l = moco_loss(q, k, k_history.getqueue(), batch_size=batch_size)\n",
    "\n",
    "    k_history.enqueue(k)\n",
    "    # k_history.dequeue()\n",
    "    print(l, len(k_history))"
   ]
  },
  {
   "cell_type": "code",
   "execution_count": null,
   "metadata": {},
   "outputs": [],
   "source": []
  }
 ],
 "metadata": {
  "kernelspec": {
   "display_name": "Python 3",
   "language": "python",
   "name": "python3"
  },
  "language_info": {
   "codemirror_mode": {
    "name": "ipython",
    "version": 3
   },
   "file_extension": ".py",
   "mimetype": "text/x-python",
   "name": "python",
   "nbconvert_exporter": "python",
   "pygments_lexer": "ipython3",
   "version": "3.7.9"
  }
 },
 "nbformat": 4,
 "nbformat_minor": 4
}
