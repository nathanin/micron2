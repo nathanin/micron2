{
 "cells": [
  {
   "cell_type": "code",
   "execution_count": 1,
   "id": "herbal-bahrain",
   "metadata": {},
   "outputs": [
    {
     "name": "stderr",
     "output_type": "stream",
     "text": [
      "2021-07-20 11:04:59.665570: I tensorflow/stream_executor/platform/default/dso_loader.cc:53] Successfully opened dynamic library libcudart.so.11.0\n",
      "2021-07-20 11:05:00.403569: I tensorflow/stream_executor/platform/default/dso_loader.cc:53] Successfully opened dynamic library libcuda.so.1\n",
      "2021-07-20 11:05:00.443191: I tensorflow/core/common_runtime/gpu/gpu_device.cc:1733] Found device 0 with properties: \n",
      "pciBusID: 0000:01:00.0 name: GeForce RTX 3090 computeCapability: 8.6\n",
      "coreClock: 1.695GHz coreCount: 82 deviceMemorySize: 23.70GiB deviceMemoryBandwidth: 871.81GiB/s\n",
      "2021-07-20 11:05:00.443244: I tensorflow/stream_executor/cuda/cuda_gpu_executor.cc:937] successful NUMA node read from SysFS had negative value (-1), but there must be at least one NUMA node, so returning NUMA node zero\n",
      "2021-07-20 11:05:00.443979: I tensorflow/core/common_runtime/gpu/gpu_device.cc:1733] Found device 1 with properties: \n",
      "pciBusID: 0000:21:00.0 name: GeForce RTX 3090 computeCapability: 8.6\n",
      "coreClock: 1.695GHz coreCount: 82 deviceMemorySize: 23.70GiB deviceMemoryBandwidth: 871.81GiB/s\n",
      "2021-07-20 11:05:00.443995: I tensorflow/stream_executor/platform/default/dso_loader.cc:53] Successfully opened dynamic library libcudart.so.11.0\n",
      "2021-07-20 11:05:00.446126: I tensorflow/stream_executor/platform/default/dso_loader.cc:53] Successfully opened dynamic library libcublas.so.11\n",
      "2021-07-20 11:05:00.446155: I tensorflow/stream_executor/platform/default/dso_loader.cc:53] Successfully opened dynamic library libcublasLt.so.11\n",
      "2021-07-20 11:05:00.446825: I tensorflow/stream_executor/platform/default/dso_loader.cc:53] Successfully opened dynamic library libcufft.so.10\n",
      "2021-07-20 11:05:00.447083: I tensorflow/stream_executor/platform/default/dso_loader.cc:53] Successfully opened dynamic library libcurand.so.10\n",
      "2021-07-20 11:05:00.449079: I tensorflow/stream_executor/platform/default/dso_loader.cc:53] Successfully opened dynamic library libcusolver.so.11\n",
      "2021-07-20 11:05:00.449840: I tensorflow/stream_executor/platform/default/dso_loader.cc:53] Successfully opened dynamic library libcusparse.so.11\n",
      "2021-07-20 11:05:00.449991: I tensorflow/stream_executor/platform/default/dso_loader.cc:53] Successfully opened dynamic library libcudnn.so.8\n",
      "2021-07-20 11:05:00.450864: I tensorflow/stream_executor/cuda/cuda_gpu_executor.cc:937] successful NUMA node read from SysFS had negative value (-1), but there must be at least one NUMA node, so returning NUMA node zero\n",
      "2021-07-20 11:05:00.452388: I tensorflow/stream_executor/cuda/cuda_gpu_executor.cc:937] successful NUMA node read from SysFS had negative value (-1), but there must be at least one NUMA node, so returning NUMA node zero\n",
      "2021-07-20 11:05:00.453127: I tensorflow/core/common_runtime/gpu/gpu_device.cc:1871] Adding visible gpu devices: 0, 1\n",
      "/home/ingn/devel/micron2/micron2/data/pull_nuclei.py:13: UserWarning: Failed to import pytiff\n",
      "  warnings.warn('Failed to import pytiff')\n",
      "/home/ingn/devel/micron2/micron2/data/load_nuclei.py:11: UserWarning: Failed to import pytiff.\n",
      "  warnings.warn('Failed to import pytiff.')\n",
      "/home/ingn/devel/micron2/micron2/clustering/utils.py:18: UserWarning: Failed to import GPU tools. Accelerated neighbors/leiden/t-SNE/UMAP will not be unavailable\n",
      "  warnings.warn('Failed to import GPU tools. Accelerated neighbors/leiden/t-SNE/UMAP will not be unavailable')\n",
      "/home/ingn/devel/micron2/micron2/spatial/spatial_tools.py:17: UserWarning: Failed to load RAPIDS cuda-enabled tools. Falling back to sklearn\n",
      "  warnings.warn(\"Failed to load RAPIDS cuda-enabled tools. Falling back to sklearn\")\n"
     ]
    }
   ],
   "source": [
    "%load_ext autoreload\n",
    "%autoreload 2\n",
    "%matplotlib inline\n",
    "import os\n",
    "import numpy as np\n",
    "import pandas as pd\n",
    "\n",
    "import tensorflow as tf\n",
    "import tensorflow_io as tfio\n",
    "# import tensorflow_addons as tfa\n",
    "\n",
    "physical_devices = tf.config.list_physical_devices('GPU')\n",
    "for pdev in physical_devices:\n",
    "    tf.config.experimental.set_memory_growth(pdev, True)\n",
    "\n",
    "from micron2.clustering import MoCo, MoCo_Classifier, UpdateQueue\n",
    "from micron2.data import stream_dataset, stream_dataset_parallel\n",
    "\n",
    "import h5py\n",
    "import tqdm.auto as tqdm\n",
    "from tqdm.keras import TqdmCallback\n",
    "\n",
    "AUTO = tf.data.experimental.AUTOTUNE"
   ]
  },
  {
   "cell_type": "code",
   "execution_count": 6,
   "id": "e3bb4215-4c88-4b6d-9028-1f56a6eefd25",
   "metadata": {},
   "outputs": [],
   "source": [
    "use_channels = ['CD8', 'CD4', 'PanCytoK', 'PD-1', 'CD45', \n",
    "                'CD20', 'CD138', 'CD68', 'CD31', 'CD11c', \n",
    "                'FOXP3', 'CXCR5', 'CXCL13', 'CD3e', \n",
    "                'Ki-67', 'LAG3', 'HLA-DR', 'aSMA']"
   ]
  },
  {
   "cell_type": "code",
   "execution_count": 8,
   "id": "indoor-waters",
   "metadata": {},
   "outputs": [
    {
     "name": "stdout",
     "output_type": "stream",
     "text": [
      "/common/ingn/CODEX_PROCESSED_DATA/pembroRT_immune/phase2/210701_PembroRT_Cas18_TLSpanel_reg1/collection-21-Jul-18-19-33-17/training_cells_images.npy\n",
      "/common/ingn/CODEX_PROCESSED_DATA/pembroRT_immune/phase2/210701_PembroRT_Cas18_TLSpanel_reg2/collection-21-Jul-18-15-08-49/training_cells_images.npy\n",
      "/common/ingn/CODEX_PROCESSED_DATA/pembroRT_immune/phase2/210701_PembroRT_Cas18_TLSpanel_reg2/collection-21-Jul-18-17-33-48/training_cells_images.npy\n",
      "/common/ingn/CODEX_PROCESSED_DATA/pembroRT_immune/phase2/210701_PembroRT_Cas18_TLSpanel_reg2/collection-21-Jul-18-21-36-20/training_cells_images.npy\n",
      "/common/ingn/CODEX_PROCESSED_DATA/pembroRT_immune/phase2/210701_PembroRT_Cas18_TLSpanel_reg3/collection-21-Jul-18-16-02-55/training_cells_images.npy\n",
      "/common/ingn/CODEX_PROCESSED_DATA/pembroRT_immune/phase2/210701_PembroRT_Cas18_TLSpanel_reg3/collection-21-Jul-18-18-08-54/training_cells_images.npy\n",
      "/common/ingn/CODEX_PROCESSED_DATA/pembroRT_immune/phase2/210702_PembroRT_Cas19_TLSpanel_reg2/collection-21-Jul-17-21-17-16/training_cells_images.npy\n",
      "/common/ingn/CODEX_PROCESSED_DATA/pembroRT_immune/phase2/210702_PembroRT_Cas19_TLSpanel_reg2/collection-21-Jul-17-22-03-29/training_cells_images.npy\n",
      "/common/ingn/CODEX_PROCESSED_DATA/pembroRT_immune/phase2/210702_PembroRT_Cas19_TLSpanel_reg2/collection-21-Jul-18-13-13-05/training_cells_images.npy\n",
      "/common/ingn/CODEX_PROCESSED_DATA/pembroRT_immune/phase2/210702_PembroRT_Cas19_TLSpanel_reg2/collection-21-Jul-19-10-11-51/training_cells_images.npy\n",
      "/common/ingn/CODEX_PROCESSED_DATA/pembroRT_immune/phase2/210702_PembroRT_Cas19_TLSpanel_reg2/collection-21-Jul-19-11-22-41/training_cells_images.npy\n",
      "(122092, 64, 64, 19) uint8\n",
      "(122092,)\n",
      "(array(['', 'Bcell', 'CD4T', 'CD8T', 'DC', 'Endothelial', 'Epithelial',\n",
      "       'Mac', 'Plasma', 'Stromal'], dtype='<U11'), array([121229,    161,    133,    171,     14,     77,    162,     62,\n",
      "           65,     18]))\n",
      "{'DAPI': 0, 'CD8': 1, 'CD4': 2, 'PanCytoK': 3, 'PD-1': 4, 'CD45': 5, 'CD20': 6, 'CD138': 7, 'CD68': 8, 'CD31': 9, 'CD11c': 10, 'FOXP3': 11, 'CXCR5': 12, 'CXCL13': 13, 'CD3e': 14, 'Ki-67': 15, 'LAG3': 16, 'HLA-DR': 17, 'aSMA': 18}\n",
      "(122092, 64, 64, 18)\n",
      "(122092, 9)\n",
      "labelled cells: 863\n"
     ]
    }
   ],
   "source": [
    "# Change this cell to load from multiple samples, and concatenate. \n",
    "# make sure to place channels correctly, in case they're permuted for some reason between collections.\n",
    "import glob\n",
    "srch = '/common/ingn/CODEX_PROCESSED_DATA/pembroRT_immune/phase2/*/collection*'\n",
    "\n",
    "image_files = sorted(glob.glob(f'{srch}/training_cells_images.npy'))\n",
    "annot_files = sorted(glob.glob(f'{srch}/training_cells_annots.npy'))\n",
    "channel_files = sorted(glob.glob(f'{srch}/training_cells_channels.npy'))\n",
    "\n",
    "for f in image_files:\n",
    "    print(f)\n",
    "\n",
    "images = np.concatenate([np.load(f) for f in image_files], axis=0)\n",
    "annots = np.concatenate([np.load(f) for f in annot_files], axis=0)\n",
    "channels = np.load(channel_files[0])\n",
    "\n",
    "channels = {k:i for i,k in enumerate(channels)}\n",
    "\n",
    "print(images.shape, images.dtype)\n",
    "print(annots.shape)\n",
    "print(np.unique(annots, return_counts=True))\n",
    "print(channels)\n",
    "\n",
    "## subset channels\n",
    "# ch_indices = [channels[ch] for ch in use_channels]\n",
    "# images = images[:,:,:,ch_indices]\n",
    "# print(images.shape)\n",
    "# channels = {k:v for k,v in channels.items() if k in use_channels}\n",
    "\n",
    "u_annots, annots_int = np.unique(annots, return_inverse=True)\n",
    "labels = np.eye(len(u_annots))[annots_int]\n",
    "labels = labels[:,1:]\n",
    "\n",
    "print(labels.shape)\n",
    "print('labelled cells:', np.sum(np.sum(labels, axis=1)>0))"
   ]
  },
  {
   "cell_type": "code",
   "execution_count": 3,
   "id": "d6594854-4766-4725-b477-9f4cdfcc2135",
   "metadata": {},
   "outputs": [],
   "source": [
    "# ## subtract the average of each channel\n",
    "# channel_means = {}\n",
    "# for ch,i in channels.items():\n",
    "#     stack = images[:,:,:,i]\n",
    "#     mn = np.mean(stack, axis=0, keepdims=True)\n",
    "#     print(ch, i, stack.shape, mn.shape)\n",
    "#     channel_means[ch] = mn.copy().astype(np.float32)\n",
    "    \n",
    "# # images_pp = images.copy().astype(np.float32)\n",
    "# images = images.astype(np.float32)\n",
    "# for ch, mn in channel_means.items():\n",
    "#     if ch=='DAPI':continue\n",
    "#     k = channels[ch]\n",
    "#     print(ch,k,mn.shape,mn.dtype)\n",
    "#     images[:,:,:,k] -= mn"
   ]
  },
  {
   "cell_type": "code",
   "execution_count": 9,
   "id": "internal-heater",
   "metadata": {},
   "outputs": [
    {
     "name": "stdout",
     "output_type": "stream",
     "text": [
      ": 121229\n",
      "Bcell: 161\n",
      "CD4T: 133\n",
      "CD8T: 171\n",
      "DC: 14\n",
      "Endothelial: 77\n",
      "Epithelial: 162\n",
      "Mac: 62\n",
      "Plasma: 65\n",
      "Stromal: 18\n"
     ]
    }
   ],
   "source": [
    "for u in u_annots:\n",
    "    print(f'{u}: {np.sum(annots==u)}')"
   ]
  },
  {
   "cell_type": "code",
   "execution_count": 5,
   "id": "integral-newcastle",
   "metadata": {},
   "outputs": [
    {
     "name": "stdout",
     "output_type": "stream",
     "text": [
      "/home/ingn/devel/micron2/notebooks/devel_debug\n"
     ]
    }
   ],
   "source": [
    "!pwd"
   ]
  },
  {
   "cell_type": "code",
   "execution_count": 10,
   "id": "dated-lending",
   "metadata": {},
   "outputs": [],
   "source": [
    "# input_size = 64\n",
    "crop_size = 48\n",
    "batch_size = 256\n",
    "max_queue_len = 1024*10\n",
    "n_channels = len(channels)\n",
    "\n",
    "outdir = '/home/ingn/devel/micron2/notebooks/devel_debug/moco-models'\n",
    "if not os.path.isdir(outdir):\n",
    "    os.makedirs(outdir)\n",
    "    \n",
    "with open(f'{outdir}/channels.txt', 'w+') as f:\n",
    "    for c in channels.keys():\n",
    "        f.write(f'{c}\\n')"
   ]
  },
  {
   "cell_type": "code",
   "execution_count": 11,
   "id": "rolled-poultry",
   "metadata": {},
   "outputs": [
    {
     "name": "stderr",
     "output_type": "stream",
     "text": [
      "2021-07-20 11:08:13.409975: I tensorflow/core/platform/cpu_feature_guard.cc:142] This TensorFlow binary is optimized with oneAPI Deep Neural Network Library (oneDNN) to use the following CPU instructions in performance-critical operations:  AVX2 FMA\n",
      "To enable them in other operations, rebuild TensorFlow with the appropriate compiler flags.\n",
      "2021-07-20 11:08:13.597089: I tensorflow/core/common_runtime/gpu/gpu_device.cc:1733] Found device 0 with properties: \n",
      "pciBusID: 0000:01:00.0 name: GeForce RTX 3090 computeCapability: 8.6\n",
      "coreClock: 1.695GHz coreCount: 82 deviceMemorySize: 23.70GiB deviceMemoryBandwidth: 871.81GiB/s\n",
      "2021-07-20 11:08:13.597143: I tensorflow/stream_executor/cuda/cuda_gpu_executor.cc:937] successful NUMA node read from SysFS had negative value (-1), but there must be at least one NUMA node, so returning NUMA node zero\n",
      "2021-07-20 11:08:13.597832: I tensorflow/core/common_runtime/gpu/gpu_device.cc:1733] Found device 1 with properties: \n",
      "pciBusID: 0000:21:00.0 name: GeForce RTX 3090 computeCapability: 8.6\n",
      "coreClock: 1.695GHz coreCount: 82 deviceMemorySize: 23.70GiB deviceMemoryBandwidth: 871.81GiB/s\n",
      "2021-07-20 11:08:13.598581: I tensorflow/stream_executor/cuda/cuda_gpu_executor.cc:937] successful NUMA node read from SysFS had negative value (-1), but there must be at least one NUMA node, so returning NUMA node zero\n",
      "2021-07-20 11:08:13.599983: I tensorflow/stream_executor/cuda/cuda_gpu_executor.cc:937] successful NUMA node read from SysFS had negative value (-1), but there must be at least one NUMA node, so returning NUMA node zero\n",
      "2021-07-20 11:08:13.600660: I tensorflow/core/common_runtime/gpu/gpu_device.cc:1871] Adding visible gpu devices: 0, 1\n",
      "2021-07-20 11:08:13.600704: I tensorflow/stream_executor/platform/default/dso_loader.cc:53] Successfully opened dynamic library libcudart.so.11.0\n",
      "2021-07-20 11:08:14.100733: I tensorflow/core/common_runtime/gpu/gpu_device.cc:1258] Device interconnect StreamExecutor with strength 1 edge matrix:\n",
      "2021-07-20 11:08:14.100764: I tensorflow/core/common_runtime/gpu/gpu_device.cc:1264]      0 1 \n",
      "2021-07-20 11:08:14.100770: I tensorflow/core/common_runtime/gpu/gpu_device.cc:1277] 0:   N N \n",
      "2021-07-20 11:08:14.100772: I tensorflow/core/common_runtime/gpu/gpu_device.cc:1277] 1:   N N \n",
      "2021-07-20 11:08:14.101731: I tensorflow/stream_executor/cuda/cuda_gpu_executor.cc:937] successful NUMA node read from SysFS had negative value (-1), but there must be at least one NUMA node, so returning NUMA node zero\n",
      "2021-07-20 11:08:14.103185: I tensorflow/stream_executor/cuda/cuda_gpu_executor.cc:937] successful NUMA node read from SysFS had negative value (-1), but there must be at least one NUMA node, so returning NUMA node zero\n",
      "2021-07-20 11:08:14.104601: I tensorflow/core/common_runtime/gpu/gpu_device.cc:1418] Created TensorFlow device (/job:localhost/replica:0/task:0/device:GPU:0 with 22179 MB memory) -> physical GPU (device: 0, name: GeForce RTX 3090, pci bus id: 0000:01:00.0, compute capability: 8.6)\n",
      "2021-07-20 11:08:14.104936: I tensorflow/stream_executor/cuda/cuda_gpu_executor.cc:937] successful NUMA node read from SysFS had negative value (-1), but there must be at least one NUMA node, so returning NUMA node zero\n",
      "2021-07-20 11:08:14.105636: I tensorflow/core/common_runtime/gpu/gpu_device.cc:1418] Created TensorFlow device (/job:localhost/replica:0/task:0/device:GPU:1 with 22310 MB memory) -> physical GPU (device: 1, name: GeForce RTX 3090, pci bus id: 0000:21:00.0, compute capability: 8.6)\n"
     ]
    },
    {
     "name": "stdout",
     "output_type": "stream",
     "text": [
      "(256, 48, 48, 18) (256, 9)\n"
     ]
    },
    {
     "name": "stderr",
     "output_type": "stream",
     "text": [
      "2021-07-20 11:08:31.307813: I tensorflow/compiler/mlir/mlir_graph_optimization_pass.cc:176] None of the MLIR Optimization Passes are enabled (registered 2)\n",
      "2021-07-20 11:08:31.330082: I tensorflow/core/platform/profile_utils/cpu_utils.cc:114] CPU Frequency: 2900065000 Hz\n"
     ]
    }
   ],
   "source": [
    "def process(x,y):\n",
    "    \"\"\"\n",
    "    x is [N, h, w, c]\n",
    "    \"\"\"\n",
    "    x = tf.cast(x, tf.float32)/255.\n",
    "    \n",
    "    # channel drop\n",
    "    \n",
    "    x = tf.image.random_crop(x, [crop_size, crop_size, n_channels])\n",
    "    x = tf.image.random_flip_left_right(x)\n",
    "    x = tf.image.random_flip_up_down(x)\n",
    "    \n",
    "    return x,y\n",
    "    \n",
    "\n",
    "image_dataset = tf.data.Dataset.from_tensor_slices(images)\n",
    "label_dataset = tf.data.Dataset.from_tensor_slices(labels)\n",
    "dataset = (tf.data.Dataset.zip((image_dataset, label_dataset)) \n",
    "           .shuffle(2048, reshuffle_each_iteration=True)\n",
    "           .map(process, num_parallel_calls=4)\n",
    "           .batch(batch_size, drop_remainder=True)\n",
    "           .prefetch(1)\n",
    "          )\n",
    "for batch,label in dataset:\n",
    "    print(batch.shape, label.shape)\n",
    "    break"
   ]
  },
  {
   "cell_type": "code",
   "execution_count": 12,
   "id": "interior-pierre",
   "metadata": {},
   "outputs": [
    {
     "name": "stdout",
     "output_type": "stream",
     "text": [
      "Q: (10240, 256)\n"
     ]
    },
    {
     "name": "stderr",
     "output_type": "stream",
     "text": [
      "/home/ingn/miniconda3/envs/micron2-tf/lib/python3.9/site-packages/tensorflow/python/keras/applications/imagenet_utils.py:331: UserWarning: This model usually expects 1 or 3 input channels. However, it was passed an input_shape with 18 input channels.\n",
      "  warnings.warn('This model usually expects 1 or 3 input channels. '\n",
      "/home/ingn/miniconda3/envs/micron2-tf/lib/python3.9/site-packages/tensorflow/python/keras/optimizer_v2/optimizer_v2.py:374: UserWarning: The `lr` argument is deprecated, use `learning_rate` instead.\n",
      "  warnings.warn(\n",
      "2021-07-20 11:08:32.489294: I tensorflow/stream_executor/platform/default/dso_loader.cc:53] Successfully opened dynamic library libcudnn.so.8\n",
      "2021-07-20 11:08:32.881835: I tensorflow/stream_executor/cuda/cuda_dnn.cc:359] Loaded cuDNN version 8200\n",
      "2021-07-20 11:08:33.530121: I tensorflow/stream_executor/platform/default/dso_loader.cc:53] Successfully opened dynamic library libcublas.so.11\n",
      "2021-07-20 11:08:33.911288: I tensorflow/stream_executor/platform/default/dso_loader.cc:53] Successfully opened dynamic library libcublasLt.so.11\n",
      "2021-07-20 11:08:33.947316: I tensorflow/stream_executor/cuda/cuda_blas.cc:1838] TensorFloat-32 will be used for the matrix multiplication. This will only be logged once.\n"
     ]
    },
    {
     "name": "stdout",
     "output_type": "stream",
     "text": [
      "(1, 256)\n",
      "(1, 256)\n",
      "(1, 256)\n",
      "(1, 9)\n",
      "Model: \"mo_co__classifier\"\n",
      "_________________________________________________________________\n",
      "Layer (type)                 Output Shape              Param #   \n",
      "=================================================================\n",
      "encoder (Encoder)            multiple                  28987072  \n",
      "_________________________________________________________________\n",
      "encoder_1 (Encoder)          multiple                  28987072  \n",
      "_________________________________________________________________\n",
      "classifier (Classifier)      multiple                  29021129  \n",
      "=================================================================\n",
      "Total params: 60,629,641\n",
      "Trainable params: 57,917,321\n",
      "Non-trainable params: 2,712,320\n",
      "_________________________________________________________________\n"
     ]
    }
   ],
   "source": [
    "sample_x = tf.zeros([1, crop_size, crop_size, len(channels)],dtype=tf.float32)\n",
    "model = MoCo_Classifier(data_shape=[crop_size, crop_size, len(channels)], \n",
    "                        z_dim=256, \n",
    "                        n_classes=labels.shape[1],\n",
    "                        mlp_dim=128,\n",
    "                        max_queue_len=max_queue_len,  \n",
    "                        batch_size=batch_size, \n",
    "                        temp=0.1, \n",
    "                        encoder_type='ResNet50V2')\n",
    "\n",
    "model.compile(optimizer=tf.keras.optimizers.Adam(lr=1e-5), \n",
    "              loss=tf.keras.losses.sparse_categorical_crossentropy,)\n",
    "z = model(sample_x)\n",
    "g = model.encode_g(sample_x)\n",
    "k = model.encode_k(sample_x)\n",
    "y = model.classifier(sample_x)\n",
    "\n",
    "print(z.shape)\n",
    "print(g.shape)\n",
    "print(k.shape)\n",
    "print(y.shape)\n",
    "\n",
    "model.summary()"
   ]
  },
  {
   "cell_type": "code",
   "execution_count": 13,
   "id": "phantom-saint",
   "metadata": {},
   "outputs": [
    {
     "data": {
      "application/vnd.jupyter.widget-view+json": {
       "model_id": "748a22324301417f9465135cf59a1837",
       "version_major": 2,
       "version_minor": 0
      },
      "text/plain": [
       "0epoch [00:00, ?epoch/s]"
      ]
     },
     "metadata": {},
     "output_type": "display_data"
    },
    {
     "data": {
      "application/vnd.jupyter.widget-view+json": {
       "model_id": "461ac9b0056144d8906252528f74d710",
       "version_major": 2,
       "version_minor": 0
      },
      "text/plain": [
       "  0%|          | 0.00/476 [00:00<?, ?batch/s]"
      ]
     },
     "metadata": {},
     "output_type": "display_data"
    },
    {
     "name": "stdout",
     "output_type": "stream",
     "text": [
      "WARNING:tensorflow:Callback method `on_train_batch_end` is slow compared to the batch time (batch time: 0.0439s vs `on_train_batch_end` time: 0.0547s). Check your callbacks.\n"
     ]
    },
    {
     "data": {
      "application/vnd.jupyter.widget-view+json": {
       "model_id": "3b55aaf15d7c4e7f99850ae8c7dac13d",
       "version_major": 2,
       "version_minor": 0
      },
      "text/plain": [
       "  0%|          | 0.00/476 [00:00<?, ?batch/s]"
      ]
     },
     "metadata": {},
     "output_type": "display_data"
    },
    {
     "data": {
      "application/vnd.jupyter.widget-view+json": {
       "model_id": "07d42cc2e37c4fc2ac885df3aae7fa46",
       "version_major": 2,
       "version_minor": 0
      },
      "text/plain": [
       "  0%|          | 0.00/476 [00:00<?, ?batch/s]"
      ]
     },
     "metadata": {},
     "output_type": "display_data"
    },
    {
     "data": {
      "application/vnd.jupyter.widget-view+json": {
       "model_id": "b9e127ace5c74daf88415e5a365a3f0a",
       "version_major": 2,
       "version_minor": 0
      },
      "text/plain": [
       "  0%|          | 0.00/476 [00:00<?, ?batch/s]"
      ]
     },
     "metadata": {},
     "output_type": "display_data"
    },
    {
     "data": {
      "application/vnd.jupyter.widget-view+json": {
       "model_id": "735d679a83224d75afc94ec1d423d04a",
       "version_major": 2,
       "version_minor": 0
      },
      "text/plain": [
       "  0%|          | 0.00/476 [00:00<?, ?batch/s]"
      ]
     },
     "metadata": {},
     "output_type": "display_data"
    },
    {
     "data": {
      "application/vnd.jupyter.widget-view+json": {
       "model_id": "f77348650ff7461690dc52b03e807eb8",
       "version_major": 2,
       "version_minor": 0
      },
      "text/plain": [
       "  0%|          | 0.00/476 [00:00<?, ?batch/s]"
      ]
     },
     "metadata": {},
     "output_type": "display_data"
    },
    {
     "data": {
      "application/vnd.jupyter.widget-view+json": {
       "model_id": "e0888310aef743d2a6be640ce55d72bd",
       "version_major": 2,
       "version_minor": 0
      },
      "text/plain": [
       "  0%|          | 0.00/476 [00:00<?, ?batch/s]"
      ]
     },
     "metadata": {},
     "output_type": "display_data"
    },
    {
     "data": {
      "application/vnd.jupyter.widget-view+json": {
       "model_id": "13702865f4d740949952d9a6a953a5b7",
       "version_major": 2,
       "version_minor": 0
      },
      "text/plain": [
       "  0%|          | 0.00/476 [00:00<?, ?batch/s]"
      ]
     },
     "metadata": {},
     "output_type": "display_data"
    },
    {
     "data": {
      "application/vnd.jupyter.widget-view+json": {
       "model_id": "688b8d80330440d48b0b2a8d6d1b8183",
       "version_major": 2,
       "version_minor": 0
      },
      "text/plain": [
       "  0%|          | 0.00/476 [00:00<?, ?batch/s]"
      ]
     },
     "metadata": {},
     "output_type": "display_data"
    },
    {
     "data": {
      "application/vnd.jupyter.widget-view+json": {
       "model_id": "a7fe901e865f4b4b8f2ca577d6bce7e4",
       "version_major": 2,
       "version_minor": 0
      },
      "text/plain": [
       "  0%|          | 0.00/476 [00:00<?, ?batch/s]"
      ]
     },
     "metadata": {},
     "output_type": "display_data"
    },
    {
     "data": {
      "text/plain": [
       "<tensorflow.python.keras.callbacks.History at 0x7f13601e6e20>"
      ]
     },
     "execution_count": 13,
     "metadata": {},
     "output_type": "execute_result"
    }
   ],
   "source": [
    "model.fit(dataset, epochs=10, verbose=0,\n",
    "          callbacks = [UpdateQueue(0.999, max_queue_len), \n",
    "                       TqdmCallback(verbose=2)]\n",
    "         )"
   ]
  },
  {
   "cell_type": "code",
   "execution_count": 14,
   "id": "overhead-plant",
   "metadata": {},
   "outputs": [
    {
     "name": "stdout",
     "output_type": "stream",
     "text": [
      "863\n",
      "(256, 48, 48, 18) (256, 9)\n"
     ]
    }
   ],
   "source": [
    "has_labels = labels.sum(axis=1) > 0\n",
    "print(np.sum(has_labels))\n",
    "labelled_images = images[has_labels]\n",
    "use_labels = labels[has_labels]\n",
    "\n",
    "def process(x,y):\n",
    "    \"\"\"\n",
    "    x is [N, h, w, c]\n",
    "    \"\"\"\n",
    "    x = tf.cast(x, tf.float32)/255.\n",
    "    \n",
    "    x = tf.image.central_crop(x, 0.75) # 48 / 64\n",
    "#     x = tf.image.random_flip_left_right(x)\n",
    "#     x = tf.image.random_flip_up_down(x)\n",
    "\n",
    "    return x,y\n",
    "\n",
    "image_dataset = tf.data.Dataset.from_tensor_slices(labelled_images)\n",
    "label_dataset = tf.data.Dataset.from_tensor_slices(use_labels)\n",
    "dataset = (tf.data.Dataset.zip((image_dataset, label_dataset)) \n",
    "           .repeat(50)\n",
    "           .shuffle(1024, reshuffle_each_iteration=True)\n",
    "           .map(process, num_parallel_calls=4)\n",
    "           .batch(batch_size, drop_remainder=True)\n",
    "           .prefetch(1)\n",
    "          )\n",
    "\n",
    "for batch in dataset:\n",
    "    batch_images, batch_labels = batch\n",
    "    print(batch_images.shape, batch_labels.shape)\n",
    "    break"
   ]
  },
  {
   "cell_type": "code",
   "execution_count": 15,
   "id": "8ff3fcdd-3a5f-4a86-b50c-e0ca1497d2a9",
   "metadata": {},
   "outputs": [
    {
     "data": {
      "application/vnd.jupyter.widget-view+json": {
       "model_id": "9f2a1640b15e4ee0a6645bfb0f871195",
       "version_major": 2,
       "version_minor": 0
      },
      "text/plain": [
       "  0%|          | 0/168 [00:00<?, ?it/s]"
      ]
     },
     "metadata": {},
     "output_type": "display_data"
    }
   ],
   "source": [
    "xent = tf.keras.losses.CategoricalCrossentropy()\n",
    "optimizer = tf.keras.optimizers.Adam(lr=1e-4)\n",
    "loss_history = []\n",
    "z_snapshots = []\n",
    "label_snapshots = []\n",
    "pred_snapshots = []\n",
    "with tqdm.tqdm(dataset) as pbar:\n",
    "    for batch in pbar:\n",
    "        batch_images, batch_labels = batch\n",
    "        with tf.GradientTape() as tape:\n",
    "            z = model.encode_g(batch_images)\n",
    "            y = model.classifier(batch_images)\n",
    "            loss = xent(batch_labels, y)\n",
    "            \n",
    "        variables = model.classifier.mlp_hid.trainable_variables +\\\n",
    "                    model.classifier.mlp_out.trainable_variables\n",
    "        \n",
    "        #variables = model.classifier.trainable_variables\n",
    "        grads = tape.gradient(loss, variables)\n",
    "        optimizer.apply_gradients(zip(grads, variables))\n",
    "        \n",
    "        loss_history.append(loss.numpy())\n",
    "        \n",
    "        if np.abs(np.random.randn()) > 2.5:\n",
    "            pred_snapshots.append(y.numpy())\n",
    "            label_snapshots.append(batch_labels.numpy())\n",
    "            z_snapshots.append(z.numpy())\n",
    "            \n",
    "        \n",
    "        pbar.set_description(f'loss={np.mean(loss_history):1.4e}')\n",
    "        "
   ]
  },
  {
   "cell_type": "code",
   "execution_count": 16,
   "id": "c3930836-5e5c-4c19-a267-610ca4e0d4e1",
   "metadata": {},
   "outputs": [],
   "source": [
    "import umap\n",
    "from matplotlib import pyplot as plt"
   ]
  },
  {
   "cell_type": "code",
   "execution_count": 17,
   "id": "4026e5a5-bad6-4a0f-acaf-fb376c855e5d",
   "metadata": {},
   "outputs": [],
   "source": [
    "# i = 4\n",
    "# y = label_snapshots[i]\n",
    "# print(y.shape)\n",
    "# mx = np.argmax(y,axis=1)\n",
    "# print(mx.shape)\n",
    "\n",
    "# z = z_snapshots[i]\n",
    "# print(z.shape)\n",
    "\n",
    "# emb = umap.UMAP().fit_transform(z)\n",
    "# print(emb.shape)\n",
    "\n",
    "# for m in np.unique(mx):\n",
    "#     plt.scatter(emb[mx==m,0], emb[mx==m,1])"
   ]
  },
  {
   "cell_type": "code",
   "execution_count": 18,
   "id": "7ef43954-7b9a-4637-aec3-7a414aa0b28d",
   "metadata": {},
   "outputs": [
    {
     "data": {
      "text/plain": [
       "[<matplotlib.lines.Line2D at 0x7f12b83bbb80>]"
      ]
     },
     "execution_count": 18,
     "metadata": {},
     "output_type": "execute_result"
    },
    {
     "data": {
      "image/png": "[encoded data removed]",
      "text/plain": [
       "<Figure size 432x288 with 1 Axes>"
      ]
     },
     "metadata": {
      "needs_background": "light"
     },
     "output_type": "display_data"
    }
   ],
   "source": [
    "plt.plot(range(len(loss_history)), loss_history)"
   ]
  },
  {
   "cell_type": "code",
   "execution_count": 19,
   "id": "offshore-candle",
   "metadata": {},
   "outputs": [],
   "source": [
    "# # change the classifier loss weight\n",
    "# model.alpha = 1\n",
    "# model.beta = 0\n",
    "# model.fit(dataset, epochs=1, verbose=0,\n",
    "#           callbacks = [UpdateQueue(0.999, max_queue_len), \n",
    "#                        TqdmCallback(verbose=2)]\n",
    "#          )"
   ]
  },
  {
   "cell_type": "code",
   "execution_count": 20,
   "id": "utility-heading",
   "metadata": {},
   "outputs": [
    {
     "name": "stdout",
     "output_type": "stream",
     "text": [
      "/home/ingn/devel/micron2/notebooks/devel_debug/moco-models\n"
     ]
    }
   ],
   "source": [
    "print(outdir)\n",
    "model.save_weights(f'{outdir}/weights.h5')\n",
    "model.encode_g.save_weights(f'{outdir}/weights_g.h5')\n",
    "model.encode_k.save_weights(f'{outdir}/weights_k.h5')\n",
    "model.classifier.save_weights(f'{outdir}/weights_cls.h5')"
   ]
  },
  {
   "cell_type": "code",
   "execution_count": null,
   "id": "eastern-edwards",
   "metadata": {},
   "outputs": [],
   "source": []
  },
  {
   "cell_type": "code",
   "execution_count": null,
   "id": "guided-background",
   "metadata": {},
   "outputs": [],
   "source": []
  },
  {
   "cell_type": "code",
   "execution_count": null,
   "id": "functioning-commons",
   "metadata": {},
   "outputs": [],
   "source": []
  },
  {
   "cell_type": "code",
   "execution_count": null,
   "id": "rotary-oliver",
   "metadata": {},
   "outputs": [],
   "source": []
  },
  {
   "cell_type": "code",
   "execution_count": null,
   "id": "lyric-musician",
   "metadata": {},
   "outputs": [],
   "source": []
  },
  {
   "cell_type": "code",
   "execution_count": null,
   "id": "weighted-netscape",
   "metadata": {},
   "outputs": [],
   "source": []
  }
 ],
 "metadata": {
  "kernelspec": {
   "display_name": "Python (micron2-tf)",
   "language": "python",
   "name": "micron2-tf"
  },
  "language_info": {
   "codemirror_mode": {
    "name": "ipython",
    "version": 3
   },
   "file_extension": ".py",
   "mimetype": "text/x-python",
   "name": "python",
   "nbconvert_exporter": "python",
   "pygments_lexer": "ipython3",
   "version": "3.9.5"
  }
 },
 "nbformat": 4,
 "nbformat_minor": 5
}
