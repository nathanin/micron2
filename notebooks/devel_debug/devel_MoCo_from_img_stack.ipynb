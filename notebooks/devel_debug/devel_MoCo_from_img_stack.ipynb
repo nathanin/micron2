{
 "cells": [
  {
   "cell_type": "code",
   "execution_count": null,
   "id": "herbal-bahrain",
   "metadata": {},
   "outputs": [],
   "source": [
    "%load_ext autoreload\n",
    "%autoreload 2\n",
    "%matplotlib inline\n",
    "import os\n",
    "import numpy as np\n",
    "import pandas as pd\n",
    "\n",
    "import tensorflow as tf\n",
    "import tensorflow_io as tfio\n",
    "# import tensorflow_addons as tfa\n",
    "\n",
    "physical_devices = tf.config.list_physical_devices('GPU')\n",
    "tf.config.experimental.set_memory_growth(physical_devices[0], True)\n",
    "\n",
    "from micron2.clustering import MoCo, MoCo_Classifier, UpdateQueue\n",
    "from micron2.data import stream_dataset, stream_dataset_parallel\n",
    "\n",
    "import h5py\n",
    "import tqdm.auto as tqdm\n",
    "from tqdm.keras import TqdmCallback\n",
    "\n",
    "AUTO = tf.data.experimental.AUTOTUNE"
   ]
  },
  {
   "cell_type": "code",
   "execution_count": null,
   "id": "periodic-syria",
   "metadata": {},
   "outputs": [],
   "source": [
    "!ls /storage/codex/preprocessed_data/pembro_TLS_panel/210702_PembroRT_Cas19_TLSpanel_reg2/collection*"
   ]
  },
  {
   "cell_type": "code",
   "execution_count": null,
   "id": "indoor-waters",
   "metadata": {},
   "outputs": [],
   "source": [
    "# Change this cell to load from multiple samples, and concatenate. \n",
    "# make sure to place channels correctly, in case they're permuted for some reason between collections.\n",
    "import glob\n",
    "srch = '/storage/codex/preprocessed_data/pembro_TLS_panel/210702_PembroRT_Cas19_TLSpanel_reg2/collection*'\n",
    "\n",
    "image_files = sorted(glob.glob(f'{srch}/training_cells_images.npy'))\n",
    "annot_files = sorted(glob.glob(f'{srch}/training_cells_annots.npy'))\n",
    "channel_files = sorted(glob.glob(f'{srch}/training_cells_channels.npy'))\n",
    "\n",
    "image_files\n",
    "\n",
    "images = np.concatenate([np.load(f) for f in image_files], axis=0)\n",
    "annots = np.concatenate([np.load(f) for f in annot_files], axis=0)\n",
    "channels = np.load(channel_files[0])\n",
    "\n",
    "channels = {k:i for i,k in enumerate(channels)}\n",
    "\n",
    "print(images.shape, images.dtype)\n",
    "print(annots.shape)\n",
    "print(np.unique(annots, return_counts=True))\n",
    "print(channels)\n",
    "\n",
    "perm = np.random.choice(images.shape[0], images.shape[0], replace=False)\n",
    "images = images[perm]\n",
    "annots = annots[perm]\n",
    "\n",
    "u_annots, annots_int = np.unique(annots, return_inverse=True)\n",
    "labels = np.eye(len(u_annots))[annots_int]\n",
    "# labels[annots == '', :] = 0 \n",
    "labels = labels[:,1:]\n",
    "\n",
    "print(labels.shape)\n",
    "print('labelled cells:', np.sum(np.sum(labels, axis=1)>0))"
   ]
  },
  {
   "cell_type": "code",
   "execution_count": null,
   "id": "internal-heater",
   "metadata": {},
   "outputs": [],
   "source": []
  },
  {
   "cell_type": "code",
   "execution_count": null,
   "id": "integral-newcastle",
   "metadata": {},
   "outputs": [],
   "source": [
    "!pwd"
   ]
  },
  {
   "cell_type": "code",
   "execution_count": null,
   "id": "dated-lending",
   "metadata": {},
   "outputs": [],
   "source": [
    "# input_size = 64\n",
    "crop_size = 52\n",
    "batch_size = 64\n",
    "max_queue_len = 4096\n",
    "n_channels = len(channels)\n",
    "\n",
    "outdir = '/home/ingn/devel/micron2/notebooks/devel_debug/moco-models'\n",
    "if not os.path.isdir(outdir):\n",
    "    os.makedirs(outdir)\n",
    "    \n",
    "with open(f'{outdir}/channels.txt', 'w+') as f:\n",
    "    for c in channels.keys():\n",
    "        f.write(f'{c}\\n')"
   ]
  },
  {
   "cell_type": "code",
   "execution_count": null,
   "id": "rolled-poultry",
   "metadata": {},
   "outputs": [],
   "source": [
    "def process(x,y):\n",
    "    \"\"\"\n",
    "    x is [N, h, w, c]\n",
    "    \"\"\"\n",
    "    x = tf.cast(x, tf.float32)/255.\n",
    "    \n",
    "    x = tf.image.random_crop(x, [crop_size, crop_size, n_channels])\n",
    "    x = tf.image.random_flip_left_right(x)\n",
    "    x = tf.image.random_flip_up_down(x)\n",
    "\n",
    "    return x,y\n",
    "    \n",
    "# Create a dataset with infinite repeating \n",
    "\n",
    "# dataset = (tf.data.Dataset.from_tensor_slices(images)\n",
    "#            .shuffle(1024, reshuffle_each_iteration=True)\n",
    "#            .map(process, num_parallel_calls=4)\n",
    "#            .batch(batch_size, drop_remainder=True)\n",
    "#            .prefetch(1)\n",
    "#           )\n",
    "\n",
    "\n",
    "image_dataset = tf.data.Dataset.from_tensor_slices(images)\n",
    "label_dataset = tf.data.Dataset.from_tensor_slices(labels)\n",
    "dataset = (tf.data.Dataset.zip((image_dataset, label_dataset)) \n",
    "           .shuffle(2048, reshuffle_each_iteration=True)\n",
    "           .map(process, num_parallel_calls=4)\n",
    "           .batch(batch_size, drop_remainder=True)\n",
    "           .prefetch(1)\n",
    "          )"
   ]
  },
  {
   "cell_type": "code",
   "execution_count": null,
   "id": "outside-trainer",
   "metadata": {},
   "outputs": [],
   "source": [
    "for batch,label in dataset:\n",
    "    print(batch.shape, label.shape)\n",
    "    break"
   ]
  },
  {
   "cell_type": "code",
   "execution_count": null,
   "id": "interior-pierre",
   "metadata": {},
   "outputs": [],
   "source": [
    "sample_x = tf.zeros([1, crop_size, crop_size, len(channels)],dtype=tf.float32)\n",
    "model = MoCo_Classifier(data_shape=[crop_size, crop_size, len(channels)], \n",
    "                        z_dim=256, \n",
    "                        n_classes=labels.shape[1],\n",
    "                        mlp_dim=128,\n",
    "                        max_queue_len=max_queue_len,  \n",
    "                        batch_size=batch_size, \n",
    "                        temp=0.1, \n",
    "                        encoder_type='EfficientNetB1')\n",
    "\n",
    "model.compile(optimizer=tf.keras.optimizers.Adam(lr=1e-2), \n",
    "              loss=tf.keras.losses.sparse_categorical_crossentropy,)\n",
    "z = model(sample_x)\n",
    "g = model.encode_g(sample_x)\n",
    "k = model.encode_k(sample_x)\n",
    "y = model.classifier(sample_x)\n",
    "\n",
    "print(z.shape)\n",
    "print(g.shape)\n",
    "print(k.shape)\n",
    "print(y.shape)\n",
    "\n",
    "model.summary()"
   ]
  },
  {
   "cell_type": "code",
   "execution_count": null,
   "id": "phantom-saint",
   "metadata": {},
   "outputs": [],
   "source": [
    "model.fit(dataset, epochs=25, verbose=0,\n",
    "          callbacks = [UpdateQueue(0.999, max_queue_len), \n",
    "                       TqdmCallback(verbose=2)]\n",
    "         )"
   ]
  },
  {
   "cell_type": "code",
   "execution_count": null,
   "id": "collect-finnish",
   "metadata": {},
   "outputs": [],
   "source": [
    "52 / 64"
   ]
  },
  {
   "cell_type": "code",
   "execution_count": null,
   "id": "overhead-plant",
   "metadata": {},
   "outputs": [],
   "source": [
    "has_labels = labels.sum(axis=1) > 0\n",
    "print(np.sum(has_labels))\n",
    "labelled_images = images[has_labels]\n",
    "use_labels = labels[has_labels]\n",
    "\n",
    "def process(x,y):\n",
    "    \"\"\"\n",
    "    x is [N, h, w, c]\n",
    "    \"\"\"\n",
    "    x = tf.cast(x, tf.float32)/255.\n",
    "    \n",
    "    x = tf.image.central_crop(x, 0.8125)\n",
    "    x = tf.image.random_flip_left_right(x)\n",
    "    x = tf.image.random_flip_up_down(x)\n",
    "\n",
    "    return x,y\n",
    "\n",
    "image_dataset = tf.data.Dataset.from_tensor_slices(labelled_images)\n",
    "label_dataset = tf.data.Dataset.from_tensor_slices(use_labels)\n",
    "dataset = (tf.data.Dataset.zip((image_dataset, label_dataset)) \n",
    "           .repeat(10)\n",
    "           .shuffle(1024, reshuffle_each_iteration=True)\n",
    "           .map(process, num_parallel_calls=4)\n",
    "           .batch(64, drop_remainder=True)\n",
    "           .prefetch(1)\n",
    "          )\n",
    "\n",
    "for batch in dataset:\n",
    "    batch_images, batch_labels = batch\n",
    "    print(batch_images.shape, batch_labels.shape)\n",
    "    break"
   ]
  },
  {
   "cell_type": "code",
   "execution_count": null,
   "id": "offshore-candle",
   "metadata": {},
   "outputs": [],
   "source": [
    "# change the classifier loss weight\n",
    "model.alpha = 0.99\n",
    "model.beta = 0.01\n",
    "model.fit(dataset, epochs=20, verbose=0,\n",
    "          callbacks = [UpdateQueue(0.999, max_queue_len), \n",
    "                       TqdmCallback(verbose=2)]\n",
    "         )"
   ]
  },
  {
   "cell_type": "code",
   "execution_count": null,
   "id": "utility-heading",
   "metadata": {},
   "outputs": [],
   "source": [
    "print(outdir)\n",
    "model.save_weights(f'{outdir}/weights.h5')\n",
    "model.encode_g.save_weights(f'{outdir}/weights_g.h5')\n",
    "model.encode_k.save_weights(f'{outdir}/weights_k.h5')\n",
    "model.classifier.save_weights(f'{outdir}/weights_cls.h5')"
   ]
  },
  {
   "cell_type": "code",
   "execution_count": null,
   "id": "eastern-edwards",
   "metadata": {},
   "outputs": [],
   "source": []
  },
  {
   "cell_type": "code",
   "execution_count": null,
   "id": "following-privilege",
   "metadata": {},
   "outputs": [],
   "source": []
  },
  {
   "cell_type": "code",
   "execution_count": null,
   "id": "musical-ticket",
   "metadata": {},
   "outputs": [],
   "source": []
  },
  {
   "cell_type": "code",
   "execution_count": null,
   "id": "guided-background",
   "metadata": {},
   "outputs": [],
   "source": []
  },
  {
   "cell_type": "code",
   "execution_count": null,
   "id": "functioning-commons",
   "metadata": {},
   "outputs": [],
   "source": []
  },
  {
   "cell_type": "code",
   "execution_count": null,
   "id": "rotary-oliver",
   "metadata": {},
   "outputs": [],
   "source": []
  },
  {
   "cell_type": "code",
   "execution_count": null,
   "id": "lyric-musician",
   "metadata": {},
   "outputs": [],
   "source": []
  },
  {
   "cell_type": "code",
   "execution_count": null,
   "id": "weighted-netscape",
   "metadata": {},
   "outputs": [],
   "source": []
  }
 ],
 "metadata": {
  "kernelspec": {
   "display_name": "Python (micron2-tf)",
   "language": "python",
   "name": "micron2-tf"
  },
  "language_info": {
   "codemirror_mode": {
    "name": "ipython",
    "version": 3
   },
   "file_extension": ".py",
   "mimetype": "text/x-python",
   "name": "python",
   "nbconvert_exporter": "python",
   "pygments_lexer": "ipython3",
   "version": "3.8.5"
  }
 },
 "nbformat": 4,
 "nbformat_minor": 5
}
