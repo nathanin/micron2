{
 "cells": [
  {
   "cell_type": "markdown",
   "id": "invisible-smile",
   "metadata": {},
   "source": [
    "We want to characterize the shape of the signal above a certain level, per cell.\n",
    "\n",
    "The goal is to differentiate between spots leading to elevated mean expression, and a nice spatial ring structure leading to elevated mean expression. \n",
    "\n",
    "1. get a cell and a mask where the only positive area is the area of that cell\n",
    "2. threshold the stain image, at a global level\n",
    "3. quantify number of disconnected bodies, circularity, total area, area ratio with cell area, major/minor axis vs major/minor axis of cell\n",
    "4. \n"
   ]
  },
  {
   "cell_type": "code",
   "execution_count": null,
   "id": "grateful-chance",
   "metadata": {},
   "outputs": [],
   "source": []
  }
 ],
 "metadata": {
  "kernelspec": {
   "display_name": "Python 3",
   "language": "python",
   "name": "python3"
  },
  "language_info": {
   "codemirror_mode": {
    "name": "ipython",
    "version": 3
   },
   "file_extension": ".py",
   "mimetype": "text/x-python",
   "name": "python",
   "nbconvert_exporter": "python",
   "pygments_lexer": "ipython3",
   "version": "3.8.5"
  }
 },
 "nbformat": 4,
 "nbformat_minor": 5
}
