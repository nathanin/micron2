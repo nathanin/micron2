{
 "cells": [
  {
   "cell_type": "code",
   "execution_count": null,
   "id": "equivalent-exclusion",
   "metadata": {},
   "outputs": [],
   "source": [
    "from IPython.core.display import display, HTML\n",
    "display(HTML(\"<style>.container { width:100% !important; }</style>\"))"
   ]
  },
  {
   "cell_type": "code",
   "execution_count": null,
   "id": "hispanic-plaza",
   "metadata": {},
   "outputs": [],
   "source": [
    "%load_ext autoreload\n",
    "%autoreload 2\n",
    "%matplotlib inline\n",
    "\n",
    "from matplotlib import pyplot as plt\n",
    "import seaborn as sns\n",
    "import pandas as pd\n",
    "import numpy as np\n",
    "import cv2\n",
    "\n",
    "import scanpy as sc\n",
    "\n",
    "import cuml\n",
    "from micron2.spatial import get_neighbors, categorical_neighbors, sliding_window_niches, k_neighbor_niches\n",
    "from micron2.clustering import cluster_leiden, run_tsne, plot_embedding, cluster_leiden_cu\n",
    "\n",
    "from sklearn.cluster import MiniBatchKMeans\n",
    "\n",
    "import scrna\n",
    "import tqdm.auto as tqdm"
   ]
  },
  {
   "cell_type": "code",
   "execution_count": null,
   "id": "anticipated-ribbon",
   "metadata": {},
   "outputs": [],
   "source": []
  },
  {
   "cell_type": "code",
   "execution_count": null,
   "id": "going-rolling",
   "metadata": {},
   "outputs": [],
   "source": [
    "!ls /storage/codex/datasets_v1"
   ]
  },
  {
   "cell_type": "code",
   "execution_count": null,
   "id": "breeding-duplicate",
   "metadata": {},
   "outputs": [],
   "source": [
    "adata = sc.read_h5ad(\"/storage/codex/datasets_v1/bladder_merged_v6.h5ad\")\n",
    "adata"
   ]
  },
  {
   "cell_type": "code",
   "execution_count": null,
   "id": "vocal-smile",
   "metadata": {},
   "outputs": [],
   "source": [
    "adata.obs.sample_id.value_counts()"
   ]
  },
  {
   "cell_type": "code",
   "execution_count": null,
   "id": "reserved-reggae",
   "metadata": {},
   "outputs": [],
   "source": [
    "adata.obs.subtype_gating.value_counts()"
   ]
  },
  {
   "cell_type": "markdown",
   "id": "colored-conference",
   "metadata": {},
   "source": [
    "# all samples in a dataset"
   ]
  },
  {
   "cell_type": "code",
   "execution_count": null,
   "id": "dress-venture",
   "metadata": {},
   "outputs": [],
   "source": [
    "all_clusters = adata.obs['subtype_rescued'].copy()\n",
    "cluster_levels, all_clusters = np.unique(all_clusters, return_inverse=True)\n",
    "\n",
    "all_neighbor_profiles = []\n",
    "obs_reshuffle = []\n",
    "with tqdm.tqdm(np.unique(adata.obs.sample_id)) as pbar:\n",
    "    for s in pbar:\n",
    "        pbar.set_description(s)\n",
    "        ad = adata[adata.obs.sample_id == s]\n",
    "        obs_reshuffle.append( np.array(adata.obs_names[adata.obs.sample_id == s]) )\n",
    "\n",
    "        coords = ad.obsm['coordinates'].copy()\n",
    "\n",
    "        # Flip the height coordinate\n",
    "        coords[:,1] = -coords[:,1]\n",
    "\n",
    "        clusters = all_clusters[adata.obs.sample_id == s]\n",
    "        neighbor_profiles = k_neighbor_niches(coords, clusters, k = 10, \n",
    "                                              u_clusters=np.arange(len(cluster_levels)), \n",
    "                                              aggregate='sum', max_dist=100)\n",
    "\n",
    "        all_neighbor_profiles.append(neighbor_profiles.copy())\n",
    "    \n",
    "all_neighbor_profiles = np.concatenate(all_neighbor_profiles, axis=0)\n",
    "OBS_reshuffle = np.concatenate(obs_reshuffle)"
   ]
  },
  {
   "cell_type": "code",
   "execution_count": null,
   "id": "unusual-concentration",
   "metadata": {},
   "outputs": [],
   "source": [
    "MBKM = MiniBatchKMeans(n_clusters=15, batch_size=1000, n_init=10, random_state=999)\n",
    "niches = MBKM.fit_predict(all_neighbor_profiles)\n",
    "\n",
    "# niches = cluster_leiden_cu(all_neighbor_profiles, resolution=0.3, nn_metric='correlation')\n",
    "niche_levels , niches = np.unique(niches, return_inverse=True)\n",
    "print(len(niche_levels))\n",
    "for n in niche_levels:\n",
    "    print(f'{n}: {np.sum(niches==n)}')"
   ]
  },
  {
   "cell_type": "code",
   "execution_count": null,
   "id": "together-armor",
   "metadata": {},
   "outputs": [],
   "source": [
    "adata.obs['cell_niches'] = pd.DataFrame(niches , index=OBS_reshuffle, dtype='category')\n",
    "adata.obs['cell_niches'] = pd.Categorical([f'{x:02d}' for x in adata.obs['cell_niches']])"
   ]
  },
  {
   "cell_type": "code",
   "execution_count": null,
   "id": "superb-vault",
   "metadata": {},
   "outputs": [],
   "source": [
    "profiles_df = pd.DataFrame(all_neighbor_profiles, index=OBS_reshuffle, columns=cluster_levels)\n",
    "profiles_df = profiles_df.loc[adata.obs_names, :]\n",
    "adata.obsm['niche_profiles'] = profiles_df.values\n",
    "adata.uns['niche_profiles_colnames'] = cluster_levels\n",
    "profiles_df"
   ]
  },
  {
   "cell_type": "code",
   "execution_count": null,
   "id": "difficult-prediction",
   "metadata": {},
   "outputs": [],
   "source": []
  },
  {
   "cell_type": "code",
   "execution_count": null,
   "id": "offshore-horror",
   "metadata": {},
   "outputs": [],
   "source": [
    "r = np.max(np.abs(adata.obsm['coordinates_shift']), axis=0)\n",
    "r = r[0]/r[1]\n",
    "plt.figure(figsize=(r*7,7), dpi=300) \n",
    "sc.pl.embedding(adata, basis='coordinates_shift', color='cell_niches', \n",
    "                ax=plt.gca(), s=0.5, palette='tab20')"
   ]
  },
  {
   "cell_type": "code",
   "execution_count": null,
   "id": "polish-influence",
   "metadata": {},
   "outputs": [],
   "source": [
    "adata.uns['subtype_rescued_colors'][4] = \"#800410\"\n",
    "adata.uns['subtype_rescued_colors'][8] = \"#6e597a\"\n",
    "adata.uns['subtype_rescued_colors'][10] = \"#91078f\"\n",
    "adata.uns['subtype_rescued_colors'][12] = \"#cc510a\"\n",
    "adata.uns['subtype_rescued_colors'][-1] = \"#1fd1ce\""
   ]
  },
  {
   "cell_type": "code",
   "execution_count": null,
   "id": "specified-theorem",
   "metadata": {},
   "outputs": [],
   "source": [
    "r = np.max(np.abs(adata.obsm['coordinates_shift']), axis=0)\n",
    "r = r[0]/r[1]\n",
    "plt.figure(figsize=(r*10,10), dpi=300) \n",
    "sc.pl.embedding(adata, basis='coordinates_shift', color='subtype_rescued', \n",
    "                ax=plt.gca(), s=1)"
   ]
  },
  {
   "cell_type": "code",
   "execution_count": null,
   "id": "equal-schema",
   "metadata": {},
   "outputs": [],
   "source": [
    "scrna.plot_group_percents"
   ]
  },
  {
   "cell_type": "code",
   "execution_count": null,
   "id": "occasional-bulletin",
   "metadata": {},
   "outputs": [],
   "source": [
    "scrna.plot_group_percents(adata, 'subtype_rescued', 'cell_niches',\n",
    "                          title = 'niche composition',\n",
    "                          colors={k:c for k,c in zip(u_celltypes,adata.uns['subtype_rescued_colors'])},\n",
    "                          annotate_total=False)\n",
    "\n",
    "scrna.plot_group_percents(adata, 'cell_niches', 'subtype_rescued', title='niche occupation',\n",
    "                          annotate_total=False)"
   ]
  },
  {
   "cell_type": "code",
   "execution_count": null,
   "id": "controlling-wichita",
   "metadata": {},
   "outputs": [],
   "source": [
    "from matplotlib import rcParams\n",
    "rcParams['figure.facecolor'] = (1,1,1,1)\n",
    "u_celltypes = np.unique(adata.obs.subtype_rescued)\n",
    "def count_fn(x):\n",
    "    l, c = np.unique(x['subtype_rescued'], return_counts=True)\n",
    "    z = np.zeros(len(u_celltypes), dtype=np.int)\n",
    "    for i,r in zip(l,c):\n",
    "        z[u_celltypes==i] = r\n",
    "    z = z/np.sum(c)\n",
    "    return pd.Series(z, index=u_celltypes)\n",
    "\n",
    "cols = ['cell_niches', 'subtype_rescued']\n",
    "df = adata.obs.loc[:, cols].copy()\n",
    "# df\n",
    "df = df.groupby('cell_niches').apply(count_fn)\n",
    "\n",
    "sns.clustermap(df, square=True, yticklabels=True, lw=1, cmap='Reds', \n",
    "               dendrogram_ratio=(0.2, 0.05),\n",
    "               annot=True,\n",
    "               fmt='2.2f'\n",
    "               )\n"
   ]
  },
  {
   "cell_type": "code",
   "execution_count": null,
   "id": "committed-actor",
   "metadata": {},
   "outputs": [],
   "source": [
    "for l, n in zip(u_celltypes, df.index[ np.argmax(df.values, axis=0) ].to_numpy()):\n",
    "    print(l, n)"
   ]
  },
  {
   "cell_type": "code",
   "execution_count": null,
   "id": "processed-leeds",
   "metadata": {},
   "outputs": [],
   "source": [
    "l, u = np.unique(adata.obs.loc[adata.obs.cell_niches=='00', 'subtype_rescued'], return_counts=True)\n",
    "_ = plt.pie(u, labels=l, autopct='%2.2f', pctdistance=2.3, rotatelabels=True, colors=adata.uns['subtype_rescued_colors'])"
   ]
  },
  {
   "cell_type": "code",
   "execution_count": null,
   "id": "designing-hampshire",
   "metadata": {},
   "outputs": [],
   "source": [
    "len(adata.uns['niche_profiles_colnames'])"
   ]
  },
  {
   "cell_type": "code",
   "execution_count": null,
   "id": "affecting-longitude",
   "metadata": {},
   "outputs": [],
   "source": [
    "niche_groups = {\n",
    "    0: 'Epithelial-core',\n",
    "    1: 'EpCDH-Mac',\n",
    "    2: 'EpKRT',\n",
    "    3: 'Stromal-Mac',\n",
    "    4: 'Ep-EpCDH',\n",
    "    5: 'Bcell',\n",
    "    6: 'EpKRT',\n",
    "    7: 'Mac-Ep',\n",
    "    8: 'EpCDH',\n",
    "    9: 'Stromal',\n",
    "    10: 'Epithelial-core',\n",
    "    11: 'EpCDH-Ep',\n",
    "    12: 'EpCDH-Stromal',\n",
    "    13: 'Ep-Stromal',\n",
    "    14: 'Immune-mix',\n",
    "#     15: 'Epithelial',\n",
    "#     16: 'Stromal',\n",
    "#     17: 'Endothelial',\n",
    "#     18: 'EpCDH-Bcell',\n",
    "#     19: 'Mac',\n",
    "}\n",
    "niche_groups_v = [niche_groups[n] for n in adata.obs['cell_niches']]\n",
    "adata.obs['niche_labels'] = pd.Categorical(niche_groups_v)"
   ]
  },
  {
   "cell_type": "code",
   "execution_count": null,
   "id": "entertaining-conjunction",
   "metadata": {},
   "outputs": [],
   "source": [
    "r = np.max(np.abs(adata.obsm['coordinates_shift']), axis=0)\n",
    "r = r[0]/r[1]\n",
    "plt.figure(figsize=(r*15,15), dpi=300) \n",
    "sc.pl.embedding(adata, basis='coordinates_shift', color='niche_labels', \n",
    "                ax=plt.gca(), s=2)"
   ]
  },
  {
   "cell_type": "code",
   "execution_count": null,
   "id": "damaged-scratch",
   "metadata": {},
   "outputs": [],
   "source": [
    "adata.uns['niche_labels_colors'][-5] = '#65a8a2'\n",
    "# adata.uns['niche_labels_colors'][4] = '#f2b6e4'"
   ]
  },
  {
   "cell_type": "code",
   "execution_count": null,
   "id": "criminal-attention",
   "metadata": {},
   "outputs": [],
   "source": []
  },
  {
   "cell_type": "code",
   "execution_count": null,
   "id": "greatest-pursuit",
   "metadata": {},
   "outputs": [],
   "source": [
    "u_niche_labels = np.unique(niche_groups_v)\n",
    "colors = adata.uns['niche_labels_colors']\n",
    "row_colors = pd.DataFrame(index=np.arange(20), columns=['label'])\n",
    "for j,v in sorted(niche_groups.items()):\n",
    "    c = colors[np.argwhere(u_niche_labels==v).flatten()[0]]\n",
    "    print(j,v,c)\n",
    "    row_colors.loc[j,'label'] = c\n",
    "    \n",
    "sns.clustermap(df, square=True, yticklabels=True, lw=1, cmap='Reds', \n",
    "               dendrogram_ratio=(0.2, 0.05),\n",
    "               annot=True,\n",
    "               fmt='2.2f',\n",
    "               row_colors=row_colors,\n",
    "               figsize=(6,10)\n",
    "               )"
   ]
  },
  {
   "cell_type": "code",
   "execution_count": null,
   "id": "needed-mistress",
   "metadata": {},
   "outputs": [],
   "source": [
    "help(scrna.plot_group_percents)"
   ]
  },
  {
   "cell_type": "code",
   "execution_count": null,
   "id": "incoming-cleaner",
   "metadata": {},
   "outputs": [],
   "source": [
    "colors = {l:c for l,c in zip(np.unique(adata.obs.niche_labels),adata.uns['niche_labels_colors'])}\n",
    "scrna.plot_group_percents(adata, 'niche_labels', 'sample_id', sort_by='Immune-mix',\n",
    "                          colors=colors, ncol=1)"
   ]
  },
  {
   "cell_type": "code",
   "execution_count": null,
   "id": "residential-background",
   "metadata": {},
   "outputs": [],
   "source": []
  },
  {
   "cell_type": "code",
   "execution_count": null,
   "id": "sweet-pontiac",
   "metadata": {},
   "outputs": [],
   "source": [
    "s = 'Epithelial_CDH'\n",
    "fig, axs = plt.subplots(5,3, figsize=(3*3,5*3), dpi=180)\n",
    "axs = axs.ravel()\n",
    "for i,s in enumerate(np.unique(adata.obs.subtype_rescued)):\n",
    "    ax = axs[i]\n",
    "    d = pd.DataFrame(adata.obsm['niche_profiles'][adata.obs.subtype_rescued==s],\n",
    "                     columns=adata.uns['niche_profiles_colnames'])\n",
    "    d = d.loc[:, ~d.columns.str.contains('Epithelial')]\n",
    "    p = d.sum(axis=0)\n",
    "    _ = ax.pie(p, labels=p.index, rotatelabels=True, \n",
    "               labeldistance=0.7)\n",
    "    ax.set_title(s)\n"
   ]
  },
  {
   "cell_type": "code",
   "execution_count": null,
   "id": "subsequent-luther",
   "metadata": {},
   "outputs": [],
   "source": [
    "fig, axs = plt.subplots(1,3, figsize=(3*3,1*3), dpi=180)\n",
    "axs = axs.ravel()\n",
    "for i,s in enumerate(['Epithelial', 'Epithelial_KRT', 'Epithelial_CDH']):\n",
    "    ax = axs[i]\n",
    "    \n",
    "    d = pd.DataFrame(adata.obsm['niche_profiles'][adata.obs.subtype_rescued==s],\n",
    "                     columns=adata.uns['niche_profiles_colnames'])\n",
    "    #d = d.loc[:, ~d.columns.isin(['Blank', 'Immune', 'Saturated'])]\n",
    "    p = d.sum(axis=0)\n",
    "#     p = p.loc[~p.index.str.contains('Epithelial')]\n",
    "    _ = ax.pie(p, labels=p.index, rotatelabels=True, \n",
    "              labeldistance=0.9)\n",
    "    \n",
    "#     ep = np.sum(p.loc[p.index.str.contains('Epithelial')])\n",
    "#     im = np.sum(p.loc[~p.index.str.contains('Epithelial') & (p.index!='Stromal')])\n",
    "#     st = np.sum(p.loc['Stromal'])\n",
    "#     _ = ax.pie([ep,im,st], labels=['Other Epithelial', 'Immune', 'Stromal'], rotatelabels=True, \n",
    "#                labeldistance=0.9)\n",
    "    ax.set_title(s)"
   ]
  }
 ],
 "metadata": {
  "kernelspec": {
   "display_name": "Python 3",
   "language": "python",
   "name": "python3"
  },
  "language_info": {
   "codemirror_mode": {
    "name": "ipython",
    "version": 3
   },
   "file_extension": ".py",
   "mimetype": "text/x-python",
   "name": "python",
   "nbconvert_exporter": "python",
   "pygments_lexer": "ipython3",
   "version": "3.8.5"
  }
 },
 "nbformat": 4,
 "nbformat_minor": 5
}
