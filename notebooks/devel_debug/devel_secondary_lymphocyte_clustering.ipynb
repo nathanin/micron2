{
 "cells": [
  {
   "cell_type": "code",
   "execution_count": null,
   "id": "virtual-announcement",
   "metadata": {},
   "outputs": [],
   "source": [
    "%matplotlib inline\n",
    "import scanpy as sc\n",
    "import numpy as np\n",
    "import pandas as pd\n",
    "\n",
    "import cuml\n",
    "import scrna\n",
    "\n",
    "from micron2 import cluster_leiden_cu\n",
    "\n",
    "from matplotlib import pyplot as plt\n",
    "from matplotlib import rcParams\n",
    "rcParams['figure.facecolor'] = (1,1,1,1)"
   ]
  },
  {
   "cell_type": "code",
   "execution_count": null,
   "id": "micro-bangkok",
   "metadata": {},
   "outputs": [],
   "source": [
    "overall_adata = sc.read_h5ad(\"/storage/codex/datasets_v1/merged_v3.h5ad\")\n",
    "overall_adata"
   ]
  },
  {
   "cell_type": "code",
   "execution_count": null,
   "id": "pressed-birth",
   "metadata": {},
   "outputs": [],
   "source": [
    "overall_adata.obs.celltype.value_counts()"
   ]
  },
  {
   "cell_type": "code",
   "execution_count": null,
   "id": "cooked-architecture",
   "metadata": {},
   "outputs": [],
   "source": [
    "adata = overall_adata[overall_adata.obs.celltype.isin(['Immune', 'CD4T', 'CD8T'])].copy()\n",
    "adata"
   ]
  },
  {
   "cell_type": "code",
   "execution_count": null,
   "id": "competitive-minimum",
   "metadata": {},
   "outputs": [],
   "source": [
    "# sc.pp.log1p(adata)\n",
    "# sc.pp.scale(adata, zero_center=False, max_value=3)\n",
    "# help(sc.pp.scale)"
   ]
  },
  {
   "cell_type": "code",
   "execution_count": null,
   "id": "addressed-council",
   "metadata": {},
   "outputs": [],
   "source": [
    "# include = ['mean', 'percent', 'q01', 'q10', 'q25', 'q50', 'q75', 'q95', 'q99', 'std']\n",
    "include = ['membrane_mean']\n",
    "exclude = ['DAPI', 'PanCytoK', 'PDGFRb', 'aSMA', 'IgG', 'IgA', 'C1q', 'GZMB', 'PNaD', 'CD45_', 'CD31',\n",
    "           'CD80']\n",
    "features = []\n",
    "for v in adata.var_names:\n",
    "    if any([e in v for e in exclude]):\n",
    "        continue\n",
    "    if any([i in v for i in include]):\n",
    "        features.append(v)\n",
    "print(len(features))"
   ]
  },
  {
   "cell_type": "code",
   "execution_count": null,
   "id": "colonial-saying",
   "metadata": {},
   "outputs": [],
   "source": [
    "from sklearn.preprocessing import MinMaxScaler, RobustScaler"
   ]
  },
  {
   "cell_type": "code",
   "execution_count": null,
   "id": "continent-garage",
   "metadata": {},
   "outputs": [],
   "source": [
    "adata = adata[:,features].copy()\n",
    "sc.pp.normalize_total(adata, target_sum=10000)\n",
    "sc.pp.log1p(adata)"
   ]
  },
  {
   "cell_type": "code",
   "execution_count": null,
   "id": "mobile-roman",
   "metadata": {},
   "outputs": [],
   "source": [
    "X = adata[:,features].X.toarray()\n",
    "# X = MinMaxScaler().fit_transform(X)\n",
    "# Xextra = np.array(adata.obs.loc[:, adata.obs.columns.str.contains('ring')].values)\n",
    "# X = np.concatenate([X, Xextra], axis=1)\n",
    "print(X.shape)"
   ]
  },
  {
   "cell_type": "code",
   "execution_count": null,
   "id": "varied-brush",
   "metadata": {},
   "outputs": [],
   "source": [
    "features"
   ]
  },
  {
   "cell_type": "code",
   "execution_count": null,
   "id": "terminal-blast",
   "metadata": {},
   "outputs": [],
   "source": [
    "# Xpc = cuml.PCA(n_components=30, whiten=False).fit_transform(X)"
   ]
  },
  {
   "cell_type": "code",
   "execution_count": null,
   "id": "respective-violin",
   "metadata": {},
   "outputs": [],
   "source": [
    "emb = cuml.UMAP(n_neighbors=30).fit_transform(X)"
   ]
  },
  {
   "cell_type": "code",
   "execution_count": null,
   "id": "prospective-coral",
   "metadata": {},
   "outputs": [],
   "source": [
    "plt.scatter(emb[:,0], emb[:,1],s=1)\n",
    "plt.xlim([-30,30])\n",
    "plt.ylim([-30,30])"
   ]
  },
  {
   "cell_type": "code",
   "execution_count": null,
   "id": "freelance-recovery",
   "metadata": {},
   "outputs": [],
   "source": [
    "clusters = cluster_leiden_cu(X, neighbors=50, nn_metric='cosine', resolution=0.8)\n",
    "\n",
    "# clusters = cuml.DBSCAN(min_samples=50, eps=0.1, verbose=2).fit_predict(X, out_dtype='int32')\n",
    "print(len(np.unique(clusters)))"
   ]
  },
  {
   "cell_type": "code",
   "execution_count": null,
   "id": "ceramic-representative",
   "metadata": {},
   "outputs": [],
   "source": [
    "include = ['membrane_mean']\n",
    "\n",
    "# exclude = ['DAPI', 'PanCytoK', 'PDGFRb', 'aSMA', 'IgG', 'IgA', 'C1q', 'GZMB', 'PNaD', 'CD45_', 'CD31']\n",
    "exclude = ['DAPI']\n",
    "show_features = []\n",
    "for v in adata.var_names:\n",
    "    if any([e in v for e in exclude]):\n",
    "        continue\n",
    "    if any([i in v for i in include]):\n",
    "        show_features.append(v)\n",
    "        \n",
    "print(len(show_features))\n",
    "adata.obs['leiden'] = pd.Categorical(clusters)\n",
    "sc.pl.dotplot(adata, show_features, groupby='leiden', standard_scale='var',)\n",
    "#               expression_cutoff=0.2)\n",
    "adata.obs.leiden.value_counts().sort_index()"
   ]
  },
  {
   "cell_type": "code",
   "execution_count": null,
   "id": "drawn-capture",
   "metadata": {},
   "outputs": [],
   "source": [
    "with open('/storage/tmp-outgoing/2021-feb-25.csv', 'w+') as f:\n",
    "    for c in np.unique(clusters):\n",
    "        f.write(f'{c},\"\"\\n')"
   ]
  },
  {
   "cell_type": "code",
   "execution_count": null,
   "id": "coupled-federation",
   "metadata": {},
   "outputs": [],
   "source": [
    "labels = pd.read_csv('/storage/tmp-outgoing/2021-feb-25.csv', index_col=0, header=None)\n",
    "annot = np.zeros(len(clusters), dtype=object)\n",
    "for c in labels.index:\n",
    "    annotation = labels.loc[c,1]\n",
    "    annot[clusters==c] = annotation\n",
    "for a in np.unique(annot):\n",
    "    print(a, np.sum(annot==a))"
   ]
  },
  {
   "cell_type": "code",
   "execution_count": null,
   "id": "precise-consequence",
   "metadata": {},
   "outputs": [],
   "source": [
    "annot.shape"
   ]
  },
  {
   "cell_type": "code",
   "execution_count": null,
   "id": "therapeutic-integrity",
   "metadata": {},
   "outputs": [],
   "source": [
    "adata.obs['immune_annotation'] = pd.Categorical(annot)"
   ]
  },
  {
   "cell_type": "code",
   "execution_count": null,
   "id": "constant-angola",
   "metadata": {},
   "outputs": [],
   "source": [
    "plt.figure(figsize=(r*6,6))\n",
    "sc.pl.embedding(adata, basis='coordinates_shift', color='immune_annotation', \n",
    "                s=1, ax=plt.gca())"
   ]
  },
  {
   "cell_type": "code",
   "execution_count": null,
   "id": "accessible-vulnerability",
   "metadata": {},
   "outputs": [],
   "source": [
    "from matplotlib import rcParams\n",
    "import numpy as np\n",
    "rcParams['figure.dpi'] = 100\n",
    "r = np.max(np.abs(adata.obsm['coordinates_shift']), axis=0)\n",
    "r = r[0]/r[1]\n",
    "plt.figure(figsize=(r*6,6))\n",
    "sc.pl.embedding(adata, basis='coordinates_shift', color='biopsy', \n",
    "                s=1, ax=plt.gca(), legend_loc='on data')"
   ]
  },
  {
   "cell_type": "code",
   "execution_count": null,
   "id": "smaller-reporter",
   "metadata": {},
   "outputs": [],
   "source": [
    "plt.figure(figsize=(r*6,6))\n",
    "sc.pl.embedding(adata, basis='coordinates_shift', color='sample_id_printing', \n",
    "                s=1, ax=plt.gca(), legend_loc='on data')"
   ]
  },
  {
   "cell_type": "code",
   "execution_count": null,
   "id": "handed-harmony",
   "metadata": {},
   "outputs": [],
   "source": [
    "scrna.plot_group_percents(adata, 'immune_annotation', 'biopsy', sort_by='CD8T_Trm')"
   ]
  },
  {
   "cell_type": "code",
   "execution_count": null,
   "id": "valid-scout",
   "metadata": {},
   "outputs": [],
   "source": [
    "# subtype.fillna('x', inplace=True)\n",
    "subtype = np.array(overall_adata.obs['celltype'])\n",
    "subtype = pd.DataFrame(subtype, index=overall_adata.obs_names, columns=['subtype'])\n",
    "subtype.loc[adata.obs_names, 'subtype'] = adata.obs.immune_annotation\n",
    "\n",
    "overall_adata.obs['subtype'] = subtype\n",
    "# overall_adata.obs.fillna('x', inplace=True)"
   ]
  },
  {
   "cell_type": "code",
   "execution_count": null,
   "id": "adolescent-funeral",
   "metadata": {},
   "outputs": [],
   "source": [
    "plt.figure(figsize=(r*6,6))\n",
    "sc.pl.embedding(overall_adata, basis='coordinates_shift', color='subtype', \n",
    "                s=1, ax=plt.gca())"
   ]
  },
  {
   "cell_type": "code",
   "execution_count": null,
   "id": "third-administrator",
   "metadata": {},
   "outputs": [],
   "source": [
    "scrna.plot_group_percents(overall_adata, 'subtype', 'biopsy', sort_by='CD8T_Trm')"
   ]
  },
  {
   "cell_type": "code",
   "execution_count": null,
   "id": "traditional-northern",
   "metadata": {},
   "outputs": [],
   "source": [
    "scrna.plot_group_percents(overall_adata, 'celltype', 'subtype', \n",
    "                          rm_groups=['x'],\n",
    "                          annotate_total=True)"
   ]
  },
  {
   "cell_type": "code",
   "execution_count": null,
   "id": "frozen-greensboro",
   "metadata": {},
   "outputs": [],
   "source": [
    "include = ['membrane_mean']\n",
    "\n",
    "# exclude = ['DAPI', 'PanCytoK', 'PDGFRb', 'aSMA', 'IgG', 'IgA', 'C1q', 'GZMB', 'PNaD', 'CD45_', 'CD31']\n",
    "exclude = ['DAPI']\n",
    "show_features = []\n",
    "for v in overall_adata.var_names:\n",
    "    if any([e in v for e in exclude]):\n",
    "        continue\n",
    "    if any([i in v for i in include]):\n",
    "        show_features.append(v)\n",
    "        \n",
    "print(len(show_features))\n",
    "sc.pl.dotplot(overall_adata, show_features, groupby='subtype', standard_scale='var',)\n",
    "#               expression_cutoff=0.2)"
   ]
  },
  {
   "cell_type": "code",
   "execution_count": null,
   "id": "anonymous-production",
   "metadata": {},
   "outputs": [],
   "source": [
    "percent_df = pd.DataFrame(index=np.unique(overall_adata.obs.biopsy), \n",
    "                          columns=np.unique(overall_adata.obs.subtype))\n",
    "biopsy_totals = overall_adata.obs.loc[~overall_adata.obs.subtype.isin(['not_a_cell','neg']), 'biopsy'].value_counts()\n",
    "\n",
    "for s in percent_df.columns:\n",
    "    z = overall_adata.obs.loc[overall_adata.obs.subtype==s, 'biopsy'].value_counts()\n",
    "    percent_df.loc[:,s] = z / biopsy_totals\n",
    "    \n",
    "percent_df = percent_df.loc[:, ~percent_df.columns.isin(['not_a_cell', 'neg'])]"
   ]
  },
  {
   "cell_type": "code",
   "execution_count": null,
   "id": "starting-purchase",
   "metadata": {},
   "outputs": [],
   "source": [
    "import seaborn as sns\n",
    "# sns.clustermap(percent_df.corr())\n",
    "sns.clustermap(percent_df, standard_scale=1, cmap='Reds', figsize=(5,5),\n",
    "               yticklabels=True)"
   ]
  },
  {
   "cell_type": "code",
   "execution_count": null,
   "id": "limited-roots",
   "metadata": {},
   "outputs": [],
   "source": [
    "sns.clustermap(percent_df.corr(), figsize=(5,5), cmap='RdBu_r', center=0)"
   ]
  },
  {
   "cell_type": "code",
   "execution_count": null,
   "id": "spare-offset",
   "metadata": {},
   "outputs": [],
   "source": []
  },
  {
   "cell_type": "code",
   "execution_count": null,
   "id": "outstanding-trace",
   "metadata": {},
   "outputs": [],
   "source": []
  },
  {
   "cell_type": "code",
   "execution_count": null,
   "id": "capable-census",
   "metadata": {},
   "outputs": [],
   "source": [
    "overall_adata.write(\"/storage/codex/datasets_v1/merged_v3.h5ad\")"
   ]
  },
  {
   "cell_type": "code",
   "execution_count": null,
   "id": "informational-static",
   "metadata": {},
   "outputs": [],
   "source": []
  },
  {
   "cell_type": "code",
   "execution_count": null,
   "id": "emotional-directive",
   "metadata": {},
   "outputs": [],
   "source": []
  }
 ],
 "metadata": {
  "kernelspec": {
   "display_name": "Python 3",
   "language": "python",
   "name": "python3"
  },
  "language_info": {
   "codemirror_mode": {
    "name": "ipython",
    "version": 3
   },
   "file_extension": ".py",
   "mimetype": "text/x-python",
   "name": "python",
   "nbconvert_exporter": "python",
   "pygments_lexer": "ipython3",
   "version": "3.8.5"
  }
 },
 "nbformat": 4,
 "nbformat_minor": 5
}
