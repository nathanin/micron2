{
 "cells": [
  {
   "cell_type": "code",
   "execution_count": null,
   "id": "greenhouse-tampa",
   "metadata": {},
   "outputs": [],
   "source": [
    "from IPython.core.display import display, HTML\n",
    "display(HTML(\"<style>.container { width:100% !important; }</style>\"))"
   ]
  },
  {
   "cell_type": "code",
   "execution_count": null,
   "id": "global-headquarters",
   "metadata": {},
   "outputs": [],
   "source": [
    "%matplotlib inline\n",
    "%load_ext autoreload\n",
    "%autoreload 2\n",
    "\n",
    "import numpy as np\n",
    "import pandas as pd\n",
    "import scanpy as sc\n",
    "import os\n",
    "import cv2\n",
    "\n",
    "from micron2.codexutils import ImageMontage, layout_cells\n",
    "\n",
    "from matplotlib import pyplot as plt\n",
    "import seaborn as sns"
   ]
  },
  {
   "cell_type": "code",
   "execution_count": null,
   "id": "light-insertion",
   "metadata": {},
   "outputs": [],
   "source": [
    "def read_color_config(fname):\n",
    "    df = pd.read_csv(fname, index_col=None, header=None)\n",
    "    df.columns = ['channel', 'color', 'low', 'high']\n",
    "    colors = {}\n",
    "    saturations = {}\n",
    "    for i in range(df.shape[0]):\n",
    "        colors[df.loc[i,'channel']] = df.loc[i,'color']\n",
    "        saturations[df.loc[i,'channel']] = (df.loc[i,'low'], df.loc[i,'high'])\n",
    "    return colors, saturations\n"
   ]
  },
  {
   "cell_type": "code",
   "execution_count": null,
   "id": "right-physics",
   "metadata": {},
   "outputs": [],
   "source": [
    "# channel_groups = [\n",
    "#     ['DAPI', 'CD45', 'PanCytoK', 'Ki-67',],\n",
    "#     ['CD20', 'CD3e', 'CD8', 'CD4',],\n",
    "#     ['CD68', 'C1q', 'CD31', 'CD11c',],\n",
    "#     ['IL7R', 'CD103', 'CD134', 'CD69',],\n",
    "#     ['CXCL13', 'CXCR5', 'PD-1', 'aSMA',],\n",
    "#     ['OX40L', 'HLA-DR', 'LAG3', 'IgA',],\n",
    "#     ['CD89', 'PNaD', 'PD-L1', 'CD80',],\n",
    "#     ['TIM3', 'CD45RO', 'CD40LG', 'FOXP3',],\n",
    "#     ['CD64', 'GZMB', 'CD40', 'CD45RA',],\n",
    "#     ['CD138', 'IgM', 'PDGFRb']\n",
    "# ]\n",
    "\n",
    "channel_groups = [\n",
    "#     ['DAPI', 'CD45', 'PanCytoK', 'CD68',], # Epithelial\n",
    "#     ['DAPI', 'CD4', 'CD3e', 'CD8', 'CD20'], # Tcell\n",
    "#     ['DAPI', 'CD3e', 'CD68', 'PanCytoK', 'CD45'], # Mac\n",
    "#     ['DAPI', 'PD-1', 'CD8', 'LAG3', 'CXCL13'], # Trm\n",
    "#     ['DAPI', 'PD-1', 'CD4', 'CXCL13'], # Tfh\n",
    "    ['DAPI', 'aSMA', 'PDGFRb', 'CD31', 'PanCytoK'] # Stromal\n",
    "#     ['DAPI', 'CXCR5', 'CD20', 'CD3e', 'CD68'], # Bcell\n",
    "]"
   ]
  },
  {
   "cell_type": "code",
   "execution_count": null,
   "id": "undefined-video",
   "metadata": {},
   "outputs": [],
   "source": [
    "all_samples = !ls -d /storage/codex/preprocessed_data/*Bladder*\n",
    "all_samples = [os.path.basename(s) for s in all_samples]\n",
    "all_samples = [s for s in all_samples if 'reg0' not in s]\n",
    "all_samples"
   ]
  },
  {
   "cell_type": "code",
   "execution_count": null,
   "id": "placed-bumper",
   "metadata": {},
   "outputs": [],
   "source": [
    "sources"
   ]
  },
  {
   "cell_type": "code",
   "execution_count": null,
   "id": "aerial-screening",
   "metadata": {},
   "outputs": [],
   "source": [
    "def filter_coordinates(coords, s):\n",
    "    valid_coords = np.ones(coords.shape[0], dtype=np.bool)\n",
    "    max_1, max_2 = np.max(coords, axis=0)\n",
    "    i = coords[:,0]<(s+1)\n",
    "    i += coords[:,1]<(s+1)\n",
    "    i += coords[:,0]>(max_1-s)\n",
    "    i += coords[:,1]>(max_2-s)\n",
    "    valid_coords[i] = 0\n",
    "    return valid_coords"
   ]
  },
  {
   "cell_type": "code",
   "execution_count": null,
   "id": "micro-russell",
   "metadata": {},
   "outputs": [],
   "source": [
    "celltype = 'Bcell'\n",
    "celltype_col = 'celltype_gating'\n",
    "data_home = '/storage/codex/preprocessed_data'\n",
    "outdir = f'/storage/tmp-outgoing/codex-cell-images/bladder/{celltype}'\n",
    "s = 64\n",
    "ncol = 8\n",
    "ncells = 64\n",
    "\n",
    "colors, saturations = read_color_config('/home/ingn/tmp/micron2-data/bladder/color_config.csv')\n",
    "channel_groups = [\n",
    "#     ['DAPI', 'CD4', 'CD3e', 'CD8', 'CD20'], # Tcell\n",
    "#     ['DAPI', 'PanCytoK', 'KRT13', 'KRT17', 'CDH12', 'CDH18']\n",
    "#     ['DAPI', 'KRT20', 'CK5-6', 'CDH12', 'CDH18']\n",
    "    ['DAPI', 'CD20', 'CD3e', 'CD68'], # Bcell\n",
    "    \n",
    "]\n",
    "\n",
    "for sample in all_samples:\n",
    "    adataf = f'{data_home}/{sample}/{sample}.h5ad'\n",
    "    outf = f'{outdir}/{sample}.png'\n",
    "    \n",
    "    adata = sc.read_h5ad(adataf)\n",
    "    channels = adata.uns['channels']\n",
    "    coords = adata.obsm['coordinates'].copy()\n",
    "    coords[:,1] = -coords[:,1]\n",
    "    \n",
    "    valid_coords = filter_coordinates(coords, s)\n",
    "    \n",
    "    import glob\n",
    "    def get_source(image_home, ch):\n",
    "        lst = glob.glob(f'{image_home}/*.tif')\n",
    "        # srch = f'_{ch}_' if ch != 'DAPI' else f'_{ch}-011'\n",
    "        srch = f'_{ch}_' if ch != 'DAPI' else f'_{ch}1_'\n",
    "        for l in lst:\n",
    "            if srch in l:\n",
    "                return l\n",
    "\n",
    "    sources = {ch: get_source(f'{data_home}/{sample}/images', ch) for ch in channels}\n",
    "    montager = ImageMontage(sources=sources, colors=colors, saturations=saturations,\n",
    "                            channel_groups=channel_groups)\n",
    "\n",
    "    indices = np.argwhere((adata.obs[celltype_col].values == celltype)&(valid_coords)).flatten()\n",
    "    if len(indices) < ncells:\n",
    "        continue\n",
    "        \n",
    "    idx = np.random.choice(indices, ncells, replace=False)\n",
    "    bboxes = []\n",
    "    for i in idx:\n",
    "        bbox = [coords[i,1]-s, coords[i,1]+s, coords[i,0]-s, coords[i,0]+s]\n",
    "        bboxes.append(bbox)\n",
    "\n",
    "    m = montager.montage_several(bboxes)\n",
    "\n",
    "\n",
    "    layer = 0\n",
    "    out = layout_cells(m, layer, ncol=ncol)\n",
    "    out_legend = montager.add_color_legend(out, layer)\n",
    "\n",
    "    print(f'{out_legend.shape} --> {outf}')\n",
    "    cv2.imwrite(outf, out_legend[:,:,::-1])\n",
    "    "
   ]
  },
  {
   "cell_type": "code",
   "execution_count": null,
   "id": "double-pepper",
   "metadata": {},
   "outputs": [],
   "source": []
  },
  {
   "cell_type": "code",
   "execution_count": null,
   "id": "bound-thermal",
   "metadata": {},
   "outputs": [],
   "source": []
  },
  {
   "cell_type": "code",
   "execution_count": null,
   "id": "civil-invasion",
   "metadata": {},
   "outputs": [],
   "source": []
  },
  {
   "cell_type": "code",
   "execution_count": null,
   "id": "married-testimony",
   "metadata": {},
   "outputs": [],
   "source": []
  }
 ],
 "metadata": {
  "kernelspec": {
   "display_name": "Python 3",
   "language": "python",
   "name": "python3"
  },
  "language_info": {
   "codemirror_mode": {
    "name": "ipython",
    "version": 3
   },
   "file_extension": ".py",
   "mimetype": "text/x-python",
   "name": "python",
   "nbconvert_exporter": "python",
   "pygments_lexer": "ipython3",
   "version": "3.8.5"
  }
 },
 "nbformat": 4,
 "nbformat_minor": 5
}
