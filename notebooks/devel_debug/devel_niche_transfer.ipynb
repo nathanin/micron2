{
 "cells": [
  {
   "cell_type": "code",
   "execution_count": null,
   "id": "previous-treasury",
   "metadata": {},
   "outputs": [],
   "source": [
    "%load_ext autoreload\n",
    "%autoreload 2\n",
    "%matplotlib inline\n",
    "\n",
    "from matplotlib import rcParams \n",
    "from matplotlib import pyplot as plt \n",
    "import seaborn as sns\n",
    "\n",
    "import scanpy as sc\n",
    "import pandas as pd\n",
    "import numpy as np\n",
    "import os\n",
    "\n",
    "import cuml\n",
    "from micron2.spatial import get_neighbors, categorical_neighbors, sliding_window_niches, k_neighbor_niches\n",
    "from micron2.clustering import cluster_leiden, run_tsne, plot_embedding, cluster_leiden_cu\n",
    "\n",
    "from sklearn.cluster import MiniBatchKMeans"
   ]
  },
  {
   "cell_type": "code",
   "execution_count": null,
   "id": "bigger-gauge",
   "metadata": {},
   "outputs": [],
   "source": [
    "!ls /storage/codex/datasets_v1"
   ]
  },
  {
   "cell_type": "code",
   "execution_count": null,
   "id": "foreign-market",
   "metadata": {},
   "outputs": [],
   "source": [
    "adata = sc.read_h5ad(\"/storage/codex/datasets_v1/bladder_merged_v5.h5ad\")\n",
    "all_clusters = np.array(adata.obs.celltype_gating)\n",
    "cluster_levels, all_clusters = np.unique(all_clusters, return_inverse=True)\n",
    "adata"
   ]
  },
  {
   "cell_type": "code",
   "execution_count": null,
   "id": "environmental-copper",
   "metadata": {},
   "outputs": [],
   "source": [
    "adata.obs.sample_id.value_counts()"
   ]
  },
  {
   "cell_type": "code",
   "execution_count": null,
   "id": "particular-senate",
   "metadata": {},
   "outputs": [],
   "source": [
    "rcParams['figure.facecolor'] = (1,1,1,1)\n",
    "\n",
    "n_niches = 10\n",
    "\n",
    "ref_sample = '210226_Bladder_TMA1_reg30_v4'\n",
    "ad = adata[adata.obs.sample_id==ref_sample].copy()\n",
    "coords = ad.obsm['coordinates']\n",
    "clusters = all_clusters[adata.obs.sample_id==ref_sample]\n",
    "\n",
    "neighbor_profiles = k_neighbor_niches(coords, clusters, k = 20, \n",
    "                                      u_clusters=np.arange(len(cluster_levels)), \n",
    "                                      aggregate='sum', max_dist=200, backend='sklearn')\n",
    "\n",
    "MBKM = MiniBatchKMeans(n_clusters=n_niches, batch_size=1000, n_init=10, random_state=999)\n",
    "niches = MBKM.fit_predict(neighbor_profiles)\n",
    "\n",
    "rcParams['figure.figsize'] = (4,4)\n",
    "rcParams['figure.dpi'] = 180\n",
    "ad.obs['niches'] = pd.Categorical(niches)\n",
    "sc.pl.embedding(ad, basis='coordinates', color='niches', s=4)"
   ]
  },
  {
   "cell_type": "code",
   "execution_count": null,
   "id": "following-thumb",
   "metadata": {},
   "outputs": [],
   "source": [
    "q_sample = '210226_Bladder_TMA1_reg28_v4'\n",
    "ad = adata[adata.obs.sample_id==q_sample].copy()\n",
    "coords = ad.obsm['coordinates']\n",
    "clusters = all_clusters[adata.obs.sample_id==q_sample]\n",
    "\n",
    "q_neighbor_profiles = k_neighbor_niches(coords, clusters, k = 20, \n",
    "                                        u_clusters=np.arange(len(cluster_levels)), \n",
    "                                        aggregate='sum', max_dist=200, backend='sklearn')"
   ]
  },
  {
   "cell_type": "code",
   "execution_count": null,
   "id": "divine-hungarian",
   "metadata": {},
   "outputs": [],
   "source": [
    "rcParams['figure.figsize'] = (4,2)\n",
    "rcParams['figure.dpi'] = 90\n",
    "\n",
    "vmax = 0\n",
    "for i in range(n_niches):\n",
    "    p = neighbor_profiles[niches==i,:].mean(axis=0, keepdims=True)\n",
    "    score = np.matmul(p,q_neighbor_profiles.T).T\n",
    "    ad.obs[f'niche_{i}_score'] = score.copy()\n",
    "    if np.max(score)>vmax:\n",
    "        vmax=np.max(score)\n",
    "\n",
    "rcParams['figure.figsize'] = (2,2)\n",
    "sc.pl.embedding(ad, basis='coordinates', color=[f'niche_{i}_score' for i in range(n_niches)],\n",
    "                vmax=vmax)"
   ]
  },
  {
   "cell_type": "code",
   "execution_count": null,
   "id": "economic-adelaide",
   "metadata": {},
   "outputs": [],
   "source": []
  }
 ],
 "metadata": {
  "kernelspec": {
   "display_name": "Python 3",
   "language": "python",
   "name": "python3"
  },
  "language_info": {
   "codemirror_mode": {
    "name": "ipython",
    "version": 3
   },
   "file_extension": ".py",
   "mimetype": "text/x-python",
   "name": "python",
   "nbconvert_exporter": "python",
   "pygments_lexer": "ipython3",
   "version": "3.8.5"
  }
 },
 "nbformat": 4,
 "nbformat_minor": 5
}
