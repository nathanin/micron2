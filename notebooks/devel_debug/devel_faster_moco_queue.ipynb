{
 "cells": [
  {
   "cell_type": "code",
   "execution_count": null,
   "id": "racial-penalty",
   "metadata": {},
   "outputs": [],
   "source": [
    "import numpy as np\n",
    "import tensorflow as tf\n",
    "  \n",
    "physical_devices = tf.config.list_physical_devices('GPU')\n",
    "tf.config.experimental.set_memory_growth(physical_devices[0], True)"
   ]
  },
  {
   "cell_type": "code",
   "execution_count": null,
   "id": "coastal-saying",
   "metadata": {},
   "outputs": [],
   "source": [
    "class MoCoQueueOld:\n",
    "    def __init__(self, max_queue_len=128):\n",
    "        self.Q = []\n",
    "        self.max_queue_len = max_queue_len\n",
    "#         self.zsize = zsize\n",
    "#         self.Q = tf.zeros((max_queue_len, zsize), dtype=tf.float32)\n",
    "\n",
    "    def __len__(self):\n",
    "        return self.Q.shape[0]\n",
    "\n",
    "    def enqueue(self, z):\n",
    "        self.Q.append(z)\n",
    "        if len(self) > self.max_queue_len:\n",
    "            self.dequeue()\n",
    "\n",
    "    def dequeue(self):\n",
    "        \"\"\" Remove the oldest item in queue \"\"\"\n",
    "        _ = self.Q.pop(0)\n",
    "\n",
    "    def getqueue(self):\n",
    "        return tf.concat(self.Q, axis=0)"
   ]
  },
  {
   "cell_type": "code",
   "execution_count": null,
   "id": "premium-beverage",
   "metadata": {},
   "outputs": [],
   "source": [
    "class MoCoQueueNew:\n",
    "    def __init__(self, max_queue_len=4096, zsize=128):\n",
    "        self.Q = []\n",
    "        self.max_queue_len = max_queue_len\n",
    "        self.zsize = zsize\n",
    "        self.Q = tf.zeros((max_queue_len, zsize), dtype=tf.float32)\n",
    "\n",
    "    def __len__(self):\n",
    "        return self.Q.shape[0]\n",
    "\n",
    "    def enqueue(self, z):\n",
    "        #self.Q.append(z)\n",
    "        n = z.shape[0]\n",
    "        i = tf.range(self.max_queue_len) < n\n",
    "        self.Q = self.Q[~i]\n",
    "        self.Q = tf.concat([self.Q, z], axis=0)\n",
    "\n",
    "#     def getqueue(self):\n",
    "#         return tf.concat(self.Q, axis=0)"
   ]
  },
  {
   "cell_type": "code",
   "execution_count": null,
   "id": "infectious-atlanta",
   "metadata": {},
   "outputs": [],
   "source": [
    "zsize = 8\n",
    "batchsize = 16\n",
    "\n",
    "queue = MoCoQueueNew(max_queue_len=64, zsize=zsize)\n",
    "print(queue.Q)\n",
    "\n",
    "for i in range(8):\n",
    "    z = tf.random.normal(shape=(batchsize, zsize))\n",
    "    queue.enqueue(z)\n",
    "    \n",
    "print(queue.Q)"
   ]
  },
  {
   "cell_type": "code",
   "execution_count": null,
   "id": "administrative-corrections",
   "metadata": {},
   "outputs": [],
   "source": [
    "x = tf.zeros((16,4))\n",
    "n = 4\n",
    "i = tf.range(16) < n\n",
    "p = x[i]\n",
    "x = x[~i]\n",
    "x = tf.concat([x,tf.random.normal((n, 4))], axis=0)\n",
    "x"
   ]
  },
  {
   "cell_type": "code",
   "execution_count": null,
   "id": "accurate-family",
   "metadata": {},
   "outputs": [],
   "source": []
  },
  {
   "cell_type": "code",
   "execution_count": null,
   "id": "significant-secret",
   "metadata": {},
   "outputs": [],
   "source": []
  },
  {
   "cell_type": "code",
   "execution_count": null,
   "id": "initial-dublin",
   "metadata": {},
   "outputs": [],
   "source": []
  },
  {
   "cell_type": "code",
   "execution_count": null,
   "id": "written-circus",
   "metadata": {},
   "outputs": [],
   "source": []
  },
  {
   "cell_type": "code",
   "execution_count": null,
   "id": "valid-sherman",
   "metadata": {},
   "outputs": [],
   "source": []
  },
  {
   "cell_type": "code",
   "execution_count": null,
   "id": "abstract-latex",
   "metadata": {},
   "outputs": [],
   "source": []
  },
  {
   "cell_type": "code",
   "execution_count": null,
   "id": "written-entry",
   "metadata": {},
   "outputs": [],
   "source": []
  },
  {
   "cell_type": "code",
   "execution_count": null,
   "id": "sophisticated-clothing",
   "metadata": {},
   "outputs": [],
   "source": []
  },
  {
   "cell_type": "code",
   "execution_count": null,
   "id": "hollywood-stadium",
   "metadata": {},
   "outputs": [],
   "source": []
  },
  {
   "cell_type": "code",
   "execution_count": null,
   "id": "classified-hunger",
   "metadata": {},
   "outputs": [],
   "source": []
  },
  {
   "cell_type": "code",
   "execution_count": null,
   "id": "stopped-merit",
   "metadata": {},
   "outputs": [],
   "source": []
  },
  {
   "cell_type": "code",
   "execution_count": null,
   "id": "lesbian-transaction",
   "metadata": {},
   "outputs": [],
   "source": []
  },
  {
   "cell_type": "code",
   "execution_count": null,
   "id": "unusual-optics",
   "metadata": {},
   "outputs": [],
   "source": []
  },
  {
   "cell_type": "code",
   "execution_count": null,
   "id": "differential-jacket",
   "metadata": {},
   "outputs": [],
   "source": []
  }
 ],
 "metadata": {
  "kernelspec": {
   "display_name": "Python 3",
   "language": "python",
   "name": "python3"
  },
  "language_info": {
   "codemirror_mode": {
    "name": "ipython",
    "version": 3
   },
   "file_extension": ".py",
   "mimetype": "text/x-python",
   "name": "python",
   "nbconvert_exporter": "python",
   "pygments_lexer": "ipython3",
   "version": "3.8.5"
  }
 },
 "nbformat": 4,
 "nbformat_minor": 5
}
