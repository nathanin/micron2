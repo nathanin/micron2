{
 "cells": [
  {
   "cell_type": "code",
   "execution_count": null,
   "id": "automotive-tamil",
   "metadata": {},
   "outputs": [],
   "source": [
    "%load_ext autoreload\n",
    "%autoreload 2\n",
    "%matplotlib inline\n",
    "\n",
    "import tensorflow as tf\n",
    "physical_devices = tf.config.list_physical_devices('GPU')\n",
    "tf.config.experimental.set_memory_growth(physical_devices[0], True)\n",
    "\n",
    "import numpy as np\n",
    "import h5py\n",
    "\n",
    "from micron2.data import stream_dataset\n",
    "from matplotlib import pyplot as plt\n",
    "\n",
    "input_size = 128\n",
    "crop_size = 96\n",
    "pth = '/home/ingn/tmp/micron2-data/pembroRT-set1-set2/merged_v2.hdf5'\n",
    "# pth = '/storage/codex/preprocessed_data/210113_Breast_Cassette11_reg1/210113_Breast_Cassette11_reg1.hdf5'\n",
    "with h5py.File(pth, 'r') as f:\n",
    "    all_channels = [b.decode('UTF-8') for b in f['meta/channel_names'][:]]\n",
    "    print(all_channels)\n",
    "    \n",
    "    # just use all the channels\n",
    "    use_channels = all_channels"
   ]
  },
  {
   "cell_type": "code",
   "execution_count": null,
   "id": "musical-stack",
   "metadata": {},
   "outputs": [],
   "source": []
  },
  {
   "cell_type": "code",
   "execution_count": null,
   "id": "southwest-mirror",
   "metadata": {},
   "outputs": [],
   "source": [
    "def process(x):\n",
    "    \"\"\"\n",
    "    x is [N, h, w, c]\n",
    "    \"\"\"\n",
    "#     x = tf.cast(x, tf.float32)\n",
    "#     x = (x - means) / stds\n",
    "    \n",
    "    x = tf.cast(x, tf.float32)#/255.\n",
    "    x = tf.math.log1p(x)\n",
    "    #x = tf.transpose(tf.image.per_image_standardization(tf.transpose(x)))\n",
    "    return x\n",
    "\n",
    "dataset = stream_dataset(pth, \n",
    "                         use_channels=use_channels,\n",
    "                         group_name='images'\n",
    "                        )\n",
    "dataset = (dataset.map(process, num_parallel_calls=2)\n",
    "           .batch(32)\n",
    "           .prefetch(8)\n",
    "          )"
   ]
  },
  {
   "cell_type": "code",
   "execution_count": null,
   "id": "quantitative-bibliography",
   "metadata": {},
   "outputs": [],
   "source": [
    "def gen_data():\n",
    "    for batch in dataset:\n",
    "        batch = batch.numpy()\n",
    "        yield batch\n",
    "        \n",
    "gen = gen_data()\n",
    "batch = next(gen)\n",
    "print(batch.shape)"
   ]
  },
  {
   "cell_type": "code",
   "execution_count": null,
   "id": "military-novelty",
   "metadata": {},
   "outputs": [],
   "source": [
    "for i, ch in enumerate(use_channels):\n",
    "    print(i, ch)"
   ]
  },
  {
   "cell_type": "code",
   "execution_count": null,
   "id": "identified-consequence",
   "metadata": {},
   "outputs": [],
   "source": [
    "ch = 22 \n",
    "m = 1.75\n",
    "r = 4\n",
    "c = 8\n",
    "fig, axs = plt.subplots(r,c, figsize=(c*m,r*m))\n",
    "\n",
    "batch = next(gen)\n",
    "print(np.max(batch), np.min(batch))\n",
    "ch_max = np.max(batch[:,:,:,ch].ravel())\n",
    "    \n",
    "for i, ax in enumerate(axs.ravel()):\n",
    "    img = batch[i,:,:,ch]\n",
    "    ax.matshow(img, vmax=ch_max, vmin=0)\n",
    "    ax.set_xticks([])\n",
    "    ax.set_yticks([])"
   ]
  },
  {
   "cell_type": "code",
   "execution_count": null,
   "id": "informational-wichita",
   "metadata": {},
   "outputs": [],
   "source": []
  },
  {
   "cell_type": "code",
   "execution_count": null,
   "id": "front-business",
   "metadata": {},
   "outputs": [],
   "source": []
  },
  {
   "cell_type": "code",
   "execution_count": null,
   "id": "french-michael",
   "metadata": {},
   "outputs": [],
   "source": []
  },
  {
   "cell_type": "code",
   "execution_count": null,
   "id": "veterinary-ambassador",
   "metadata": {},
   "outputs": [],
   "source": []
  },
  {
   "cell_type": "code",
   "execution_count": null,
   "id": "silent-mathematics",
   "metadata": {},
   "outputs": [],
   "source": []
  }
 ],
 "metadata": {
  "kernelspec": {
   "display_name": "Python 3",
   "language": "python",
   "name": "python3"
  },
  "language_info": {
   "codemirror_mode": {
    "name": "ipython",
    "version": 3
   },
   "file_extension": ".py",
   "mimetype": "text/x-python",
   "name": "python",
   "nbconvert_exporter": "python",
   "pygments_lexer": "ipython3",
   "version": "3.8.5"
  }
 },
 "nbformat": 4,
 "nbformat_minor": 5
}
