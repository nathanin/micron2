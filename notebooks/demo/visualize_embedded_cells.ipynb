{
 "cells": [
  {
   "cell_type": "code",
   "execution_count": null,
   "id": "internal-place",
   "metadata": {},
   "outputs": [],
   "source": [
    "import sys\n",
    "sys.executable"
   ]
  },
  {
   "cell_type": "code",
   "execution_count": null,
   "id": "powerful-input",
   "metadata": {},
   "outputs": [],
   "source": [
    "%load_ext autoreload\n",
    "%autoreload 2\n",
    "%matplotlib inline\n",
    "\n",
    "from micron2 import cluster_leiden_cu\n",
    "from cuml import UMAP\n",
    "import pandas as pd\n",
    "import numpy as np\n",
    "import h5py\n",
    "import glob\n",
    "import os\n",
    "\n",
    "from matplotlib import pyplot as plt\n"
   ]
  },
  {
   "cell_type": "code",
   "execution_count": null,
   "id": "marine-vitamin",
   "metadata": {},
   "outputs": [],
   "source": [
    "z = np.load('/home/ingn/tmp/micron2-data/bladder/moco-cells-v2/embedding.npy')\n",
    "print(z.shape)\n",
    "\n",
    "with h5py.File('/home/ingn/tmp/micron2-data/bladder/bladder_merged_v4.hdf5', 'r') as f:\n",
    "    coords = f['meta/cell_coordinates_shift'][:]\n",
    "print(coords.shape)"
   ]
  },
  {
   "cell_type": "code",
   "execution_count": null,
   "id": "cardiac-share",
   "metadata": {},
   "outputs": [],
   "source": [
    "emb = UMAP(n_neighbors=30).fit_transform(z)\n",
    "print(emb.shape)"
   ]
  },
  {
   "cell_type": "code",
   "execution_count": null,
   "id": "monthly-authorization",
   "metadata": {},
   "outputs": [],
   "source": [
    "clusters = cluster_leiden_cu(z, nn_metric='correlation', resolution=0.8)\n",
    "print(len(np.unique(clusters)))"
   ]
  },
  {
   "cell_type": "code",
   "execution_count": null,
   "id": "golden-construction",
   "metadata": {},
   "outputs": [],
   "source": [
    "r = max(coords[:,0]) / max(np.abs(coords[:,1]))\n",
    "print(r)\n",
    "plt.figure(figsize=(7*r, 7), dpi=600)\n",
    "for c in np.unique(clusters):\n",
    "    i = clusters == c\n",
    "    plt.scatter(coords[i,0], coords[i,1],s=0.2)\n",
    "    \n",
    "# plt.savefig('/storage/tmp-outgoing/moco_10epoch.png', bbox_inches='tight')\n",
    "    "
   ]
  },
  {
   "cell_type": "code",
   "execution_count": null,
   "id": "right-butter",
   "metadata": {},
   "outputs": [],
   "source": []
  }
 ],
 "metadata": {
  "kernelspec": {
   "display_name": "Python 3",
   "language": "python",
   "name": "python3"
  },
  "language_info": {
   "codemirror_mode": {
    "name": "ipython",
    "version": 3
   },
   "file_extension": ".py",
   "mimetype": "text/x-python",
   "name": "python",
   "nbconvert_exporter": "python",
   "pygments_lexer": "ipython3",
   "version": "3.8.5"
  }
 },
 "nbformat": 4,
 "nbformat_minor": 5
}
