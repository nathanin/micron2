{
 "cells": [
  {
   "cell_type": "code",
   "execution_count": 1,
   "metadata": {},
   "outputs": [],
   "source": [
    "%load_ext autoreload\n",
    "%autoreload 2\n",
    "import os\n",
    "import numpy as np\n",
    "import pandas as pd\n",
    "\n",
    "import tensorflow as tf\n",
    "from micron2.clustering import Autoencoder, train_AE_simCLR\n",
    "from micron2.data import stream_dataset\n",
    "\n",
    "import tqdm.auto as tqdm"
   ]
  },
  {
   "cell_type": "code",
   "execution_count": 2,
   "metadata": {},
   "outputs": [
    {
     "name": "stdout",
     "output_type": "stream",
     "text": [
      "[b'DAPI' b'OX40L' b'CD45' b'CD20' b'CD134' b'CD68' b'CD31' b'CD103'\n",
      " b'HLA-DR' b'CXCR5' b'IgG' b'CD3e' b'Ki-67' b'LAG3' b'CXCL13' b'IgA'\n",
      " b'CD89' b'PNaD' b'PD-L1' b'PD-1' b'CD11c' b'CD80' b'CD69' b'TIM3'\n",
      " b'CD45RO' b'CD40LG' b'FOXP3' b'CD64' b'GZMB' b'C1q' b'CD40' b'CD45RA'\n",
      " b'CD138' b'IL7R' b'IgM' b'PDGFRb' b'aSMA' b'CD8' b'CD4' b'PanCytoK']\n",
      "<KeysViewHDF5 ['cells', 'intensity', 'meta']>\n",
      "<KeysViewHDF5 ['C1q', 'CD103', 'CD11c', 'CD134', 'CD138', 'CD20', 'CD31', 'CD3e', 'CD4', 'CD40', 'CD40LG', 'CD45', 'CD45RA', 'CD45RO', 'CD64', 'CD68', 'CD69', 'CD8', 'CD80', 'CD89', 'CXCL13', 'CXCR5', 'DAPI', 'FOXP3', 'GZMB', 'HLA-DR', 'IL7R', 'IgA', 'IgG', 'IgM', 'Ki-67', 'LAG3', 'OX40L', 'PD-1', 'PD-L1', 'PDGFRb', 'PNaD', 'PanCytoK', 'TIM3', 'aSMA']>\n"
     ]
    }
   ],
   "source": [
    "import h5py\n",
    "f = h5py.File('/dev/shm/dataset.hdf5', 'r')\n",
    "print(f['meta/channel_names'][:])\n",
    "use_channels = [b.decode('UTF-8') for b in f['meta/channel_names'][:]]\n",
    "# fn = lambda x,y: print(x)\n",
    "print(f.keys())\n",
    "print(f['cells'].keys())\n",
    "f.close()"
   ]
  },
  {
   "cell_type": "code",
   "execution_count": 3,
   "metadata": {},
   "outputs": [
    {
     "name": "stdout",
     "output_type": "stream",
     "text": [
      "['DAPI', 'OX40L', 'CD45', 'CD20', 'CD134', 'CD68', 'CD31', 'CD103', 'HLA-DR', 'CXCR5', 'IgG', 'CD3e', 'Ki-67', 'LAG3', 'CXCL13', 'IgA', 'CD89', 'PNaD', 'PD-L1', 'PD-1', 'CD11c', 'CD80', 'CD69', 'TIM3', 'CD45RO', 'CD40LG', 'FOXP3', 'CD64', 'GZMB', 'C1q', 'CD40', 'CD45RA', 'CD138', 'IL7R', 'IgM', 'PDGFRb', 'aSMA', 'CD8', 'CD4', 'PanCytoK']\n",
      "(16, 64, 64, 40)\n",
      "DAPI 246318.34\n",
      "OX40L -12546.296\n",
      "CD45 15788.588\n",
      "CD20 -9739.586\n",
      "CD134 -12546.296\n",
      "CD68 4686.189\n",
      "CD31 -12151.827\n",
      "CD103 -12125.381\n",
      "HLA-DR -4442.619\n",
      "CXCR5 -12546.296\n",
      "IgG 70071.24\n",
      "CD3e -0.52319336\n",
      "Ki-67 -11774.518\n",
      "LAG3 -12546.296\n",
      "CXCL13 -12221.773\n",
      "IgA -11013.234\n",
      "CD89 -12535.062\n",
      "PNaD -2339.2812\n",
      "PD-L1 -12546.296\n",
      "PD-1 -12281.517\n",
      "CD11c -10213.885\n",
      "CD80 -11282.96\n",
      "CD69 -12546.296\n",
      "TIM3 -7454.4414\n",
      "CD45RO -12546.296\n",
      "CD40LG 6915.6943\n",
      "FOXP3 -12309.929\n",
      "CD64 -12546.296\n",
      "GZMB -12546.296\n",
      "C1q -3467.4065\n",
      "CD40 -12546.296\n",
      "CD45RA -12043.735\n",
      "CD138 -12546.296\n",
      "IL7R -12546.296\n",
      "IgM -12546.296\n",
      "PDGFRb -12546.296\n",
      "aSMA -10912.636\n",
      "CD8 -5188.88\n",
      "CD4 6128.398\n",
      "PanCytoK -761.3435\n"
     ]
    }
   ],
   "source": [
    "print(use_channels)\n",
    "def process(x):\n",
    "    x = tf.cast(x, tf.float32)/255.\n",
    "    # x = tf.log1p(x)\n",
    "    # mn = tf.math.reduce_mean(x, axis=[0,1,2])\n",
    "    # sd = tf.math.reduce_std(x, axis=[0,1,2])\n",
    "    x = tf.transpose(tf.image.per_image_standardization(tf.transpose(x)))\n",
    "    return x\n",
    "    \n",
    "dataset = stream_dataset('/dev/shm/dataset.hdf5', use_channels=use_channels)\n",
    "dataset = (dataset.repeat(15)\n",
    "           .shuffle(1024 * 6)\n",
    "           .map(process)\n",
    "           .batch(16)\n",
    "           .prefetch(8)\n",
    "           #.apply(tf.data.experimental.prefetch_to_device(\"/gpu:0\"))\n",
    "          )\n",
    "\n",
    "for sample_x in dataset:\n",
    "    break\n",
    "    \n",
    "print(sample_x.shape)\n",
    "for k in range(sample_x.shape[-1]):\n",
    "    print(use_channels[k], sample_x.numpy()[...,k].sum())"
   ]
  },
  {
   "cell_type": "code",
   "execution_count": 4,
   "metadata": {},
   "outputs": [
    {
     "name": "stderr",
     "output_type": "stream",
     "text": [
      "/home/ing/miniconda3/envs/micron2/lib/python3.8/site-packages/tensorflow/python/keras/applications/imagenet_utils.py:331: UserWarning: This model usually expects 1 or 3 input channels. However, it was passed an input_shape with 40 input channels.\n",
      "  warnings.warn('This model usually expects 1 or 3 input channels. '\n"
     ]
    },
    {
     "name": "stdout",
     "output_type": "stream",
     "text": [
      "(16, 48, 48, 40)\n",
      "(16, 32)\n",
      "(16, 256)\n"
     ]
    }
   ],
   "source": [
    "sample_x = tf.image.random_crop(sample_x, size=(sample_x.shape[0], 48, 48, sample_x.shape[-1]))\n",
    "ae_model = Autoencoder(input_shape=sample_x.shape[1:])\n",
    "y, z_g = ae_model(sample_x, return_g=True)\n",
    "print(y.shape)\n",
    "print(z_g.shape)\n",
    "z = ae_model.encode(sample_x)\n",
    "print(z.shape)"
   ]
  },
  {
   "cell_type": "code",
   "execution_count": 5,
   "metadata": {},
   "outputs": [
    {
     "name": "stdout",
     "output_type": "stream",
     "text": [
      "Model: \"autoencoder\"\n",
      "_________________________________________________________________\n",
      "Layer (type)                 Output Shape              Param #   \n",
      "=================================================================\n",
      "resnet50v2 (Functional)      (None, 2, 2, 2048)        23680832  \n",
      "_________________________________________________________________\n",
      "conv2d (Conv2D)              multiple                  2097408   \n",
      "_________________________________________________________________\n",
      "g_simclr (Dense)             multiple                  8224      \n",
      "_________________________________________________________________\n",
      "conv2d_transpose (Conv2DTran multiple                  2097408   \n",
      "_________________________________________________________________\n",
      "conv2d_transpose_1 (Conv2DTr multiple                  295040    \n",
      "_________________________________________________________________\n",
      "conv2d_transpose_2 (Conv2DTr multiple                  204864    \n",
      "_________________________________________________________________\n",
      "conv2d_transpose_3 (Conv2DTr multiple                  102464    \n",
      "_________________________________________________________________\n",
      "conv2d_transpose_4 (Conv2DTr multiple                  36928     \n",
      "_________________________________________________________________\n",
      "conv2d_transpose_5 (Conv2DTr multiple                  64040     \n",
      "_________________________________________________________________\n",
      "conv2d_transpose_6 (Conv2DTr multiple                  14440     \n",
      "_________________________________________________________________\n",
      "conv2d_transpose_7 (Conv2DTr multiple                  262400    \n",
      "_________________________________________________________________\n",
      "conv2d_transpose_8 (Conv2DTr multiple                  295040    \n",
      "_________________________________________________________________\n",
      "conv2d_transpose_9 (Conv2DTr multiple                  204864    \n",
      "_________________________________________________________________\n",
      "conv2d_transpose_10 (Conv2DT multiple                  102464    \n",
      "_________________________________________________________________\n",
      "conv2d_transpose_11 (Conv2DT multiple                  36928     \n",
      "_________________________________________________________________\n",
      "conv2d_transpose_12 (Conv2DT multiple                  64040     \n",
      "_________________________________________________________________\n",
      "conv2d_transpose_13 (Conv2DT multiple                  14440     \n",
      "=================================================================\n",
      "Total params: 29,581,824\n",
      "Trainable params: 29,536,384\n",
      "Non-trainable params: 45,440\n",
      "_________________________________________________________________\n"
     ]
    }
   ],
   "source": [
    "ae_model.summary()"
   ]
  },
  {
   "cell_type": "code",
   "execution_count": 7,
   "metadata": {},
   "outputs": [],
   "source": [
    "outdir = 'trained_simclr'\n",
    "ae_model.load_weights('trained_simclr/weights.h5')"
   ]
  },
  {
   "cell_type": "code",
   "execution_count": 8,
   "metadata": {
    "scrolled": true
   },
   "outputs": [
    {
     "data": {
      "application/vnd.jupyter.widget-view+json": {
       "model_id": "c2501cc5562a453c9d686098e1556de8",
       "version_major": 2,
       "version_minor": 0
      },
      "text/plain": [
       "HBox(children=(HTML(value=''), FloatProgress(value=1.0, bar_style='info', layout=Layout(width='20px'), max=1.0…"
      ]
     },
     "metadata": {},
     "output_type": "display_data"
    },
    {
     "name": "stdout",
     "output_type": "stream",
     "text": [
      "\n"
     ]
    }
   ],
   "source": [
    "train_AE_simCLR(dataset, ae_model)"
   ]
  },
  {
   "cell_type": "code",
   "execution_count": 9,
   "metadata": {},
   "outputs": [],
   "source": [
    "ae_model.save_weights(f'{outdir}/weights.h5')"
   ]
  },
  {
   "cell_type": "code",
   "execution_count": 12,
   "metadata": {},
   "outputs": [
    {
     "name": "stdout",
     "output_type": "stream",
     "text": [
      "total 275M\r\n",
      "drwxrwxr-x 2 ing ing 4.0K Nov 16 22:32 .\r\n",
      "drwxrwxr-x 4 ing ing 4.0K Nov 17 09:08 ..\r\n",
      "-rw-rw-r-- 1 ing ing 114M Nov 17 05:22 weights.h5\r\n",
      "-rw-rw-r-- 1 ing ing 144M Nov 16 22:32 z_L2.npy\r\n",
      "-rw-rw-r-- 1 ing ing  18M Nov 16 22:32 z.npy\r\n"
     ]
    }
   ],
   "source": [
    "!ls -lha trained_simclr"
   ]
  },
  {
   "cell_type": "code",
   "execution_count": 20,
   "metadata": {},
   "outputs": [
    {
     "name": "stdout",
     "output_type": "stream",
     "text": [
      "channel 0\tDAPI      \tpred 149056.11\treal 142616.11\n",
      "channel 1\tOX40L     \tpred 0.00\treal -7057.29\n",
      "channel 2\tCD45      \tpred 13954.71\treal 8886.11\n",
      "channel 3\tCD20      \tpred 0.00\treal -5591.14\n",
      "channel 4\tCD134     \tpred 0.00\treal -7057.29\n",
      "channel 5\tCD68      \tpred 8858.28\treal 4531.63\n",
      "channel 6\tCD31      \tpred 0.00\treal -6802.00\n",
      "channel 7\tCD103     \tpred 0.00\treal -7008.12\n",
      "channel 8\tHLA-DR    \tpred 3722.63\treal -2091.21\n",
      "channel 9\tCXCR5     \tpred 0.00\treal -7057.29\n",
      "channel 10\tIgG       \tpred 37806.95\treal 33544.11\n",
      "channel 11\tCD3e      \tpred 6504.98\treal 261.79\n",
      "channel 12\tKi-67     \tpred 0.00\treal -6377.67\n",
      "channel 13\tLAG3      \tpred 0.02\treal -7057.29\n",
      "channel 14\tCXCL13    \tpred 0.00\treal -6967.08\n",
      "channel 15\tIgA       \tpred 0.00\treal -6528.39\n",
      "channel 16\tCD89      \tpred 0.00\treal -7054.47\n",
      "channel 17\tPNaD      \tpred 0.00\treal -368.33\n",
      "channel 18\tPD-L1     \tpred 0.00\treal -7057.29\n",
      "channel 19\tPD-1      \tpred 0.00\treal -7038.42\n",
      "channel 20\tCD11c     \tpred 0.00\treal -5470.92\n",
      "channel 21\tCD80      \tpred 0.00\treal -6444.12\n",
      "channel 22\tCD69      \tpred 0.00\treal -7057.29\n",
      "channel 23\tTIM3      \tpred 0.16\treal -5145.62\n",
      "channel 24\tCD45RO    \tpred 0.00\treal -7057.29\n",
      "channel 25\tCD40LG    \tpred 8526.84\treal 4050.60\n",
      "channel 26\tFOXP3     \tpred 0.00\treal -6989.63\n",
      "channel 27\tCD64      \tpred 0.00\treal -7057.29\n",
      "channel 28\tGZMB      \tpred 0.00\treal -7057.29\n",
      "channel 29\tC1q       \tpred 2155.63\treal -1882.39\n",
      "channel 30\tCD40      \tpred 0.00\treal -7057.29\n",
      "channel 31\tCD45RA    \tpred 0.00\treal -6782.09\n",
      "channel 32\tCD138     \tpred 0.00\treal -7057.29\n",
      "channel 33\tIL7R      \tpred 0.00\treal -7057.29\n",
      "channel 34\tIgM       \tpred 0.00\treal -7057.29\n",
      "channel 35\tPDGFRb    \tpred 0.00\treal -7057.29\n",
      "channel 36\taSMA      \tpred 0.00\treal -6039.26\n",
      "channel 37\tCD8       \tpred 2563.33\treal -4013.05\n",
      "channel 38\tCD4       \tpred 7073.20\treal 3556.59\n",
      "channel 39\tPanCytoK  \tpred 0.00\treal -1578.71\n",
      "13 10\n",
      "10 2693.1748 2923.646\n"
     ]
    },
    {
     "data": {
      "text/plain": [
       "<matplotlib.colorbar.Colorbar at 0x7f145c1324f0>"
      ]
     },
     "execution_count": 20,
     "metadata": {},
     "output_type": "execute_result"
    },
    {
     "data": {
      "text/plain": [
       "<Figure size 432x288 with 0 Axes>"
      ]
     },
     "metadata": {},
     "output_type": "display_data"
    },
    {
     "data": {
      "image/png": "[encoded data removed]",
      "text/plain": [
       "<Figure size 288x288 with 2 Axes>"
      ]
     },
     "metadata": {
      "needs_background": "light"
     },
     "output_type": "display_data"
    },
    {
     "data": {
      "text/plain": [
       "<Figure size 432x288 with 0 Axes>"
      ]
     },
     "metadata": {},
     "output_type": "display_data"
    },
    {
     "data": {
      "image/png": "[encoded data removed]",
      "text/plain": [
       "<Figure size 288x288 with 2 Axes>"
      ]
     },
     "metadata": {
      "needs_background": "light"
     },
     "output_type": "display_data"
    }
   ],
   "source": [
    "from matplotlib import pyplot as plt\n",
    "sample_xout = ae_model(sample_x)\n",
    "for j in range(sample_x.shape[-1]):\n",
    "    print(f'channel {j}\\t' +\\\n",
    "          f'{use_channels[j]:<10}\\t'\n",
    "          f'pred {tf.reduce_sum(sample_xout[...,j]).numpy():<4.2f}\\t' +\\\n",
    "          f'real {tf.reduce_sum(sample_x[...,j]).numpy():<4.2f}')\n",
    "\n",
    "idx = np.random.choice(sample_xout.shape[0])\n",
    "jdx = np.random.choice(sample_xout.shape[-1])\n",
    "\n",
    "jdx = 10 \n",
    "\n",
    "print(idx, jdx)\n",
    "sx = sample_x.numpy()[idx, :,:, jdx]\n",
    "sxout = sample_xout.numpy()[idx, :,:, jdx] \n",
    "print(jdx, sx.sum(), sxout.sum())\n",
    "\n",
    "plt.figure()\n",
    "plt.matshow(sx)# / sx.max())\n",
    "plt.colorbar()\n",
    "\n",
    "plt.figure()\n",
    "plt.matshow(sxout)# / sxout.max())\n",
    "plt.colorbar()"
   ]
  },
  {
   "cell_type": "code",
   "execution_count": null,
   "metadata": {},
   "outputs": [],
   "source": []
  },
  {
   "cell_type": "code",
   "execution_count": null,
   "metadata": {},
   "outputs": [],
   "source": []
  }
 ],
 "metadata": {
  "kernelspec": {
   "display_name": "Python 3",
   "language": "python",
   "name": "python3"
  },
  "language_info": {
   "codemirror_mode": {
    "name": "ipython",
    "version": 3
   },
   "file_extension": ".py",
   "mimetype": "text/x-python",
   "name": "python",
   "nbconvert_exporter": "python",
   "pygments_lexer": "ipython3",
   "version": "3.8.5"
  }
 },
 "nbformat": 4,
 "nbformat_minor": 4
}
