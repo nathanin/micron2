{
 "cells": [
  {
   "cell_type": "code",
   "execution_count": 1,
   "metadata": {},
   "outputs": [],
   "source": [
    "%load_ext autoreload\n",
    "%autoreload 2\n",
    "import os\n",
    "import numpy as np\n",
    "import pandas as pd\n",
    "\n",
    "import tensorflow as tf\n",
    "from micron2.clustering import Autoencoder, train_AE_simCLR\n",
    "from micron2.data import stream_dataset\n",
    "\n",
    "import tqdm.auto as tqdm"
   ]
  },
  {
   "cell_type": "code",
   "execution_count": 2,
   "metadata": {},
   "outputs": [
    {
     "name": "stdout",
     "output_type": "stream",
     "text": [
      "[b'DAPI' b'OX40L' b'CD45' b'CD20' b'CD134' b'CD68' b'CD31' b'CD103'\n",
      " b'HLA-DR' b'CXCR5' b'IgG' b'CD3e' b'Ki-67' b'LAG3' b'CXCL13' b'IgA'\n",
      " b'CD89' b'PNaD' b'PD-L1' b'PD-1' b'CD11c' b'CD80' b'CD69' b'TIM3'\n",
      " b'CD45RO' b'CD40LG' b'FOXP3' b'CD64' b'GZMB' b'C1q' b'CD40' b'CD45RA'\n",
      " b'CD138' b'IL7R' b'IgM' b'PDGFRb' b'aSMA' b'CD8' b'CD4' b'PanCytoK']\n",
      "<KeysViewHDF5 ['cells', 'intensity', 'meta']>\n",
      "<KeysViewHDF5 ['C1q', 'CD103', 'CD11c', 'CD134', 'CD138', 'CD20', 'CD31', 'CD3e', 'CD4', 'CD40', 'CD40LG', 'CD45', 'CD45RA', 'CD45RO', 'CD64', 'CD68', 'CD69', 'CD8', 'CD80', 'CD89', 'CXCL13', 'CXCR5', 'DAPI', 'FOXP3', 'GZMB', 'HLA-DR', 'IL7R', 'IgA', 'IgG', 'IgM', 'Ki-67', 'LAG3', 'OX40L', 'PD-1', 'PD-L1', 'PDGFRb', 'PNaD', 'PanCytoK', 'TIM3', 'aSMA']>\n"
     ]
    }
   ],
   "source": [
    "import h5py\n",
    "f = h5py.File('/dev/shm/dataset.hdf5', 'r')\n",
    "print(f['meta/channel_names'][:])\n",
    "use_channels = [b.decode('UTF-8') for b in f['meta/channel_names'][:]]\n",
    "# fn = lambda x,y: print(x)\n",
    "print(f.keys())\n",
    "print(f['cells'].keys())\n",
    "f.close()"
   ]
  },
  {
   "cell_type": "code",
   "execution_count": 3,
   "metadata": {},
   "outputs": [
    {
     "name": "stdout",
     "output_type": "stream",
     "text": [
      "['DAPI', 'OX40L', 'CD45', 'CD20', 'CD134', 'CD68', 'CD31', 'CD103', 'HLA-DR', 'CXCR5', 'IgG', 'CD3e', 'Ki-67', 'LAG3', 'CXCL13', 'IgA', 'CD89', 'PNaD', 'PD-L1', 'PD-1', 'CD11c', 'CD80', 'CD69', 'TIM3', 'CD45RO', 'CD40LG', 'FOXP3', 'CD64', 'GZMB', 'C1q', 'CD40', 'CD45RA', 'CD138', 'IL7R', 'IgM', 'PDGFRb', 'aSMA', 'CD8', 'CD4', 'PanCytoK']\n",
      "(16, 64, 64, 40)\n",
      "DAPI 2072.451\n",
      "OX40L 0.0\n",
      "CD45 389.59607\n",
      "CD20 47.172554\n",
      "CD134 0.0\n",
      "CD68 83.96471\n",
      "CD31 1.4313726\n",
      "CD103 0.0\n",
      "HLA-DR 61.274513\n",
      "CXCR5 0.0\n",
      "IgG 155.77257\n",
      "CD3e 215.66667\n",
      "Ki-67 1.564706\n",
      "LAG3 0.0\n",
      "CXCL13 11.901961\n",
      "IgA 0.2627451\n",
      "CD89 0.054901965\n",
      "PNaD 52.282356\n",
      "PD-L1 0.0\n",
      "PD-1 5.933334\n",
      "CD11c 11.874511\n",
      "CD80 1.6039217\n",
      "CD69 0.003921569\n",
      "TIM3 6.960785\n",
      "CD45RO 0.0\n",
      "CD40LG 154.31766\n",
      "FOXP3 4.8431377\n",
      "CD64 0.0\n",
      "GZMB 0.04705883\n",
      "C1q 38.68628\n",
      "CD40 0.0\n",
      "CD45RA 1.9607847\n",
      "CD138 0.0\n",
      "IL7R 0.0\n",
      "IgM 0.0\n",
      "PDGFRb 0.47450984\n",
      "aSMA 0.21960786\n",
      "CD8 35.51765\n",
      "CD4 311.5451\n",
      "PanCytoK 44.168633\n"
     ]
    }
   ],
   "source": [
    "print(use_channels)\n",
    "def process(x):\n",
    "    x = tf.cast(x, tf.float32)/255.\n",
    "    return x\n",
    "    \n",
    "dataset = stream_dataset('/dev/shm/dataset.hdf5', use_channels=use_channels)\n",
    "dataset = (dataset.repeat(10)\n",
    "           .shuffle(1024 * 6)\n",
    "           .map(process)\n",
    "           .batch(16)\n",
    "           .prefetch(8)\n",
    "           #.apply(tf.data.experimental.prefetch_to_device(\"/gpu:0\"))\n",
    "          )\n",
    "\n",
    "for sample_x in dataset:\n",
    "    break\n",
    "    \n",
    "print(sample_x.shape)\n",
    "for k in range(sample_x.shape[-1]):\n",
    "    print(use_channels[k], sample_x.numpy()[...,k].sum())"
   ]
  },
  {
   "cell_type": "code",
   "execution_count": 4,
   "metadata": {},
   "outputs": [
    {
     "name": "stderr",
     "output_type": "stream",
     "text": [
      "/home/ing/miniconda3/envs/micron2/lib/python3.8/site-packages/tensorflow/python/keras/applications/imagenet_utils.py:331: UserWarning: This model usually expects 1 or 3 input channels. However, it was passed an input_shape with 40 input channels.\n",
      "  warnings.warn('This model usually expects 1 or 3 input channels. '\n"
     ]
    },
    {
     "name": "stdout",
     "output_type": "stream",
     "text": [
      "(16, 48, 48, 40)\n",
      "(16, 32)\n",
      "(16, 256)\n"
     ]
    }
   ],
   "source": [
    "sample_x = tf.image.random_crop(sample_x, size=(sample_x.shape[0], 48, 48, sample_x.shape[-1]))\n",
    "ae_model = Autoencoder(input_shape=sample_x.shape[1:])\n",
    "y, z_g = ae_model(sample_x, return_g=True)\n",
    "print(y.shape)\n",
    "print(z_g.shape)\n",
    "z = ae_model.encode(sample_x)\n",
    "print(z.shape)"
   ]
  },
  {
   "cell_type": "code",
   "execution_count": 5,
   "metadata": {},
   "outputs": [
    {
     "name": "stdout",
     "output_type": "stream",
     "text": [
      "Model: \"autoencoder\"\n",
      "_________________________________________________________________\n",
      "Layer (type)                 Output Shape              Param #   \n",
      "=================================================================\n",
      "resnet50v2 (Functional)      (None, 2, 2, 2048)        23680832  \n",
      "_________________________________________________________________\n",
      "conv2d (Conv2D)              multiple                  2097408   \n",
      "_________________________________________________________________\n",
      "g_simclr (Dense)             multiple                  8224      \n",
      "_________________________________________________________________\n",
      "conv2d_transpose (Conv2DTran multiple                  2097408   \n",
      "_________________________________________________________________\n",
      "conv2d_transpose_1 (Conv2DTr multiple                  295040    \n",
      "_________________________________________________________________\n",
      "conv2d_transpose_2 (Conv2DTr multiple                  204864    \n",
      "_________________________________________________________________\n",
      "conv2d_transpose_3 (Conv2DTr multiple                  102464    \n",
      "_________________________________________________________________\n",
      "conv2d_transpose_4 (Conv2DTr multiple                  36928     \n",
      "_________________________________________________________________\n",
      "conv2d_transpose_5 (Conv2DTr multiple                  64040     \n",
      "_________________________________________________________________\n",
      "conv2d_transpose_6 (Conv2DTr multiple                  14440     \n",
      "_________________________________________________________________\n",
      "conv2d_transpose_7 (Conv2DTr multiple                  262400    \n",
      "_________________________________________________________________\n",
      "conv2d_transpose_8 (Conv2DTr multiple                  295040    \n",
      "_________________________________________________________________\n",
      "conv2d_transpose_9 (Conv2DTr multiple                  204864    \n",
      "_________________________________________________________________\n",
      "conv2d_transpose_10 (Conv2DT multiple                  102464    \n",
      "_________________________________________________________________\n",
      "conv2d_transpose_11 (Conv2DT multiple                  36928     \n",
      "_________________________________________________________________\n",
      "conv2d_transpose_12 (Conv2DT multiple                  64040     \n",
      "_________________________________________________________________\n",
      "conv2d_transpose_13 (Conv2DT multiple                  14440     \n",
      "=================================================================\n",
      "Total params: 29,581,824\n",
      "Trainable params: 29,536,384\n",
      "Non-trainable params: 45,440\n",
      "_________________________________________________________________\n"
     ]
    }
   ],
   "source": [
    "ae_model.summary()"
   ]
  },
  {
   "cell_type": "code",
   "execution_count": null,
   "metadata": {},
   "outputs": [
    {
     "data": {
      "application/vnd.jupyter.widget-view+json": {
       "model_id": "9ba79783fc0f462683d81e02506d026c",
       "version_major": 2,
       "version_minor": 0
      },
      "text/plain": [
       "HBox(children=(HTML(value=''), FloatProgress(value=1.0, bar_style='info', layout=Layout(width='20px'), max=1.0…"
      ]
     },
     "metadata": {},
     "output_type": "display_data"
    }
   ],
   "source": [
    "train_AE_simCLR(dataset, ae_model)"
   ]
  },
  {
   "cell_type": "code",
   "execution_count": null,
   "metadata": {},
   "outputs": [],
   "source": [
    "def process(x):\n",
    "    # x = tf.image.random_crop(x, size=(x.shape[0], 48, 48, x.shape[-1]))\n",
    "    x = tf.cast(x, tf.float32)/255.\n",
    "    return x\n",
    "    \n",
    "# use_channels=['DAPI', 'CD45', 'PanCytoK']\n",
    "# use_channels=['DAPI', 'CD45', 'PanCytoK', 'CD31', 'PDGFRb', 'aSMA', 'Ki-67']\n",
    "dataset = stream_dataset('tests/dataset.hdf5', use_channels = use_channels)\n",
    "dataset = (dataset.map(process)\n",
    "           .batch(64)\n",
    "          )\n",
    "\n",
    "z = []\n",
    "for batch in tqdm.tqdm(dataset):\n",
    "    z.append(ae_model.encode_g(batch).numpy().copy())\n",
    "    \n",
    "z = np.concatenate(z, axis=0)\n",
    "print(z.shape)\n",
    "print((z.sum(0)==0).sum())"
   ]
  },
  {
   "cell_type": "code",
   "execution_count": 6,
   "metadata": {},
   "outputs": [
    {
     "name": "stdout",
     "output_type": "stream",
     "text": [
      "channel 0\tpred 0.05\treal 1096.72\n",
      "channel 1\tpred 0.07\treal 0.00\n",
      "channel 2\tpred 0.05\treal 239.03\n",
      "channel 3\tpred 0.02\treal 32.00\n",
      "channel 4\tpred 0.04\treal 0.00\n",
      "channel 5\tpred 0.01\treal 73.04\n",
      "channel 6\tpred 0.11\treal 0.20\n",
      "channel 7\tpred 0.02\treal 0.00\n",
      "channel 8\tpred 0.04\treal 37.47\n",
      "channel 9\tpred 0.06\treal 0.00\n",
      "channel 10\tpred 0.00\treal 177.25\n",
      "channel 11\tpred 0.03\treal 106.45\n",
      "channel 12\tpred 0.06\treal 0.55\n",
      "channel 13\tpred 0.04\treal 0.00\n",
      "channel 14\tpred 0.07\treal 0.39\n",
      "channel 15\tpred 0.02\treal 0.00\n",
      "channel 16\tpred 0.03\treal 0.00\n",
      "channel 17\tpred 0.05\treal 9.73\n",
      "channel 18\tpred 0.05\treal 0.00\n",
      "channel 19\tpred 0.10\treal 0.55\n",
      "channel 20\tpred 0.02\treal 12.18\n",
      "channel 21\tpred 0.07\treal 1.97\n",
      "channel 22\tpred 0.02\treal 0.00\n",
      "channel 23\tpred 0.02\treal 1.49\n",
      "channel 24\tpred 0.04\treal 0.00\n",
      "channel 25\tpred 0.02\treal 52.58\n",
      "channel 26\tpred 0.10\treal 1.65\n",
      "channel 27\tpred 0.06\treal 0.00\n",
      "channel 28\tpred 0.07\treal 0.04\n",
      "channel 29\tpred 0.11\treal 29.64\n",
      "channel 30\tpred 0.07\treal 0.00\n",
      "channel 31\tpred 0.04\treal 0.89\n",
      "channel 32\tpred 0.06\treal 0.00\n",
      "channel 33\tpred 0.02\treal 0.00\n",
      "channel 34\tpred 0.03\treal 0.00\n",
      "channel 35\tpred 0.03\treal 0.00\n",
      "channel 36\tpred 0.07\treal 0.01\n",
      "channel 37\tpred 0.01\treal 57.13\n",
      "channel 38\tpred 0.05\treal 155.45\n",
      "channel 39\tpred 0.03\treal 1.59\n",
      "2 0\n",
      "0 87.803925 0.0040892293\n"
     ]
    },
    {
     "data": {
      "text/plain": [
       "<matplotlib.image.AxesImage at 0x7f1ad18edac0>"
      ]
     },
     "execution_count": 6,
     "metadata": {},
     "output_type": "execute_result"
    },
    {
     "data": {
      "text/plain": [
       "<Figure size 432x288 with 0 Axes>"
      ]
     },
     "metadata": {},
     "output_type": "display_data"
    },
    {
     "data": {
      "image/png": "[encoded data removed]",
      "text/plain": [
       "<Figure size 288x288 with 1 Axes>"
      ]
     },
     "metadata": {
      "needs_background": "light"
     },
     "output_type": "display_data"
    },
    {
     "data": {
      "text/plain": [
       "<Figure size 432x288 with 0 Axes>"
      ]
     },
     "metadata": {},
     "output_type": "display_data"
    },
    {
     "data": {
      "image/png": "[encoded data removed]",
      "text/plain": [
       "<Figure size 288x288 with 1 Axes>"
      ]
     },
     "metadata": {
      "needs_background": "light"
     },
     "output_type": "display_data"
    }
   ],
   "source": [
    "from matplotlib import pyplot as plt\n",
    "sample_xout = ae_model(sample_x)\n",
    "for j in range(sample_x.shape[-1]):\n",
    "    print(f'channel {j}\\t' +\\\n",
    "          f'pred {tf.reduce_sum(sample_xout[...,j]).numpy():<4.2f}\\t' +\\\n",
    "          f'real {tf.reduce_sum(sample_x[...,j]).numpy():<4.2f}')\n",
    "\n",
    "idx = np.random.choice(sample_xout.shape[0])\n",
    "jdx = np.random.choice(sample_xout.shape[-1])\n",
    "\n",
    "jdx = 0 # DAPI\n",
    "\n",
    "print(idx, jdx)\n",
    "sx = sample_x.numpy()[idx, :,:, jdx]\n",
    "sxout = sample_xout.numpy()[idx, :,:, jdx] \n",
    "print(jdx, sx.sum(), sxout.sum())\n",
    "\n",
    "plt.figure()\n",
    "plt.matshow(sx)# / sx.max())\n",
    "\n",
    "plt.figure()\n",
    "plt.matshow(sxout)# / sxout.max())"
   ]
  },
  {
   "cell_type": "code",
   "execution_count": null,
   "metadata": {},
   "outputs": [],
   "source": []
  },
  {
   "cell_type": "code",
   "execution_count": null,
   "metadata": {},
   "outputs": [],
   "source": []
  }
 ],
 "metadata": {
  "kernelspec": {
   "display_name": "Python 3",
   "language": "python",
   "name": "python3"
  },
  "language_info": {
   "codemirror_mode": {
    "name": "ipython",
    "version": 3
   },
   "file_extension": ".py",
   "mimetype": "text/x-python",
   "name": "python",
   "nbconvert_exporter": "python",
   "pygments_lexer": "ipython3",
   "version": "3.8.5"
  }
 },
 "nbformat": 4,
 "nbformat_minor": 4
}
