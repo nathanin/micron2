{
 "cells": [
  {
   "cell_type": "code",
   "execution_count": null,
   "metadata": {},
   "outputs": [],
   "source": [
    "%load_ext autoreload\n",
    "%autoreload 2\n",
    "import os\n",
    "import numpy as np\n",
    "import pandas as pd\n",
    "\n",
    "import tensorflow as tf\n",
    "physical_devices = tf.config.list_physical_devices('GPU')\n",
    "tf.config.experimental.set_memory_growth(physical_devices[0], True)\n",
    "\n",
    "from micron2.clustering import Autoencoder, train_AE_simCLR\n",
    "from micron2.data import stream_dataset\n",
    "\n",
    "import h5py\n",
    "import tqdm.auto as tqdm"
   ]
  },
  {
   "cell_type": "code",
   "execution_count": null,
   "metadata": {},
   "outputs": [],
   "source": [
    "use_channels = ['DAPI', 'CD45', 'PanCytoK', 'CD3e', 'CD4', 'CD8', 'PDGFRb', 'CD20', 'CD68', 'IgG']\n",
    "with h5py.File('/home/ingn/tmp/micron2-data/dataset.hdf5', 'r') as f:\n",
    "    all_channels = [b.decode('UTF-8') for b in f['meta/channel_names'][:]]\n",
    "    print(all_channels)\n",
    "\n",
    "    means = tf.constant([f[f'intensity/{c}'].attrs['mean'] for c in use_channels], \n",
    "                        dtype=tf.float32)\n",
    "    stds = tf.constant([f[f'intensity/{c}'].attrs['std'] for c in use_channels],\n",
    "                       dtype=tf.float32)\n",
    "    print(means)\n",
    "    print(stds)\n"
   ]
  },
  {
   "cell_type": "code",
   "execution_count": null,
   "metadata": {},
   "outputs": [],
   "source": [
    "print(use_channels)\n",
    "\n",
    "def process(x):\n",
    "    \"\"\"\n",
    "    x is [N, h, w, c]\n",
    "    \"\"\"\n",
    "    x = tf.cast(x, tf.float32)\n",
    "    x = (x - means) / stds\n",
    "    \n",
    "    # x = tf.cast(x, tf.float32)/255.\n",
    "    # x = tf.transpose(tf.image.per_image_standardization(tf.transpose(x)))\n",
    "    return x\n",
    "    \n",
    "dataset = stream_dataset('/home/ingn/tmp/micron2-data/dataset.hdf5', use_channels=use_channels)\n",
    "dataset = (dataset.repeat(10)\n",
    "           .shuffle(1024 * 4)\n",
    "           .map(process)\n",
    "           .batch(8)\n",
    "           .prefetch(32)\n",
    "           #.apply(tf.data.experimental.prefetch_to_device(\"/gpu:0\"))\n",
    "          )\n",
    "\n",
    "for sample_x in dataset:\n",
    "    break\n",
    "    \n",
    "print(sample_x.shape)\n",
    "for k in range(sample_x.shape[-1]):\n",
    "    print(use_channels[k], sample_x.numpy()[...,k].mean())"
   ]
  },
  {
   "cell_type": "code",
   "execution_count": null,
   "metadata": {},
   "outputs": [],
   "source": [
    "sample_x = tf.image.random_crop(sample_x, size=(sample_x.shape[0], 48, 48, sample_x.shape[-1]))\n",
    "ae_model = Autoencoder(input_shape=sample_x.shape[1:])"
   ]
  },
  {
   "cell_type": "code",
   "execution_count": null,
   "metadata": {},
   "outputs": [],
   "source": [
    "y, z_g = ae_model(sample_x, return_g=True)\n",
    "print(y.shape)\n",
    "print(z_g.shape)\n",
    "z = ae_model.encode(sample_x)\n",
    "print(z.shape)\n",
    "\n",
    "ae_model.summary()"
   ]
  },
  {
   "cell_type": "code",
   "execution_count": null,
   "metadata": {},
   "outputs": [],
   "source": [
    "outdir = '/home/ingn/tmp/micron2-data/single_simclr'\n",
    "import os\n",
    "if os.path.exists(f'{outdir}/weights.h5'):\n",
    "    ae_model.load_weights(f'{outdir}/weights.h5')"
   ]
  },
  {
   "cell_type": "code",
   "execution_count": null,
   "metadata": {},
   "outputs": [],
   "source": [
    "train_AE_simCLR(dataset, ae_model, batch_reps=1)"
   ]
  },
  {
   "cell_type": "code",
   "execution_count": null,
   "metadata": {},
   "outputs": [],
   "source": [
    "ae_model.save_weights(f'{outdir}/weights.h5')"
   ]
  },
  {
   "cell_type": "code",
   "execution_count": null,
   "metadata": {},
   "outputs": [],
   "source": [
    "!ls -lha trained_simclr"
   ]
  },
  {
   "cell_type": "code",
   "execution_count": null,
   "metadata": {},
   "outputs": [],
   "source": [
    "from matplotlib import pyplot as plt\n",
    "sample_xout = ae_model(sample_x)\n",
    "for j in range(sample_x.shape[-1]):\n",
    "    print(f'channel {j}\\t' +\\\n",
    "          f'{use_channels[j]:<10}\\t'\n",
    "          f'pred {tf.reduce_sum(sample_xout[...,j]).numpy():<4.2f}\\t' +\\\n",
    "          f'real {tf.reduce_sum(sample_x[...,j]).numpy():<4.2f}')\n",
    "\n",
    "idx = np.random.choice(sample_xout.shape[0])\n",
    "jdx = np.random.choice(sample_xout.shape[-1])\n",
    "\n",
    "# jdx = 0 \n",
    "\n",
    "print(idx, jdx)\n",
    "sx = sample_x.numpy()[idx, :,:, jdx]\n",
    "sxout = sample_xout.numpy()[idx, :,:, jdx] \n",
    "print(jdx, sx.sum(), sxout.sum())\n",
    "\n",
    "plt.figure()\n",
    "plt.matshow(sx)# / sx.max())\n",
    "plt.colorbar()\n",
    "\n",
    "plt.figure()\n",
    "plt.matshow(sxout)# / sxout.max())\n",
    "plt.colorbar()"
   ]
  },
  {
   "cell_type": "code",
   "execution_count": null,
   "metadata": {},
   "outputs": [],
   "source": []
  },
  {
   "cell_type": "code",
   "execution_count": null,
   "metadata": {},
   "outputs": [],
   "source": []
  }
 ],
 "metadata": {
  "kernelspec": {
   "display_name": "Python 3",
   "language": "python",
   "name": "python3"
  },
  "language_info": {
   "codemirror_mode": {
    "name": "ipython",
    "version": 3
   },
   "file_extension": ".py",
   "mimetype": "text/x-python",
   "name": "python",
   "nbconvert_exporter": "python",
   "pygments_lexer": "ipython3",
   "version": "3.7.9"
  }
 },
 "nbformat": 4,
 "nbformat_minor": 4
}
