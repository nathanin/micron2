{
 "cells": [
  {
   "cell_type": "code",
   "execution_count": null,
   "id": "faced-tumor",
   "metadata": {},
   "outputs": [],
   "source": [
    "\"\"\"\n",
    "\n",
    "We want to detect the situation of staining spillover from one cell\n",
    "with real expression of the stain -- marked around the whole perimeter --\n",
    "to a neighbor cell -- marked only in one area.\n",
    "\n",
    "\"\"\"\n",
    "\n",
    "%load_ext autoreload\n",
    "%autoreload 2\n",
    "import numpy as np\n",
    "import pandas as pd\n",
    "import h5py\n",
    "\n",
    "%matplotlib inline\n",
    "from matplotlib import pyplot as plt\n",
    "import seaborn as sns\n",
    "\n",
    "import cv2"
   ]
  },
  {
   "cell_type": "code",
   "execution_count": null,
   "id": "greenhouse-niagara",
   "metadata": {},
   "outputs": [],
   "source": [
    "!ls /storage/codex/datasets_v1/*reg*.hdf5"
   ]
  },
  {
   "cell_type": "code",
   "execution_count": null,
   "id": "decimal-algebra",
   "metadata": {},
   "outputs": [],
   "source": [
    "h5f = h5py.File('/storage/codex/datasets_v1/210113_Breast_Cassette11_reg1.hdf5', 'r')\n",
    "print(h5f.keys())"
   ]
  },
  {
   "cell_type": "code",
   "execution_count": null,
   "id": "increased-switzerland",
   "metadata": {},
   "outputs": [],
   "source": [
    "print(h5f['cells'].keys())"
   ]
  },
  {
   "cell_type": "code",
   "execution_count": null,
   "id": "delayed-console",
   "metadata": {},
   "outputs": [],
   "source": [
    "print(h5f['meta'].keys())"
   ]
  },
  {
   "cell_type": "code",
   "execution_count": null,
   "id": "liable-reconstruction",
   "metadata": {},
   "outputs": [],
   "source": [
    "print(h5f['meta']['nuclear_masks'].shape)"
   ]
  },
  {
   "cell_type": "code",
   "execution_count": null,
   "id": "necessary-tenant",
   "metadata": {},
   "outputs": [],
   "source": [
    "kernel = np.ones((3,3))\n",
    "\n",
    "def staining_border_nonzero(h5f, channel, i, kernel=kernel):\n",
    "    x = h5f['cells'][channel][i,...]\n",
    "    m = h5f['meta']['nuclear_masks'][i,...]\n",
    "    \n",
    "    md = cv2.dilate(m.astype(np.uint8),kernel,2)\n",
    "    me = cv2.erode(m.astype(np.uint8),kernel,1)\n",
    "#     border=md-m\n",
    "#     inside=m-me\n",
    "    border_signal=x[(md-me)>0]\n",
    "    return np.sum(border_signal > 0)/len(border_signal)\n"
   ]
  },
  {
   "cell_type": "code",
   "execution_count": null,
   "id": "convenient-translator",
   "metadata": {},
   "outputs": [],
   "source": [
    "cell_ids = np.array([x.decode('utf-8') for x in h5f['meta']['Cell_IDs'][:]])\n",
    "# cell_ids"
   ]
  },
  {
   "cell_type": "code",
   "execution_count": null,
   "id": "registered-sample",
   "metadata": {},
   "outputs": [],
   "source": [
    "ncells = len(h5f['meta']['Cell_IDs'][:])\n",
    "border_nz = np.array([staining_border_nonzero(h5f, 'CD3e', i) for i in range(ncells)])"
   ]
  },
  {
   "cell_type": "code",
   "execution_count": null,
   "id": "latter-shell",
   "metadata": {},
   "outputs": [],
   "source": [
    "cell_means = h5f['cell_intensity']['CD3e'][:]"
   ]
  },
  {
   "cell_type": "code",
   "execution_count": null,
   "id": "numeric-screen",
   "metadata": {},
   "outputs": [],
   "source": []
  },
  {
   "cell_type": "code",
   "execution_count": null,
   "id": "young-charter",
   "metadata": {},
   "outputs": [],
   "source": [
    "inds = np.arange(ncells)\n",
    "bs = border_nz.copy()\n",
    "# bs[cell_means==0] = 0\n",
    "bs[bs<0.2] = 0\n",
    "inds_srt = inds[np.argsort(bs)]\n",
    "inds_srt_r = inds[np.argsort(-bs)]\n",
    "print((bs>0).sum())"
   ]
  },
  {
   "cell_type": "code",
   "execution_count": null,
   "id": "graduate-biography",
   "metadata": {},
   "outputs": [],
   "source": [
    "offs=(bs==0).sum()\n",
    "bs[inds_srt[offs]]"
   ]
  },
  {
   "cell_type": "code",
   "execution_count": null,
   "id": "nearby-watson",
   "metadata": {},
   "outputs": [],
   "source": [
    "fig,axs=plt.subplots(5,5,figsize=(8,8),dpi=90)\n",
    "axs=axs.ravel()\n",
    "offs=(bs==0).sum()+6000\n",
    "# offs=5500\n",
    "# offs=0\n",
    "print(offs)\n",
    "for j,ax in enumerate(axs):\n",
    "    ji = inds_srt[j+offs]\n",
    "    print(bs[ji])\n",
    "    m = h5f['meta']['nuclear_masks'][ji,...].astype(np.uint8)\n",
    "    \n",
    "    w = cv2.dilate(m,kernel,2)\n",
    "    e = cv2.erode(m,kernel,1)\n",
    "    \n",
    "    img = h5f['cells']['CD3e'][ji,...]\n",
    "    img[(w-e)>0] = img.max()\n",
    "    \n",
    "    ax.matshow(img)\n",
    "    ax.set_xticks([])\n",
    "    ax.set_yticks([])"
   ]
  },
  {
   "cell_type": "code",
   "execution_count": null,
   "id": "figured-midwest",
   "metadata": {},
   "outputs": [],
   "source": [
    "bz = bs[inds_srt_r]\n",
    "bz = bz[cell_means[inds_srt_r]>0]\n",
    "plt.scatter(np.arange(len(bz)), bz,s=1)\n",
    "plt.xlabel('sorted order')\n",
    "plt.ylabel('percent nucleus ring >0')"
   ]
  },
  {
   "cell_type": "code",
   "execution_count": null,
   "id": "tender-beginning",
   "metadata": {},
   "outputs": [],
   "source": []
  },
  {
   "cell_type": "code",
   "execution_count": null,
   "id": "professional-blend",
   "metadata": {},
   "outputs": [],
   "source": []
  },
  {
   "cell_type": "code",
   "execution_count": null,
   "id": "seasonal-privacy",
   "metadata": {},
   "outputs": [],
   "source": []
  }
 ],
 "metadata": {
  "kernelspec": {
   "display_name": "Python 3",
   "language": "python",
   "name": "python3"
  },
  "language_info": {
   "codemirror_mode": {
    "name": "ipython",
    "version": 3
   },
   "file_extension": ".py",
   "mimetype": "text/x-python",
   "name": "python",
   "nbconvert_exporter": "python",
   "pygments_lexer": "ipython3",
   "version": "3.8.5"
  }
 },
 "nbformat": 4,
 "nbformat_minor": 5
}
