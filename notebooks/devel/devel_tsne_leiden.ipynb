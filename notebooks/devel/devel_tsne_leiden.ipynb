{
 "cells": [
  {
   "cell_type": "code",
   "execution_count": null,
   "metadata": {},
   "outputs": [],
   "source": [
    "# devel clustering from features"
   ]
  },
  {
   "cell_type": "code",
   "execution_count": null,
   "metadata": {},
   "outputs": [],
   "source": [
    "import numpy as np\n",
    "import leidenalg\n",
    "import igraph\n",
    "import h5py\n",
    "from MulticoreTSNE import MulticoreTSNE\n",
    "\n",
    "%matplotlib inline\n",
    "from matplotlib import pyplot as plt\n",
    "import seaborn as sns\n",
    "\n",
    "from sklearn.neighbors import NearestNeighbors, kneighbors_graph"
   ]
  },
  {
   "cell_type": "code",
   "execution_count": null,
   "metadata": {},
   "outputs": [],
   "source": [
    "z = np.load('z_L2.npy')\n",
    "print(z.shape)\n",
    "print((z.sum(axis=0)==0).sum())"
   ]
  },
  {
   "cell_type": "code",
   "execution_count": null,
   "metadata": {},
   "outputs": [],
   "source": [
    "zidx = np.sort(np.random.choice(z.shape[0], 15000, replace=False))\n",
    "zsample = z[zidx]\n",
    "tsne = MulticoreTSNE(n_jobs=8, verbose=2)\n",
    "emb = tsne.fit_transform(zsample)\n",
    "print(emb.shape)"
   ]
  },
  {
   "cell_type": "code",
   "execution_count": null,
   "metadata": {},
   "outputs": [],
   "source": [
    "adj = kneighbors_graph(zsample, n_neighbors=10, n_jobs=8)\n",
    "sources, targets = adj.nonzero()\n",
    "edgelist = zip(sources.tolist(), targets.tolist())\n",
    "nn_graph = igraph.Graph(edgelist)\n",
    "\n",
    "part = leidenalg.find_partition(nn_graph, leidenalg.RBConfigurationVertexPartition,\n",
    "                                resolution_parameter=0.6)\n",
    "\n",
    "groups = np.array(part.membership)\n",
    "print(groups.shape)"
   ]
  },
  {
   "cell_type": "code",
   "execution_count": null,
   "metadata": {},
   "outputs": [],
   "source": [
    "plt.figure(figsize=(5,5))\n",
    "for g in np.unique(groups):\n",
    "    i = groups==g\n",
    "    plt.scatter(emb[i,0], emb[i,1], s=2, label=f'{g:02d}')\n",
    "plt.legend(bbox_to_anchor=(1,1), markerscale=5)"
   ]
  },
  {
   "cell_type": "code",
   "execution_count": null,
   "metadata": {},
   "outputs": [],
   "source": [
    "h5f = h5py.File(\"/dev/shm/dataset.hdf5\", \"r\")"
   ]
  },
  {
   "cell_type": "code",
   "execution_count": null,
   "metadata": {},
   "outputs": [],
   "source": [
    "print(h5f.keys())\n",
    "print(h5f['cells'].keys())\n",
    "print(h5f['meta'].keys())\n",
    "print(h5f['intensity'].keys())"
   ]
  },
  {
   "cell_type": "code",
   "execution_count": null,
   "metadata": {},
   "outputs": [],
   "source": [
    "coords = h5f['meta/coordinates'][:]\n",
    "coords = coords[zidx]\n",
    "# Flip the y coords\n",
    "coords[:,1] = -coords[:,1]"
   ]
  },
  {
   "cell_type": "code",
   "execution_count": null,
   "metadata": {},
   "outputs": [],
   "source": [
    "def plot_embedding(emb, values, title=None, categorical=False, size=2, ax=None, figsize=(3,3),\n",
    "                   hideticks=True):\n",
    "    \"\"\"\n",
    "    Scatter plot some cells\n",
    "\n",
    "    Args:\n",
    "        emb (np.float32): (n_cells x 2)\n",
    "        values (np.float32, np.int): (n_cells)\n",
    "        categorical (bool): Whether to treat values as categorical (i.e. groups)\n",
    "        ax (matplotlib.pyplot.Axes): axis to use\n",
    "\n",
    "    Returns:\n",
    "        -\n",
    "    \"\"\"\n",
    "    if ax is None:\n",
    "        plt.figure(figsize=figsize)\n",
    "        ax = plt.gca()\n",
    "        \n",
    "    if not categorical:\n",
    "        srt = np.argsort(values)\n",
    "        emb = emb[srt,:]\n",
    "        values = values[srt]\n",
    "        sp = ax.scatter(emb[:,0], emb[:,1], s=size, c=values)\n",
    "        plt.colorbar(sp, ax=ax)\n",
    "    \n",
    "    else:\n",
    "        for v in np.unique(values):\n",
    "            ix = values == v\n",
    "            ax.scatter(emb[ix, 0], emb[ix, 1], s=size, label=v)\n",
    "        plt.legend(bbox_to_anchor=(1,1))\n",
    "    \n",
    "    if title is not None:\n",
    "        ax.set_title(title)\n",
    "    if hideticks:\n",
    "        ax.set_xticks([])\n",
    "        ax.set_xticklabels([])\n",
    "        ax.set_yticks([])\n",
    "        ax.set_yticklabels([])"
   ]
  },
  {
   "cell_type": "code",
   "execution_count": null,
   "metadata": {},
   "outputs": [],
   "source": [
    "channel_names = [b.decode('UTF-8') for b in h5f['meta/channel_names'][:]]"
   ]
  },
  {
   "cell_type": "code",
   "execution_count": null,
   "metadata": {},
   "outputs": [],
   "source": [
    "fig, axs = plt.subplots(5,8, figsize=(16,10), gridspec_kw=dict(hspace=0.5, wspace=0.5))\n",
    "for channel, ax in zip(channel_names, axs.ravel()):\n",
    "    # Its faster to load the whole thing then subset?\n",
    "    color_vals = h5f[f'intensity/{channel}'][:]\n",
    "    color_vals = color_vals[zidx]\n",
    "    plot_embedding(emb, np.log1p(color_vals), title=channel, ax=ax)"
   ]
  },
  {
   "cell_type": "code",
   "execution_count": null,
   "metadata": {},
   "outputs": [],
   "source": [
    "fig, axs = plt.subplots(8,5, figsize=(20, 12), dpi=180, gridspec_kw=dict(hspace=0.5, wspace=0.5))\n",
    "for channel, ax in zip(channel_names, axs.ravel()):\n",
    "    # Its faster to load the whole thing then subset?\n",
    "    color_vals = h5f[f'intensity/{channel}'][:]\n",
    "    color_vals = color_vals[zidx]\n",
    "    plot_embedding(coords, np.log1p(color_vals), title=channel, size=1, ax=ax)"
   ]
  },
  {
   "cell_type": "code",
   "execution_count": null,
   "metadata": {},
   "outputs": [],
   "source": [
    "plt.figure(figsize=(10,4), dpi=180)\n",
    "ax = plt.gca()\n",
    "plot_embedding(coords, groups, categorical=True, title='simCLR leiden', size=0.5, ax=ax)"
   ]
  },
  {
   "cell_type": "code",
   "execution_count": null,
   "metadata": {},
   "outputs": [],
   "source": [
    "plt.figure(figsize=(4,4), dpi=180)\n",
    "ax = plt.gca()\n",
    "plot_embedding(emb, groups, categorical=True, title='simCLR leiden', size=0.5, ax=ax)"
   ]
  },
  {
   "cell_type": "code",
   "execution_count": null,
   "metadata": {},
   "outputs": [],
   "source": []
  },
  {
   "cell_type": "code",
   "execution_count": null,
   "metadata": {},
   "outputs": [],
   "source": [
    "plt.figure(figsize=(10,4), dpi=180)\n",
    "for g in np.unique(groups):\n",
    "    i = groups==g\n",
    "    plt.scatter(coords[i,0], -coords[i,1], s=2, label=f'{g:02d}')\n",
    "plt.legend(bbox_to_anchor=(1,1), markerscale=5)"
   ]
  },
  {
   "cell_type": "code",
   "execution_count": null,
   "metadata": {},
   "outputs": [],
   "source": [
    "h5f.close()"
   ]
  },
  {
   "cell_type": "code",
   "execution_count": null,
   "metadata": {},
   "outputs": [],
   "source": []
  },
  {
   "cell_type": "code",
   "execution_count": null,
   "metadata": {},
   "outputs": [],
   "source": []
  }
 ],
 "metadata": {
  "kernelspec": {
   "display_name": "Python 3",
   "language": "python",
   "name": "python3"
  },
  "language_info": {
   "codemirror_mode": {
    "name": "ipython",
    "version": 3
   },
   "file_extension": ".py",
   "mimetype": "text/x-python",
   "name": "python",
   "nbconvert_exporter": "python",
   "pygments_lexer": "ipython3",
   "version": "3.8.5"
  }
 },
 "nbformat": 4,
 "nbformat_minor": 4
}
