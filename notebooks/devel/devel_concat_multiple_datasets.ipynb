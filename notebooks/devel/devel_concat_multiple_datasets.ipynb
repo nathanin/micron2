{
 "cells": [
  {
   "cell_type": "markdown",
   "metadata": {},
   "source": [
    "We need to deal with multiple slides, all stained with a common set of markers,\n",
    "and creating a common set of annotations"
   ]
  },
  {
   "cell_type": "code",
   "execution_count": null,
   "metadata": {},
   "outputs": [],
   "source": [
    "%load_ext autoreload\n",
    "%autoreload 2\n",
    "%matplotlib inline\n",
    "\n",
    "import numpy as np\n",
    "import pandas as pd\n",
    "\n",
    "import os\n",
    "\n",
    "from matplotlib import pyplot as plt\n",
    "from micron2.data import load_as_anndata\n",
    "from micron2.clustering import cluster_leiden_cu"
   ]
  },
  {
   "cell_type": "code",
   "execution_count": null,
   "metadata": {},
   "outputs": [],
   "source": [
    "datasets = [\n",
    "    '/storage/codex/datasets_v1/201021_BreastFFPE_Final.hdf5',\n",
    "    '/storage/codex/datasets_v1/210113_Breast_Cassette11_reg1.hdf5'\n",
    "]"
   ]
  },
  {
   "cell_type": "code",
   "execution_count": null,
   "metadata": {},
   "outputs": [],
   "source": [
    "adatas = []\n",
    "for path in datasets:\n",
    "    adatas.append(load_as_anndata(path))"
   ]
  },
  {
   "cell_type": "code",
   "execution_count": null,
   "metadata": {},
   "outputs": [],
   "source": [
    "adatas[0]"
   ]
  },
  {
   "cell_type": "code",
   "execution_count": null,
   "metadata": {},
   "outputs": [],
   "source": [
    "def concat_codex_anndatas(adatas):\n",
    "    \"\"\"\n",
    "    Concatenate codex AnnData datasets. \n",
    "    This should be relatively straightforward, except for the handling of coordinates.\n",
    "    \n",
    "    Option 1:\n",
    "    Use an offset dictionary relative to the first anndata. \n",
    "    offset_dict = {\n",
    "        ad1: {row_offset: 0, col_offset: 0}},\n",
    "        ad2: {row_offset: 0, col_offset: ad1.col_max+pad}},\n",
    "        ad3: {row_offset: 0, col_offset: ad2.col_max+pad}},\n",
    "        ad4: {row_offset: ad1.row_max+pad, col_offset:0 }},\n",
    "        ad5: {row_offset: ad2.row_max+pad, col_offset:0 }},\n",
    "    }\n",
    "    That should let us use the coordinates naturally in sc.pl.embedding() family functions\n",
    "    \"\"\"\n",
    "    pass\n",
    "    "
   ]
  },
  {
   "cell_type": "code",
   "execution_count": null,
   "metadata": {},
   "outputs": [],
   "source": [
    "features1 = adatas[0]."
   ]
  },
  {
   "cell_type": "code",
   "execution_count": null,
   "metadata": {},
   "outputs": [],
   "source": [
    "adatas[1].var_names"
   ]
  }
 ],
 "metadata": {
  "kernelspec": {
   "display_name": "Python 3",
   "language": "python",
   "name": "python3"
  },
  "language_info": {
   "codemirror_mode": {
    "name": "ipython",
    "version": 3
   },
   "file_extension": ".py",
   "mimetype": "text/x-python",
   "name": "python",
   "nbconvert_exporter": "python",
   "pygments_lexer": "ipython3",
   "version": "3.8.6"
  }
 },
 "nbformat": 4,
 "nbformat_minor": 4
}
