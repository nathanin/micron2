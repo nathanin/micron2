{
 "cells": [
  {
   "cell_type": "code",
   "execution_count": null,
   "metadata": {},
   "outputs": [],
   "source": [
    "import numpy as np\n",
    "import time\n",
    "import h5py\n",
    "\n",
    "import tensorflow as tf\n",
    "import tensorflow_io as tfio\n",
    "\n",
    "%matplotlib inline\n",
    "from matplotlib import pyplot as plt"
   ]
  },
  {
   "cell_type": "code",
   "execution_count": null,
   "metadata": {},
   "outputs": [],
   "source": [
    "!ls tests"
   ]
  },
  {
   "cell_type": "code",
   "execution_count": null,
   "metadata": {},
   "outputs": [],
   "source": [
    "fpath = 'tests/dataset.hdf5'"
   ]
  },
  {
   "cell_type": "code",
   "execution_count": null,
   "metadata": {},
   "outputs": [],
   "source": [
    "channels = ['DAPI', 'CD45', 'PanCytoK']\n",
    "channel_ds = [tfio.IODataset.from_hdf5(fpath, f'/cells/{c}') for c in channels]\n",
    "def process_channels(*x):\n",
    "    x = [x_ / tf.reduce_max(x_) for x_ in x]\n",
    "    x = tf.stack(x, axis=-1)\n",
    "    #x = x  / tf.reduce_max(x)\n",
    "    return x\n",
    "dataset = (tf.data.Dataset.zip(tuple(channel_ds))\n",
    "           .map(process_channels)\n",
    "           .shuffle(4096)\n",
    "          )\n",
    "dataset"
   ]
  },
  {
   "cell_type": "code",
   "execution_count": null,
   "metadata": {},
   "outputs": [],
   "source": [
    "fig, axs = plt.subplots(7,7, figsize=(8,8), dpi=180)\n",
    "for x, ax in zip(dataset, axs.ravel()):\n",
    "    x = x.numpy()\n",
    "    ax.imshow(x)\n",
    "    "
   ]
  },
  {
   "cell_type": "code",
   "execution_count": null,
   "metadata": {},
   "outputs": [],
   "source": []
  }
 ],
 "metadata": {
  "kernelspec": {
   "display_name": "Python 3",
   "language": "python",
   "name": "python3"
  },
  "language_info": {
   "codemirror_mode": {
    "name": "ipython",
    "version": 3
   },
   "file_extension": ".py",
   "mimetype": "text/x-python",
   "name": "python",
   "nbconvert_exporter": "python",
   "pygments_lexer": "ipython3",
   "version": "3.8.5"
  }
 },
 "nbformat": 4,
 "nbformat_minor": 4
}
