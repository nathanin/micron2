{
 "cells": [
  {
   "cell_type": "code",
   "execution_count": null,
   "metadata": {},
   "outputs": [],
   "source": [
    "# Find nearest neighbors in location space --> gather statistics"
   ]
  },
  {
   "cell_type": "code",
   "execution_count": null,
   "metadata": {},
   "outputs": [],
   "source": [
    "%load_ext autoreload\n",
    "%autoreload 2\n",
    "import numpy as np\n",
    "import pandas as pd\n",
    "\n",
    "import scanpy as sc\n",
    "\n",
    "import cudf\n",
    "import cugraph\n",
    "from cuml.neighbors import NearestNeighbors\n",
    "import cupy as cp\n",
    "\n",
    "%matplotlib inline\n",
    "from matplotlib import pyplot as plt\n",
    "import seaborn as sns"
   ]
  },
  {
   "cell_type": "code",
   "execution_count": null,
   "metadata": {},
   "outputs": [],
   "source": [
    "!ls tests/"
   ]
  },
  {
   "cell_type": "code",
   "execution_count": null,
   "metadata": {},
   "outputs": [],
   "source": [
    "ad = sc.read_h5ad(\"tests/dataset.h5ad\")\n",
    "ad"
   ]
  },
  {
   "cell_type": "code",
   "execution_count": null,
   "metadata": {},
   "outputs": [],
   "source": [
    "?NearestNeighbors.kneighbors"
   ]
  },
  {
   "cell_type": "code",
   "execution_count": null,
   "metadata": {},
   "outputs": [],
   "source": [
    "def get_neighbors(features, return_distances=False):\n",
    "    \"\"\"\n",
    "    Args:\n",
    "        features (np.ndarray): (n_cells x n_features)\n",
    "        return_distances (bool): whether to also return distances\n",
    "        \n",
    "    Return:\n",
    "        indices (cudf.DataFrame)\n",
    "        distances (cudf.DataFrame)\n",
    "    \"\"\"\n",
    "    \n",
    "    X_cudf = cudf.DataFrame(features)\n",
    "    model = NearestNeighbors(n_neighbors=6)\n",
    "    model.fit(features)\n",
    "\n",
    "    # kn_graph = model.kneighbors_graph(X_cudf)\n",
    "    distances, indices = model.kneighbors(X_cudf)\n",
    "    distances = distances.iloc[:, 1:] # Drop the self entry\n",
    "    indices = indices.iloc[:, 1:]\n",
    "    \n",
    "    if return_distances:\n",
    "        return indices, distances\n",
    "    else:\n",
    "        return indices\n",
    "    \n",
    "def pull_neighbors(indices , groups , target, mode='mask'):\n",
    "    \"\"\"\n",
    "    Pull indices of all the neighbors belonging to the target group in groups\n",
    "    \n",
    "    Note indices refer to 0-indexed cells\n",
    "    \n",
    "    Args:\n",
    "        indices (pandas.DataFrame): (n_cells x n_neighbors) --- should not include self.\n",
    "        groups (int or categorical): (n_cells) annotations\n",
    "        target (list, int or str): group ID in groups to focus\n",
    "        mode (str): ['indices', 'mask'] return indices or a boolean mask\n",
    "    Returns:\n",
    "        neighbors\n",
    "    \"\"\"\n",
    "    \n",
    "    if isinstance(target, list):\n",
    "        idx = np.sum([groups == t for t in target], axis=0) > 0\n",
    "    else:\n",
    "        idx = groups == target\n",
    "        \n",
    "    neighbors = np.unique(indices.loc[idx, :].values.ravel())\n",
    "    \n",
    "    if mode == 'indices':\n",
    "        return neighbors.get()\n",
    "    elif mode == 'mask':\n",
    "        idx = np.zeros(len(indices),dtype=bool)\n",
    "        idx[neighbors.get()] = 1\n",
    "        return idx\n",
    "    "
   ]
  },
  {
   "cell_type": "code",
   "execution_count": null,
   "metadata": {},
   "outputs": [],
   "source": [
    "group_id = 'mean_leiden'\n",
    "u_groups = np.unique(ad.obs[group_id])\n",
    "ncols = 4\n",
    "nrows = int(np.ceil(len(u_groups)/ncols))\n",
    "\n",
    "\n",
    "meta_clusters = np.zeros((len(u_groups), len(u_groups)))\n",
    "\n",
    "fig, axs = plt.subplots(nrows, ncols, figsize=(3.5*ncols, 2*nrows), dpi=180,\n",
    "                        gridspec_kw = dict(hspace=0.5, wspace=0.25))\n",
    "\n",
    "coords = ad.obsm['coordinates']\n",
    "indices = get_neighbors(coords)\n",
    "for i, (g, ax) in enumerate(zip(u_groups, axs.ravel())):\n",
    "    neighbors = pull_neighbors(indices, ad.obs[group_id], g) \n",
    "    vals, counts = np.unique(np.array(ad.obs.loc[neighbors, group_id]), return_counts=True)\n",
    "\n",
    "    # counts vector considering the possibility of missing values in the neighbor set\n",
    "    neighbor_counts = np.zeros(len(u_groups))\n",
    "    for j,k in enumerate(u_groups):\n",
    "        if (vals==k).sum() == 0:\n",
    "            continue\n",
    "        neighbor_counts[j] = counts[vals==k]\n",
    "\n",
    "    ax.bar(np.arange(len(u_groups)), neighbor_counts)\n",
    "    ax.set_title(g)\n",
    "        \n",
    "    meta_clusters[i,:] = neighbor_counts\n",
    "    \n",
    "sns.clustermap(pd.DataFrame(meta_clusters, index=u_groups, columns=u_groups).T.corr(method='kendall'), \n",
    "               cmap='RdBu_r', center=0, figsize=(7,7))"
   ]
  },
  {
   "cell_type": "code",
   "execution_count": null,
   "metadata": {},
   "outputs": [],
   "source": []
  },
  {
   "cell_type": "code",
   "execution_count": null,
   "metadata": {},
   "outputs": [],
   "source": []
  },
  {
   "cell_type": "code",
   "execution_count": null,
   "metadata": {},
   "outputs": [],
   "source": []
  },
  {
   "cell_type": "code",
   "execution_count": null,
   "metadata": {},
   "outputs": [],
   "source": []
  },
  {
   "cell_type": "code",
   "execution_count": null,
   "metadata": {},
   "outputs": [],
   "source": []
  },
  {
   "cell_type": "code",
   "execution_count": null,
   "metadata": {},
   "outputs": [],
   "source": []
  }
 ],
 "metadata": {
  "kernelspec": {
   "display_name": "Python 3",
   "language": "python",
   "name": "python3"
  },
  "language_info": {
   "codemirror_mode": {
    "name": "ipython",
    "version": 3
   },
   "file_extension": ".py",
   "mimetype": "text/x-python",
   "name": "python",
   "nbconvert_exporter": "python",
   "pygments_lexer": "ipython3",
   "version": "3.8.3"
  }
 },
 "nbformat": 4,
 "nbformat_minor": 4
}
